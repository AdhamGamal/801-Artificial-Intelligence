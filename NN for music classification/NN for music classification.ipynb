{
  "cells": [
    {
      "cell_type": "markdown",
      "source": [
        "# Lab 6:  Neural Networks for Music Classification\n",
        "\n",
        "In addition to the concepts in the [MNIST neural network demo](./mnist_neural.ipynb), in this lab, you will learn to:\n",
        "* Load a file from a URL\n",
        "* Extract simple features from audio samples for machine learning tasks such as speech recognition and classification\n",
        "* Build a simple neural network for music classification using these features\n",
        "* Use a callback to store the loss and accuracy history in the training process\n",
        "* Optimize the learning rate of the neural network\n",
        "\n",
        "To illustrate the basic concepts, we will look at a relatively simple music classification problem.  Given a sample of music, we want to determine which instrument (e.g. trumpet, violin, piano) is playing.  This dataset was generously supplied by [Prof. Juan Bello](http://steinhardt.nyu.edu/faculty/Juan_Pablo_Bello) at NYU Stenihardt  and his former PhD student Eric Humphrey (now at Spotify).  They have a complete website dedicated to deep learning methods in music informatics:\n",
        "\n",
        "http://marl.smusic.nyu.edu/wordpress/projects/feature-learning-deep-architectures/deep-learning-python-tutorial/\n",
        "\n",
        "You can also check out Juan's <a href=\"http://www.nyu.edu/classes/bello/ACA.html\">course</a>.\n",
        "\n"
      ],
      "metadata": {
        "id": "axI80vjcL8eb"
      }
    },
    {
      "cell_type": "markdown",
      "source": [
        "## Loading the Keras package\n",
        "We begin by loading keras and the other packages"
      ],
      "metadata": {
        "id": "vPiFrKxdL8ed"
      }
    },
    {
      "cell_type": "code",
      "source": [
        "import keras"
      ],
      "outputs": [],
      "execution_count": 1,
      "metadata": {
        "id": "cwtTkSPHL8ee"
      }
    },
    {
      "cell_type": "code",
      "source": [
        "import numpy as np\n",
        "import matplotlib\n",
        "import matplotlib.pyplot as plt\n",
        "%matplotlib inline"
      ],
      "outputs": [],
      "execution_count": 2,
      "metadata": {
        "collapsed": true,
        "id": "K4kZMGCiL8ef"
      }
    },
    {
      "cell_type": "markdown",
      "source": [
        "## Audio Feature Extraction with Librosa\n",
        "\n",
        "The key to audio classification is to extract the correct features. In addition to `keras`, we will need the `librosa` package.  The `librosa` package in python has a rich set of methods extracting the features of audio samples commonly used in machine learning tasks such as speech recognition and sound classification. \n",
        "\n",
        "Installation instructions and complete documentation for the package are given on the [librosa main page](https://librosa.github.io/librosa/).  On most systems, you should be able to simply use:\n",
        "\n",
        "    pip install -u librosa\n",
        "    \n",
        "For Unix, you may need to load some additional packages:\n",
        "\n",
        "    sudo apt-get install build-essential\n",
        "    sudo apt-get install libxext-dev python-qt4 qt4-dev-tools\n",
        "    pip install librosa\n",
        "    \n",
        "After you have installed the package, try to import it."
      ],
      "metadata": {
        "id": "q_FNW03ZL8ef"
      }
    },
    {
      "cell_type": "code",
      "source": [
        "import librosa\n",
        "import librosa.display\n",
        "import librosa.feature"
      ],
      "outputs": [],
      "execution_count": 3,
      "metadata": {
        "collapsed": true,
        "id": "UC6RnK5EL8eg"
      }
    },
    {
      "cell_type": "markdown",
      "source": [
        "In this lab, we will use a set of music samples from the website:\n",
        "\n",
        "http://theremin.music.uiowa.edu\n",
        "\n",
        "This website has a great set of samples for audio processing.  Look on the web for how to use the `requests.get` and `file.write` commands to load the file at the URL provided into your working directory.\n",
        "\n",
        "You can play the audio sample by copying the file to your local machine and playing it on any media player.  If you listen to it you will hear a soprano saxaphone (with vibrato) playing four notes (C, C#, D, Eb)."
      ],
      "metadata": {
        "id": "-FnD4nk8L8eg"
      }
    },
    {
      "cell_type": "code",
      "source": [
        "import requests\n",
        "fn = \"SopSax.Vib.pp.C6Eb6.aiff\"\n",
        "url = \"http://theremin.music.uiowa.edu/sound files/MIS/Woodwinds/sopranosaxophone/\"+fn\n",
        "\n",
        "# TODO:  Load the file from url and save it in a file under the name fn\n",
        "sound_file = requests.get(url, allow_redirects = True)\n",
        "open(fn, \"wb\").write(sound_file.content)"
      ],
      "outputs": [
        {
          "output_type": "execute_result",
          "data": {
            "text/plain": [
              "1418242"
            ]
          },
          "metadata": {},
          "execution_count": 4
        }
      ],
      "execution_count": 4,
      "metadata": {
        "colab": {
          "base_uri": "https://localhost:8080/"
        },
        "id": "yFjxYlrgL8eh",
        "outputId": "e22a642c-6251-45d8-e2ca-f025b4ccf039"
      }
    },
    {
      "cell_type": "markdown",
      "source": [
        "Next, use `librosa` command `librosa.load` to read the audio file with filename `fn` and get the samples `y` and sample rate `sr`."
      ],
      "metadata": {
        "id": "tK3tALzGL8eh"
      }
    },
    {
      "cell_type": "code",
      "source": [
        "# TODO\n",
        "y, sr = librosa.load(fn)"
      ],
      "outputs": [],
      "execution_count": 5,
      "metadata": {
        "collapsed": true,
        "id": "57GBlZILL8eh"
      }
    },
    {
      "cell_type": "markdown",
      "source": [
        "Extracting features from audio files is an entire subject on its own right.  A commonly used set of features are called the Mel Frequency Cepstral Coefficients (MFCCs).  These are derived from the so-called mel spectrogram which is something like a regular spectrogram, but the power and frequency are represented in log scale, which more naturally aligns with human perceptual processing.  You can run the code below to display the mel spectrogram from the audio sample.\n",
        "\n",
        "You can easily see the four notes played in the audio track.  You also see the 'harmonics' of each notes, which are other tones at integer multiples of the fundamental frequency of each note."
      ],
      "metadata": {
        "id": "xjCoo6WxL8ei"
      }
    },
    {
      "cell_type": "code",
      "source": [
        "S = librosa.feature.melspectrogram(y = y, sr = sr, n_mels = 128, fmax = 8000)\n",
        "librosa.display.specshow(librosa.amplitude_to_db(S, ref = np.max), y_axis = 'mel', fmax = 8000, x_axis = 'time')\n",
        "plt.colorbar(format = '%+2.0f dB')\n",
        "plt.title('Mel spectrogram')\n",
        "plt.tight_layout()"
      ],
      "outputs": [
        {
          "output_type": "display_data",
          "data": {
            "text/plain": [
              "<Figure size 432x288 with 2 Axes>"
            ],
            "image/png": "[encoded data removed]"
          },
          "metadata": {
            "needs_background": "light"
          }
        }
      ],
      "execution_count": 6,
      "metadata": {
        "colab": {
          "base_uri": "https://localhost:8080/",
          "height": 297
        },
        "id": "tHi3REEqL8ei",
        "outputId": "267ca516-f59e-4e62-dcff-2dbb865dc708"
      }
    },
    {
      "cell_type": "markdown",
      "source": [
        "## Downloading the Data\n",
        "\n",
        "Using the MFCC features described above, Eric Humphrey and Juan Bellow have created a complete data set that can used for instrument classification.  Essentially, they collected a number of data files from the website above.  For each audio file, the segmented the track into notes and then extracted 120 MFCCs for each note.  The goal is to recognize the instrument from the 120 MFCCs.  The process of feature extraction is quite involved.  So, we will just use their processed data provided at:\n",
        "\n",
        "https://github.com/marl/dl4mir-tutorial/blob/master/README.md\n",
        "\n",
        "Note the password.  Load the four files into some directory, say  `instrument_dataset`.  Then, load them with the commands."
      ],
      "metadata": {
        "id": "1NvFRKQDL8ei"
      }
    },
    {
      "cell_type": "code",
      "source": [
        "data_dir = 'instrument_dataset/'\n",
        "Xtr = np.load(data_dir + 'uiowa_train_data.npy')\n",
        "ytr = np.load(data_dir + 'uiowa_train_labels.npy')\n",
        "Xts = np.load(data_dir + 'uiowa_test_data.npy')\n",
        "yts = np.load(data_dir + 'uiowa_test_labels.npy')"
      ],
      "outputs": [],
      "execution_count": 7,
      "metadata": {
        "collapsed": true,
        "id": "jV30vyjqL8ei"
      }
    },
    {
      "cell_type": "markdown",
      "source": [
        "Looking at the data files:\n",
        "* What are the number of training and test samples?\n",
        "* What is the number of features for each sample?\n",
        "* How many classes (i.e. instruments) are there per class.\n"
      ],
      "metadata": {
        "id": "qSw895YHL8ej"
      }
    },
    {
      "cell_type": "code",
      "source": [
        "# TODO\n",
        "ntr = Xtr.shape[0]\n",
        "features_count = Xts.shape[1]\n",
        "classes_count = len(set(ytr))\n",
        "print(f'The number of training samples: {ntr}')\n",
        "print(f'The number of test samples: {Xts.shape[0]}')\n",
        "print(f'The number of features for each sample: {features_count}')\n",
        "print(f'The classes are : {set(ytr)}')\n",
        "classes, count = np.unique(ytr, return_counts = True)\n",
        "for i, c in enumerate(classes):\n",
        "  print(f'Class {c} happend: {count[i]} \\t times')"
      ],
      "outputs": [
        {
          "output_type": "stream",
          "name": "stdout",
          "text": [
            "The number of training samples: 66247\n",
            "The number of test samples: 14904\n",
            "The number of features for each sample: 120\n",
            "The classes are : {0, 1, 2, 3, 4, 5, 6, 7, 8, 9}\n",
            "Class 0 happend: 6737 \t times\n",
            "Class 1 happend: 2189 \t times\n",
            "Class 2 happend: 4167 \t times\n",
            "Class 3 happend: 8930 \t times\n",
            "Class 4 happend: 4185 \t times\n",
            "Class 5 happend: 8885 \t times\n",
            "Class 6 happend: 12250 \t times\n",
            "Class 7 happend: 2505 \t times\n",
            "Class 8 happend: 2056 \t times\n",
            "Class 9 happend: 14343 \t times\n"
          ]
        }
      ],
      "execution_count": 8,
      "metadata": {
        "colab": {
          "base_uri": "https://localhost:8080/"
        },
        "id": "WlaaladCL8ej",
        "outputId": "cb5cc60a-6e7b-481e-d08d-06a938285857"
      }
    },
    {
      "cell_type": "markdown",
      "source": [
        "Before continuing, you must scale the training and test data, `Xtr` and `Xts`.  Compute the mean and std deviation of each feature in `Xtr` and create a new training data set, `Xtr_scale`, by subtracting the mean and dividing by the std deviation.  Also compute a scaled test data set, `Xts_scale` using the mean and std deviation learned from the training data set."
      ],
      "metadata": {
        "id": "J9ygMrf_L8ej"
      }
    },
    {
      "cell_type": "code",
      "source": [
        "# TODO Scale the training and test matrices\n",
        "Xtr_mean = np.mean(Xtr, axis = 0)\n",
        "Xtr_std = np.std(Xtr, axis = 0)\n",
        "\n",
        "Xtr_scale = (Xtr - Xtr_mean) / Xtr_std\n",
        "Xts_scale = (Xts - Xtr_mean) / Xtr_std"
      ],
      "outputs": [],
      "execution_count": 9,
      "metadata": {
        "collapsed": true,
        "id": "vvqPgG2LL8ej"
      }
    },
    {
      "cell_type": "markdown",
      "source": [
        "## Building a Neural Network Classifier\n",
        "\n",
        "Following the example in [MNIST neural network demo](./mnist_neural.ipynb), clear the keras session.  Then, create a neural network `model` with:\n",
        "* `nh=256` hidden units\n",
        "* `sigmoid` activation\n",
        "* select the input and output shapes correctly\n",
        "* print the model summary"
      ],
      "metadata": {
        "collapsed": true,
        "id": "KiOTe4CRL8ej"
      }
    },
    {
      "cell_type": "code",
      "source": [
        "from keras.models import Model, Sequential\n",
        "from keras.layers import Dense, Activation"
      ],
      "outputs": [],
      "execution_count": 10,
      "metadata": {
        "collapsed": true,
        "id": "atK5aEdZL8ej"
      }
    },
    {
      "cell_type": "code",
      "source": [
        "# TODO clear session\n",
        "keras.backend.clear_session"
      ],
      "outputs": [
        {
          "output_type": "execute_result",
          "data": {
            "text/plain": [
              "<function keras.backend.clear_session()>"
            ]
          },
          "metadata": {},
          "execution_count": 11
        }
      ],
      "execution_count": 11,
      "metadata": {
        "colab": {
          "base_uri": "https://localhost:8080/"
        },
        "id": "cZ6bCLOlL8ek",
        "outputId": "0bc74f48-d995-45b0-e80e-c1f0b1222eea"
      }
    },
    {
      "cell_type": "code",
      "source": [
        "# TODO: construct the model\n",
        "def createModel():\n",
        "  return Sequential([\n",
        "      Dense(256, input_shape = (features_count,), activation = 'sigmoid', name='hidden'), # hidden layer as required\n",
        "      Dense(units = classes_count, activation = 'softmax', name = 'output') # output layer\n",
        "  ])\n",
        "  return model \n",
        "\n",
        "\n",
        "model = createModel()"
      ],
      "outputs": [],
      "execution_count": 12,
      "metadata": {
        "collapsed": true,
        "id": "LAR5aB9nL8ek"
      }
    },
    {
      "cell_type": "code",
      "source": [
        "# TODO:  Print the model summary\n",
        "model.summary()"
      ],
      "outputs": [
        {
          "output_type": "stream",
          "name": "stdout",
          "text": [
            "Model: \"sequential\"\n",
            "_________________________________________________________________\n",
            " Layer (type)                Output Shape              Param #   \n",
            "=================================================================\n",
            " hidden (Dense)              (None, 256)               30976     \n",
            "                                                                 \n",
            " output (Dense)              (None, 10)                2570      \n",
            "                                                                 \n",
            "=================================================================\n",
            "Total params: 33,546\n",
            "Trainable params: 33,546\n",
            "Non-trainable params: 0\n",
            "_________________________________________________________________\n"
          ]
        }
      ],
      "execution_count": 13,
      "metadata": {
        "colab": {
          "base_uri": "https://localhost:8080/"
        },
        "id": "0YTSo-iuL8ek",
        "outputId": "672861ec-279f-4cb0-9282-0b38e464efa8"
      }
    },
    {
      "cell_type": "markdown",
      "source": [
        "To keep track of the loss history and validation accuracy, we will use a *callback* function as described in [Keras callback documentation](https://keras.io/callbacks/).  A callback is a class that is passed to the `fit` method.  Complete the `LoadHistory` callback class below to save the loss and validation accuracy."
      ],
      "metadata": {
        "id": "PKcTcekML8ek"
      }
    },
    {
      "cell_type": "code",
      "source": [
        "class LossHistory(keras.callbacks.Callback):\n",
        "    def on_train_begin(self, logs={}):\n",
        "        # TODO:  Create two empty lists, self.loss and self.val_acc\n",
        "        self.loss = list()\n",
        "        self.val_acc = list()\n",
        "    def on_batch_end(self, batch, logs={}):\n",
        "        # TODO:  This is called at the end of each batch.  \n",
        "        # Add the loss in logs.get('loss') to the loss list\n",
        "        self.loss.append(logs.get('loss'))\n",
        "    def on_epoch_end(self, epoch, logs):\n",
        "        # TODO:  This is called at the end of each epoch.  \n",
        "        # Add the test accuracy in logs.get('val_acc') to the val_acc list\n",
        "        self.val_acc.append(logs.get('val_accuracy'))\n",
        "# Create an instance of the history callback\n",
        "history_cb = LossHistory()"
      ],
      "outputs": [],
      "execution_count": 14,
      "metadata": {
        "collapsed": true,
        "id": "TrpyvMvcL8ek"
      }
    },
    {
      "cell_type": "markdown",
      "source": [
        "Create an optimizer and compile the model.  Select the appropriate loss function and metrics.  For the optimizer, use the Adam optimizer with a learning rate of 0.001"
      ],
      "metadata": {
        "id": "wp6GshMwL8ek"
      }
    },
    {
      "cell_type": "code",
      "source": [
        "# TODO\n",
        "def compile(model, lr):\n",
        "  opt = keras.optimizers.Adam(learning_rate = lr)\n",
        "  model.compile(loss = 'sparse_categorical_crossentropy', optimizer = opt, metrics = ['accuracy'])\n",
        "\n",
        "compile(model, 0.001)"
      ],
      "outputs": [],
      "execution_count": 15,
      "metadata": {
        "collapsed": true,
        "scrolled": true,
        "id": "Ddcl9j9WL8ek"
      }
    },
    {
      "cell_type": "markdown",
      "source": [
        "Fit the model for 10 epochs using the scaled data for both the training and validation.  Use the `validation_data` option to pass the test data.  Also, pass the callback class create above.  Use a batch size of 100.  Your final accuracy should be >99%."
      ],
      "metadata": {
        "id": "p4LbgMr0L8em"
      }
    },
    {
      "cell_type": "code",
      "source": [
        "# TODO\n",
        "batch_size = 100\n",
        "epochs = 10\n",
        "def fit(model):\n",
        "  return model.fit(x = Xtr_scale, y = ytr, batch_size = batch_size, epochs = epochs, validation_data = (Xts_scale, yts), callbacks = [history_cb])\n",
        "\n",
        "fit(model)"
      ],
      "outputs": [
        {
          "output_type": "stream",
          "name": "stdout",
          "text": [
            "Epoch 1/10\n",
            "663/663 [==============================] - 8s 11ms/step - loss: 0.3703 - accuracy: 0.8990 - val_loss: 0.1878 - val_accuracy: 0.9467\n",
            "Epoch 2/10\n",
            "663/663 [==============================] - 5s 7ms/step - loss: 0.1063 - accuracy: 0.9740 - val_loss: 0.0985 - val_accuracy: 0.9723\n",
            "Epoch 3/10\n",
            "663/663 [==============================] - 3s 4ms/step - loss: 0.0626 - accuracy: 0.9849 - val_loss: 0.0683 - val_accuracy: 0.9807\n",
            "Epoch 4/10\n",
            "663/663 [==============================] - 3s 5ms/step - loss: 0.0439 - accuracy: 0.9893 - val_loss: 0.0485 - val_accuracy: 0.9866\n",
            "Epoch 5/10\n",
            "663/663 [==============================] - 2s 3ms/step - loss: 0.0331 - accuracy: 0.9914 - val_loss: 0.0467 - val_accuracy: 0.9857\n",
            "Epoch 6/10\n",
            "663/663 [==============================] - 2s 3ms/step - loss: 0.0263 - accuracy: 0.9932 - val_loss: 0.0383 - val_accuracy: 0.9893\n",
            "Epoch 7/10\n",
            "663/663 [==============================] - 2s 3ms/step - loss: 0.0216 - accuracy: 0.9946 - val_loss: 0.0307 - val_accuracy: 0.9915\n",
            "Epoch 8/10\n",
            "663/663 [==============================] - 2s 4ms/step - loss: 0.0182 - accuracy: 0.9950 - val_loss: 0.0263 - val_accuracy: 0.9911\n",
            "Epoch 9/10\n",
            "663/663 [==============================] - 4s 5ms/step - loss: 0.0153 - accuracy: 0.9958 - val_loss: 0.0247 - val_accuracy: 0.9922\n",
            "Epoch 10/10\n",
            "663/663 [==============================] - 2s 4ms/step - loss: 0.0132 - accuracy: 0.9968 - val_loss: 0.0216 - val_accuracy: 0.9927\n"
          ]
        },
        {
          "output_type": "execute_result",
          "data": {
            "text/plain": [
              "<keras.callbacks.History at 0x7f07e466ca60>"
            ]
          },
          "metadata": {},
          "execution_count": 16
        }
      ],
      "execution_count": 16,
      "metadata": {
        "scrolled": true,
        "colab": {
          "base_uri": "https://localhost:8080/"
        },
        "id": "uk_Nrm0pL8em",
        "outputId": "2508ed09-bda3-4c04-b077-2c3c5cd778dc"
      }
    },
    {
      "cell_type": "markdown",
      "source": [
        "Plot the validation accuracy saved in the `history_cb`. This gives one accuracy value per epoch.  You should see that the validation accuracy saturates at a little higher than 99%.  After that it \"bounces around\" due to the noise in the stochastic gradient descent."
      ],
      "metadata": {
        "id": "TNY7nVgeL8em"
      }
    },
    {
      "cell_type": "code",
      "source": [
        "# TODO\n",
        "plt.plot(range(1, epochs + 1), history_cb.val_acc)\n",
        "plt.xlabel('Epochs')\n",
        "plt.ylabel('Accuracy')"
      ],
      "outputs": [
        {
          "output_type": "execute_result",
          "data": {
            "text/plain": [
              "Text(0, 0.5, 'Accuracy')"
            ]
          },
          "metadata": {},
          "execution_count": 17
        },
        {
          "output_type": "display_data",
          "data": {
            "text/plain": [
              "<Figure size 432x288 with 1 Axes>"
            ],
            "image/png": "[encoded data removed]"
          },
          "metadata": {
            "needs_background": "light"
          }
        }
      ],
      "execution_count": 17,
      "metadata": {
        "colab": {
          "base_uri": "https://localhost:8080/",
          "height": 296
        },
        "id": "61tsRvNbL8em",
        "outputId": "d7e3f32b-ce42-41f3-fcc8-9361c0db61a0"
      }
    },
    {
      "cell_type": "markdown",
      "source": [
        "Plot the loss values saved in the `history_cb` class.  Use the `semilogy` plot.  There is one loss value per step.  But, plot the x-axis in epochs.  Note that the epoch in step `i` is `epoch = i*batch_size/ntr` where `batch_size` is the batch_size and `ntr` is the total number of training samples."
      ],
      "metadata": {
        "id": "uqvv05GaL8em"
      }
    },
    {
      "cell_type": "code",
      "source": [
        "# TODO\n",
        "def lossEpochs(loss):\n",
        "  epochs = []\n",
        "  for i in range(len(loss)):\n",
        "      epoch = i * batch_size / ntr\n",
        "      epochs.append(epoch)\n",
        "  return epochs\n",
        "\n",
        "plt.semilogy(lossEpochs(history_cb.loss), history_cb.loss)"
      ],
      "outputs": [
        {
          "output_type": "execute_result",
          "data": {
            "text/plain": [
              "[<matplotlib.lines.Line2D at 0x7f07dbfced90>]"
            ]
          },
          "metadata": {},
          "execution_count": 18
        },
        {
          "output_type": "display_data",
          "data": {
            "text/plain": [
              "<Figure size 432x288 with 1 Axes>"
            ],
            "image/png": "[encoded data removed]"
          },
          "metadata": {
            "needs_background": "light"
          }
        }
      ],
      "execution_count": 18,
      "metadata": {
        "colab": {
          "base_uri": "https://localhost:8080/",
          "height": 282
        },
        "id": "Gm8uGPr-L8em",
        "outputId": "b890a356-229a-4bdf-b835-0f3fe38c4b15"
      }
    },
    {
      "cell_type": "markdown",
      "source": [
        "## Optimizing the Learning Rate\n",
        "\n",
        "One challenge in training neural networks is the selection of the learning rate.  Rerun the above code, trying three learning rates as shown in the vector `rates`.  For each learning rate:\n",
        "* clear the session\n",
        "* construct the network\n",
        "* select the optimizer.  Use the Adam optimizer with the appropriate learrning rate.\n",
        "* train the model\n",
        "* save the accuracy and losses"
      ],
      "metadata": {
        "id": "OHs_lDoxL8em"
      }
    },
    {
      "cell_type": "code",
      "source": [
        "rates = [0.01, 0.001, 0.0001]\n",
        "batch_size = 100\n",
        "epochs = 10\n",
        "loss_hist = []\n",
        "val_acc_hist = []\n",
        "\n",
        "# TODO\n",
        "for lr in rates:\n",
        "  print(f'****************************************************')\n",
        "  print(f'Start of the Experiment where learning rate is {lr}.\\n')\n",
        "  keras.backend.clear_session\n",
        "  model = createModel()\n",
        "  compile(model, lr)\n",
        "  history = fit(model)\n",
        "  loss_hist.append(history.history['loss'])\n",
        "  val_acc_hist.append(history_cb.val_acc)\n",
        "  print(f'End of the Experiment.\\n')"
      ],
      "outputs": [
        {
          "output_type": "stream",
          "name": "stdout",
          "text": [
            "****************************************************\n",
            "Start of the Experiment where learning rate is 0.01.\n",
            "\n",
            "Epoch 1/10\n",
            "663/663 [==============================] - 3s 4ms/step - loss: 0.1035 - accuracy: 0.9671 - val_loss: 0.0609 - val_accuracy: 0.9747\n",
            "Epoch 2/10\n",
            "663/663 [==============================] - 2s 3ms/step - loss: 0.0276 - accuracy: 0.9907 - val_loss: 0.0513 - val_accuracy: 0.9831\n",
            "Epoch 3/10\n",
            "663/663 [==============================] - 2s 3ms/step - loss: 0.0205 - accuracy: 0.9932 - val_loss: 0.0371 - val_accuracy: 0.9854\n",
            "Epoch 4/10\n",
            "663/663 [==============================] - 2s 3ms/step - loss: 0.0167 - accuracy: 0.9943 - val_loss: 0.0494 - val_accuracy: 0.9848\n",
            "Epoch 5/10\n",
            "663/663 [==============================] - 3s 5ms/step - loss: 0.0186 - accuracy: 0.9939 - val_loss: 0.0512 - val_accuracy: 0.9837\n",
            "Epoch 6/10\n",
            "663/663 [==============================] - 2s 4ms/step - loss: 0.0137 - accuracy: 0.9956 - val_loss: 0.0439 - val_accuracy: 0.9864\n",
            "Epoch 7/10\n",
            "663/663 [==============================] - 2s 3ms/step - loss: 0.0139 - accuracy: 0.9956 - val_loss: 0.0349 - val_accuracy: 0.9889\n",
            "Epoch 8/10\n",
            "663/663 [==============================] - 2s 3ms/step - loss: 0.0121 - accuracy: 0.9962 - val_loss: 0.0365 - val_accuracy: 0.9894\n",
            "Epoch 9/10\n",
            "663/663 [==============================] - 2s 3ms/step - loss: 0.0106 - accuracy: 0.9967 - val_loss: 0.0995 - val_accuracy: 0.9784\n",
            "Epoch 10/10\n",
            "663/663 [==============================] - 4s 6ms/step - loss: 0.0109 - accuracy: 0.9964 - val_loss: 0.0556 - val_accuracy: 0.9856\n",
            "End of the Experiment.\n",
            "\n",
            "****************************************************\n",
            "Start of the Experiment where learning rate is 0.001.\n",
            "\n",
            "Epoch 1/10\n",
            "663/663 [==============================] - 5s 6ms/step - loss: 0.3555 - accuracy: 0.9031 - val_loss: 0.1752 - val_accuracy: 0.9567\n",
            "Epoch 2/10\n",
            "663/663 [==============================] - 4s 7ms/step - loss: 0.1002 - accuracy: 0.9763 - val_loss: 0.0918 - val_accuracy: 0.9788\n",
            "Epoch 3/10\n",
            "663/663 [==============================] - 6s 9ms/step - loss: 0.0590 - accuracy: 0.9857 - val_loss: 0.0653 - val_accuracy: 0.9831\n",
            "Epoch 4/10\n",
            "663/663 [==============================] - 2s 3ms/step - loss: 0.0416 - accuracy: 0.9894 - val_loss: 0.0491 - val_accuracy: 0.9858\n",
            "Epoch 5/10\n",
            "663/663 [==============================] - 2s 3ms/step - loss: 0.0314 - accuracy: 0.9918 - val_loss: 0.0445 - val_accuracy: 0.9871\n",
            "Epoch 6/10\n",
            "663/663 [==============================] - 2s 3ms/step - loss: 0.0249 - accuracy: 0.9935 - val_loss: 0.0374 - val_accuracy: 0.9887\n",
            "Epoch 7/10\n",
            "663/663 [==============================] - 3s 4ms/step - loss: 0.0204 - accuracy: 0.9947 - val_loss: 0.0345 - val_accuracy: 0.9885\n",
            "Epoch 8/10\n",
            "663/663 [==============================] - 3s 4ms/step - loss: 0.0173 - accuracy: 0.9954 - val_loss: 0.0337 - val_accuracy: 0.9889\n",
            "Epoch 9/10\n",
            "663/663 [==============================] - 2s 3ms/step - loss: 0.0147 - accuracy: 0.9963 - val_loss: 0.0316 - val_accuracy: 0.9894\n",
            "Epoch 10/10\n",
            "663/663 [==============================] - 2s 3ms/step - loss: 0.0130 - accuracy: 0.9965 - val_loss: 0.0282 - val_accuracy: 0.9899\n",
            "End of the Experiment.\n",
            "\n",
            "****************************************************\n",
            "Start of the Experiment where learning rate is 0.0001.\n",
            "\n",
            "Epoch 1/10\n",
            "663/663 [==============================] - 3s 4ms/step - loss: 1.1621 - accuracy: 0.6393 - val_loss: 0.8770 - val_accuracy: 0.6541\n",
            "Epoch 2/10\n",
            "663/663 [==============================] - 2s 3ms/step - loss: 0.5664 - accuracy: 0.8402 - val_loss: 0.5867 - val_accuracy: 0.8147\n",
            "Epoch 3/10\n",
            "663/663 [==============================] - 3s 5ms/step - loss: 0.3916 - accuracy: 0.9084 - val_loss: 0.4488 - val_accuracy: 0.8706\n",
            "Epoch 4/10\n",
            "663/663 [==============================] - 2s 4ms/step - loss: 0.3021 - accuracy: 0.9327 - val_loss: 0.3644 - val_accuracy: 0.8979\n",
            "Epoch 5/10\n",
            "663/663 [==============================] - 2s 3ms/step - loss: 0.2455 - accuracy: 0.9458 - val_loss: 0.3026 - val_accuracy: 0.9163\n",
            "Epoch 6/10\n",
            "663/663 [==============================] - 2s 3ms/step - loss: 0.2051 - accuracy: 0.9542 - val_loss: 0.2489 - val_accuracy: 0.9314\n",
            "Epoch 7/10\n",
            "663/663 [==============================] - 2s 3ms/step - loss: 0.1744 - accuracy: 0.9598 - val_loss: 0.2084 - val_accuracy: 0.9471\n",
            "Epoch 8/10\n",
            "663/663 [==============================] - 3s 4ms/step - loss: 0.1503 - accuracy: 0.9647 - val_loss: 0.1859 - val_accuracy: 0.9466\n",
            "Epoch 9/10\n",
            "663/663 [==============================] - 5s 7ms/step - loss: 0.1307 - accuracy: 0.9690 - val_loss: 0.1572 - val_accuracy: 0.9574\n",
            "Epoch 10/10\n",
            "663/663 [==============================] - 2s 3ms/step - loss: 0.1147 - accuracy: 0.9728 - val_loss: 0.1442 - val_accuracy: 0.9575\n",
            "End of the Experiment.\n",
            "\n"
          ]
        }
      ],
      "execution_count": 21,
      "metadata": {
        "colab": {
          "base_uri": "https://localhost:8080/"
        },
        "id": "Scmlc0FUL8em",
        "outputId": "22d86547-42e7-4e8e-86d2-5e0b158a0153"
      }
    },
    {
      "cell_type": "markdown",
      "source": [
        "Plot the loss funciton vs. the epoch number for all three learning rates on one graph.  You should see that the lower learning rates are more stable, but converge slower."
      ],
      "metadata": {
        "id": "VCt5kbpCL8em"
      }
    },
    {
      "cell_type": "code",
      "source": [
        "# TODO\n",
        "for loss in loss_hist:\n",
        "  plt.plot(range(1, epochs + 1), loss)\n",
        "  plt.xlabel('Epochs')\n",
        "  plt.ylabel('Loss')"
      ],
      "outputs": [
        {
          "output_type": "display_data",
          "data": {
            "text/plain": [
              "<Figure size 432x288 with 1 Axes>"
            ],
            "image/png": "[encoded data removed]"
          },
          "metadata": {
            "needs_background": "light"
          }
        }
      ],
      "execution_count": 20,
      "metadata": {
        "colab": {
          "base_uri": "https://localhost:8080/",
          "height": 279
        },
        "id": "FUgbtomfL8em",
        "outputId": "b2d33451-8239-4164-d372-7fd23d7c4f0b"
      }
    }
  ],
  "metadata": {
    "anaconda-cloud": {},
    "kernelspec": {
      "display_name": "Python [conda root]",
      "language": "python",
      "name": "conda-root-py"
    },
    "language_info": {
      "codemirror_mode": {
        "name": "ipython",
        "version": 3
      },
      "file_extension": ".py",
      "mimetype": "text/x-python",
      "name": "python",
      "nbconvert_exporter": "python",
      "pygments_lexer": "ipython3",
      "version": "3.5.4"
    },
    "nteract": {
      "version": "0.28.0"
    },
    "colab": {
      "provenance": []
    }
  },
  "nbformat": 4,
  "nbformat_minor": 0
}