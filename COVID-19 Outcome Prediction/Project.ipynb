{
  "cells": [
    {
      "cell_type": "markdown",
      "source": [
        "# **CSAI 801 Project: COVID-19 Outcome Prediction**"
      ],
      "metadata": {
        "id": "mLFd-opUDC25"
      }
    },
    {
      "cell_type": "markdown",
      "metadata": {
        "id": "BCQoOD6wcNbZ"
      },
      "source": [
        "# Import Common and Useful Libraries"
      ]
    },
    {
      "cell_type": "code",
      "execution_count": 1,
      "metadata": {
        "id": "IJgmJ3Nc9_Er"
      },
      "outputs": [],
      "source": [
        "import pandas as pd\n",
        "import numpy as np\n",
        "import matplotlib\n",
        "import matplotlib.pyplot as plt\n",
        "%matplotlib inline"
      ]
    },
    {
      "cell_type": "markdown",
      "metadata": {
        "id": "2ERZCX4RcWCZ"
      },
      "source": [
        "# Reading the Data\n",
        "The data used in this project will help to identify whether a person is going to recover from coronavirus symptoms or not based on some pre-defined standard symptoms. These symptoms are based on guidelines given by the World Health Organization (WHO).\n",
        "\n",
        "This dataset has daily level information on the number of affected cases, deaths and recovery from 2019 novel coronavirus.\n",
        "\n",
        "Please note that this is a time series data and so the number of cases on \n",
        "any given day is the cumulative number.\n",
        "\n",
        "The data is available from 22 Jan, 2020. Data is in 'data.csv'.\n"
      ]
    },
    {
      "cell_type": "code",
      "execution_count": 2,
      "metadata": {
        "id": "37LMLDof-Cde"
      },
      "outputs": [],
      "source": [
        "# Read Data\n",
        "def readData():\n",
        "  df = pd.read_csv('data.csv', index_col = 'Unnamed: 0')\n",
        "  return df"
      ]
    },
    {
      "cell_type": "markdown",
      "metadata": {
        "id": "r-O9XZGTcy_h"
      },
      "source": [
        "# Show data sample\n",
        "The dataset contains 14 major variables that will be having an impact on whether someone has recovered or not, the description of each variable are as follows,\n",
        "1. Country: where the person resides.\n",
        "2. Location: which part in the Country.\n",
        "3. Age: Classification of the age group for each person, based on WHO Age Group Standard.\n",
        "4. Gender: Male or Female.\n",
        "5. Visited_Wuhan: whether the person has visited Wuhan, China or not.\n",
        "6. From_Wuhan: whether the person is from Wuhan, China or not.\n",
        "7. Symptoms: there are six families of symptoms that are coded in six fields.\n",
        "13. Time_before_symptoms_appear.\n",
        "14. Result: death (1) or recovered (0)."
      ]
    },
    {
      "cell_type": "code",
      "source": [
        "data = readData()\n",
        "data.head()"
      ],
      "metadata": {
        "id": "_f0eGfL1dnN1",
        "colab": {
          "base_uri": "https://localhost:8080/",
          "height": 206
        },
        "outputId": "59256e33-c9b2-49ac-97b0-0764545c8188"
      },
      "execution_count": 3,
      "outputs": [
        {
          "output_type": "execute_result",
          "data": {
            "text/plain": [
              "   location  country  gender   age  vis_wuhan  from_wuhan  symptom1  symptom2  \\\n",
              "0       104        8       1  66.0          1           0        14        31   \n",
              "1       101        8       0  56.0          0           1        14        31   \n",
              "2       137        8       1  46.0          0           1        14        31   \n",
              "3       116        8       0  60.0          1           0        14        31   \n",
              "4       116        8       1  58.0          0           0        14        31   \n",
              "\n",
              "   symptom3  symptom4  symptom5  symptom6  diff_sym_hos  result  \n",
              "0        19        12         3         1             8       1  \n",
              "1        19        12         3         1             0       0  \n",
              "2        19        12         3         1            13       0  \n",
              "3        19        12         3         1             0       0  \n",
              "4        19        12         3         1             0       0  "
            ],
            "text/html": [
              "\n",
              "  <div id=\"df-3d2eb902-054e-4ab9-8ad7-244b522c976d\">\n",
              "    <div class=\"colab-df-container\">\n",
              "      <div>\n",
              "<style scoped>\n",
              "    .dataframe tbody tr th:only-of-type {\n",
              "        vertical-align: middle;\n",
              "    }\n",
              "\n",
              "    .dataframe tbody tr th {\n",
              "        vertical-align: top;\n",
              "    }\n",
              "\n",
              "    .dataframe thead th {\n",
              "        text-align: right;\n",
              "    }\n",
              "</style>\n",
              "<table border=\"1\" class=\"dataframe\">\n",
              "  <thead>\n",
              "    <tr style=\"text-align: right;\">\n",
              "      <th></th>\n",
              "      <th>location</th>\n",
              "      <th>country</th>\n",
              "      <th>gender</th>\n",
              "      <th>age</th>\n",
              "      <th>vis_wuhan</th>\n",
              "      <th>from_wuhan</th>\n",
              "      <th>symptom1</th>\n",
              "      <th>symptom2</th>\n",
              "      <th>symptom3</th>\n",
              "      <th>symptom4</th>\n",
              "      <th>symptom5</th>\n",
              "      <th>symptom6</th>\n",
              "      <th>diff_sym_hos</th>\n",
              "      <th>result</th>\n",
              "    </tr>\n",
              "  </thead>\n",
              "  <tbody>\n",
              "    <tr>\n",
              "      <th>0</th>\n",
              "      <td>104</td>\n",
              "      <td>8</td>\n",
              "      <td>1</td>\n",
              "      <td>66.0</td>\n",
              "      <td>1</td>\n",
              "      <td>0</td>\n",
              "      <td>14</td>\n",
              "      <td>31</td>\n",
              "      <td>19</td>\n",
              "      <td>12</td>\n",
              "      <td>3</td>\n",
              "      <td>1</td>\n",
              "      <td>8</td>\n",
              "      <td>1</td>\n",
              "    </tr>\n",
              "    <tr>\n",
              "      <th>1</th>\n",
              "      <td>101</td>\n",
              "      <td>8</td>\n",
              "      <td>0</td>\n",
              "      <td>56.0</td>\n",
              "      <td>0</td>\n",
              "      <td>1</td>\n",
              "      <td>14</td>\n",
              "      <td>31</td>\n",
              "      <td>19</td>\n",
              "      <td>12</td>\n",
              "      <td>3</td>\n",
              "      <td>1</td>\n",
              "      <td>0</td>\n",
              "      <td>0</td>\n",
              "    </tr>\n",
              "    <tr>\n",
              "      <th>2</th>\n",
              "      <td>137</td>\n",
              "      <td>8</td>\n",
              "      <td>1</td>\n",
              "      <td>46.0</td>\n",
              "      <td>0</td>\n",
              "      <td>1</td>\n",
              "      <td>14</td>\n",
              "      <td>31</td>\n",
              "      <td>19</td>\n",
              "      <td>12</td>\n",
              "      <td>3</td>\n",
              "      <td>1</td>\n",
              "      <td>13</td>\n",
              "      <td>0</td>\n",
              "    </tr>\n",
              "    <tr>\n",
              "      <th>3</th>\n",
              "      <td>116</td>\n",
              "      <td>8</td>\n",
              "      <td>0</td>\n",
              "      <td>60.0</td>\n",
              "      <td>1</td>\n",
              "      <td>0</td>\n",
              "      <td>14</td>\n",
              "      <td>31</td>\n",
              "      <td>19</td>\n",
              "      <td>12</td>\n",
              "      <td>3</td>\n",
              "      <td>1</td>\n",
              "      <td>0</td>\n",
              "      <td>0</td>\n",
              "    </tr>\n",
              "    <tr>\n",
              "      <th>4</th>\n",
              "      <td>116</td>\n",
              "      <td>8</td>\n",
              "      <td>1</td>\n",
              "      <td>58.0</td>\n",
              "      <td>0</td>\n",
              "      <td>0</td>\n",
              "      <td>14</td>\n",
              "      <td>31</td>\n",
              "      <td>19</td>\n",
              "      <td>12</td>\n",
              "      <td>3</td>\n",
              "      <td>1</td>\n",
              "      <td>0</td>\n",
              "      <td>0</td>\n",
              "    </tr>\n",
              "  </tbody>\n",
              "</table>\n",
              "</div>\n",
              "      <button class=\"colab-df-convert\" onclick=\"convertToInteractive('df-3d2eb902-054e-4ab9-8ad7-244b522c976d')\"\n",
              "              title=\"Convert this dataframe to an interactive table.\"\n",
              "              style=\"display:none;\">\n",
              "        \n",
              "  <svg xmlns=\"http://www.w3.org/2000/svg\" height=\"24px\"viewBox=\"0 0 24 24\"\n",
              "       width=\"24px\">\n",
              "    <path d=\"M0 0h24v24H0V0z\" fill=\"none\"/>\n",
              "    <path d=\"M18.56 5.44l.94 2.06.94-2.06 2.06-.94-2.06-.94-.94-2.06-.94 2.06-2.06.94zm-11 1L8.5 8.5l.94-2.06 2.06-.94-2.06-.94L8.5 2.5l-.94 2.06-2.06.94zm10 10l.94 2.06.94-2.06 2.06-.94-2.06-.94-.94-2.06-.94 2.06-2.06.94z\"/><path d=\"M17.41 7.96l-1.37-1.37c-.4-.4-.92-.59-1.43-.59-.52 0-1.04.2-1.43.59L10.3 9.45l-7.72 7.72c-.78.78-.78 2.05 0 2.83L4 21.41c.39.39.9.59 1.41.59.51 0 1.02-.2 1.41-.59l7.78-7.78 2.81-2.81c.8-.78.8-2.07 0-2.86zM5.41 20L4 18.59l7.72-7.72 1.47 1.35L5.41 20z\"/>\n",
              "  </svg>\n",
              "      </button>\n",
              "      \n",
              "  <style>\n",
              "    .colab-df-container {\n",
              "      display:flex;\n",
              "      flex-wrap:wrap;\n",
              "      gap: 12px;\n",
              "    }\n",
              "\n",
              "    .colab-df-convert {\n",
              "      background-color: #E8F0FE;\n",
              "      border: none;\n",
              "      border-radius: 50%;\n",
              "      cursor: pointer;\n",
              "      display: none;\n",
              "      fill: #1967D2;\n",
              "      height: 32px;\n",
              "      padding: 0 0 0 0;\n",
              "      width: 32px;\n",
              "    }\n",
              "\n",
              "    .colab-df-convert:hover {\n",
              "      background-color: #E2EBFA;\n",
              "      box-shadow: 0px 1px 2px rgba(60, 64, 67, 0.3), 0px 1px 3px 1px rgba(60, 64, 67, 0.15);\n",
              "      fill: #174EA6;\n",
              "    }\n",
              "\n",
              "    [theme=dark] .colab-df-convert {\n",
              "      background-color: #3B4455;\n",
              "      fill: #D2E3FC;\n",
              "    }\n",
              "\n",
              "    [theme=dark] .colab-df-convert:hover {\n",
              "      background-color: #434B5C;\n",
              "      box-shadow: 0px 1px 3px 1px rgba(0, 0, 0, 0.15);\n",
              "      filter: drop-shadow(0px 1px 2px rgba(0, 0, 0, 0.3));\n",
              "      fill: #FFFFFF;\n",
              "    }\n",
              "  </style>\n",
              "\n",
              "      <script>\n",
              "        const buttonEl =\n",
              "          document.querySelector('#df-3d2eb902-054e-4ab9-8ad7-244b522c976d button.colab-df-convert');\n",
              "        buttonEl.style.display =\n",
              "          google.colab.kernel.accessAllowed ? 'block' : 'none';\n",
              "\n",
              "        async function convertToInteractive(key) {\n",
              "          const element = document.querySelector('#df-3d2eb902-054e-4ab9-8ad7-244b522c976d');\n",
              "          const dataTable =\n",
              "            await google.colab.kernel.invokeFunction('convertToInteractive',\n",
              "                                                     [key], {});\n",
              "          if (!dataTable) return;\n",
              "\n",
              "          const docLinkHtml = 'Like what you see? Visit the ' +\n",
              "            '<a target=\"_blank\" href=https://colab.research.google.com/notebooks/data_table.ipynb>data table notebook</a>'\n",
              "            + ' to learn more about interactive tables.';\n",
              "          element.innerHTML = '';\n",
              "          dataTable['output_type'] = 'display_data';\n",
              "          await google.colab.output.renderOutput(dataTable, element);\n",
              "          const docLink = document.createElement('div');\n",
              "          docLink.innerHTML = docLinkHtml;\n",
              "          element.appendChild(docLink);\n",
              "        }\n",
              "      </script>\n",
              "    </div>\n",
              "  </div>\n",
              "  "
            ]
          },
          "metadata": {},
          "execution_count": 3
        }
      ]
    },
    {
      "cell_type": "markdown",
      "source": [
        "# Transformations (Bins and One hot encoding).\n",
        "\n",
        "split location, country and age to bins.\n",
        "convert location, country, age and gender to one hot encoding."
      ],
      "metadata": {
        "id": "Zc2McjcXeNw4"
      }
    },
    {
      "cell_type": "code",
      "source": [
        "from sklearn.preprocessing import MinMaxScaler, LabelEncoder, OneHotEncoder \n",
        "from IPython.display import display\n",
        "\n",
        "def normalization(df):\n",
        "\n",
        "  # # One Hot encoding\n",
        "  # df.location = pd.cut(df.location, bins = 10, labels = np.arange(10), right = False)\n",
        "  # df.country = pd.cut(df.country, bins = 10, labels = np.arange(10), right = False)\n",
        "  # df.age = pd.cut(df.age, bins = 5, labels = np.arange(5), right = False)\n",
        "\n",
        "  # label_encoder = LabelEncoder()\n",
        "  # encoder = OneHotEncoder(sparse = False)\n",
        "\n",
        "  # df.location = label_encoder.fit_transform(df.location)\n",
        "  # df[['L0', 'L1', 'L2', 'L3', 'L4', 'L5', 'L6', 'L7', 'L8', 'L9']] = encoder.fit_transform(df.location.values.reshape(-1, 1))\n",
        "\n",
        "  # df.country = label_encoder.fit_transform(df.country)\n",
        "  # df[['C0', 'C1', 'C2', 'C3', 'C4', 'C5', 'C6', 'C7', 'C8', 'C9']] = encoder.fit_transform(df.country.values.reshape(-1, 1))\n",
        "\n",
        "  # df.gender = label_encoder.fit_transform(df.gender)\n",
        "  # df[['Male', 'Female', 'Undefined']] = encoder.fit_transform(df.gender.values.reshape(-1, 1))\n",
        "\n",
        "  # df.age = label_encoder.fit_transform(df.age)\n",
        "  # df[['a0', 'a1', 'a2', 'a3', 'a4']] = encoder.fit_transform(df.age.values.reshape(-1, 1))\n",
        "\n",
        "  # df = df.drop('location', axis = 1)\n",
        "  # df = df.drop('country', axis = 1)\n",
        "  # df = df.drop('gender', axis = 1)\n",
        "  # df = df.drop('age', axis = 1)\n",
        "\n",
        "  # Min Max Scaling\n",
        "  # minMaxScaler = MinMaxScaler()\n",
        "  # df['symptom1'] = minMaxScaler.fit_transform(np.array(df['symptom1']).reshape(-1,1))\n",
        "  # df['symptom2'] = minMaxScaler.fit_transform(np.array(df['symptom2']).reshape(-1,1))\n",
        "  # df['symptom3'] = minMaxScaler.fit_transform(np.array(df['symptom3']).reshape(-1,1))\n",
        "  # df['symptom4'] = minMaxScaler.fit_transform(np.array(df['symptom4']).reshape(-1,1))\n",
        "  # df['symptom5'] = minMaxScaler.fit_transform(np.array(df['symptom5']).reshape(-1,1))\n",
        "  # df['symptom6'] = minMaxScaler.fit_transform(np.array(df['symptom6']).reshape(-1,1))\n",
        "  # df['diff_sym_hos'] = minMaxScaler.fit_transform(np.array(df['diff_sym_hos']).reshape(-1,1))\n",
        "\n",
        "\n",
        "  # remove negative values\n",
        "  df = df.loc[df.diff_sym_hos >= 0] \n",
        "\n",
        "  display(df)\n",
        "\n",
        "  return df"
      ],
      "metadata": {
        "id": "kngiB4dfmScL"
      },
      "execution_count": 4,
      "outputs": []
    },
    {
      "cell_type": "markdown",
      "metadata": {
        "id": "JoiO8XfQedRB"
      },
      "source": [
        "# Display Features Correlation:\n",
        "- between all the features (one to one).\n",
        "- between the features and the target."
      ]
    },
    {
      "cell_type": "code",
      "source": [
        "data = normalization(data)"
      ],
      "metadata": {
        "id": "5RrZ5mZogJVW",
        "colab": {
          "base_uri": "https://localhost:8080/",
          "height": 423
        },
        "outputId": "baf03caf-cd86-4378-d074-6e819349ee8b"
      },
      "execution_count": 5,
      "outputs": [
        {
          "output_type": "display_data",
          "data": {
            "text/plain": [
              "     location  country  gender   age  vis_wuhan  from_wuhan  symptom1  \\\n",
              "0         104        8       1  66.0          1           0        14   \n",
              "1         101        8       0  56.0          0           1        14   \n",
              "2         137        8       1  46.0          0           1        14   \n",
              "3         116        8       0  60.0          1           0        14   \n",
              "4         116        8       1  58.0          0           0        14   \n",
              "..        ...      ...     ...   ...        ...         ...       ...   \n",
              "858        48        3       2  24.0          0           0        14   \n",
              "859         0        0       2  35.0          0           0        14   \n",
              "860         3        1       1  49.4          0           0        14   \n",
              "861        24        9       1  49.4          0           0        14   \n",
              "862        15       27       1  70.0          0           0        14   \n",
              "\n",
              "     symptom2  symptom3  symptom4  symptom5  symptom6  diff_sym_hos  result  \n",
              "0          31        19        12         3         1             8       1  \n",
              "1          31        19        12         3         1             0       0  \n",
              "2          31        19        12         3         1            13       0  \n",
              "3          31        19        12         3         1             0       0  \n",
              "4          31        19        12         3         1             0       0  \n",
              "..        ...       ...       ...       ...       ...           ...     ...  \n",
              "858        31        19        12         3         1             0       1  \n",
              "859        31        19        12         3         1             0       0  \n",
              "860        31        19        12         3         1             0       0  \n",
              "861        31        19        12         3         1             0       0  \n",
              "862        31        19        12         3         1             0       0  \n",
              "\n",
              "[861 rows x 14 columns]"
            ],
            "text/html": [
              "\n",
              "  <div id=\"df-15e4f78b-3264-46f4-bb57-aea9bd685289\">\n",
              "    <div class=\"colab-df-container\">\n",
              "      <div>\n",
              "<style scoped>\n",
              "    .dataframe tbody tr th:only-of-type {\n",
              "        vertical-align: middle;\n",
              "    }\n",
              "\n",
              "    .dataframe tbody tr th {\n",
              "        vertical-align: top;\n",
              "    }\n",
              "\n",
              "    .dataframe thead th {\n",
              "        text-align: right;\n",
              "    }\n",
              "</style>\n",
              "<table border=\"1\" class=\"dataframe\">\n",
              "  <thead>\n",
              "    <tr style=\"text-align: right;\">\n",
              "      <th></th>\n",
              "      <th>location</th>\n",
              "      <th>country</th>\n",
              "      <th>gender</th>\n",
              "      <th>age</th>\n",
              "      <th>vis_wuhan</th>\n",
              "      <th>from_wuhan</th>\n",
              "      <th>symptom1</th>\n",
              "      <th>symptom2</th>\n",
              "      <th>symptom3</th>\n",
              "      <th>symptom4</th>\n",
              "      <th>symptom5</th>\n",
              "      <th>symptom6</th>\n",
              "      <th>diff_sym_hos</th>\n",
              "      <th>result</th>\n",
              "    </tr>\n",
              "  </thead>\n",
              "  <tbody>\n",
              "    <tr>\n",
              "      <th>0</th>\n",
              "      <td>104</td>\n",
              "      <td>8</td>\n",
              "      <td>1</td>\n",
              "      <td>66.0</td>\n",
              "      <td>1</td>\n",
              "      <td>0</td>\n",
              "      <td>14</td>\n",
              "      <td>31</td>\n",
              "      <td>19</td>\n",
              "      <td>12</td>\n",
              "      <td>3</td>\n",
              "      <td>1</td>\n",
              "      <td>8</td>\n",
              "      <td>1</td>\n",
              "    </tr>\n",
              "    <tr>\n",
              "      <th>1</th>\n",
              "      <td>101</td>\n",
              "      <td>8</td>\n",
              "      <td>0</td>\n",
              "      <td>56.0</td>\n",
              "      <td>0</td>\n",
              "      <td>1</td>\n",
              "      <td>14</td>\n",
              "      <td>31</td>\n",
              "      <td>19</td>\n",
              "      <td>12</td>\n",
              "      <td>3</td>\n",
              "      <td>1</td>\n",
              "      <td>0</td>\n",
              "      <td>0</td>\n",
              "    </tr>\n",
              "    <tr>\n",
              "      <th>2</th>\n",
              "      <td>137</td>\n",
              "      <td>8</td>\n",
              "      <td>1</td>\n",
              "      <td>46.0</td>\n",
              "      <td>0</td>\n",
              "      <td>1</td>\n",
              "      <td>14</td>\n",
              "      <td>31</td>\n",
              "      <td>19</td>\n",
              "      <td>12</td>\n",
              "      <td>3</td>\n",
              "      <td>1</td>\n",
              "      <td>13</td>\n",
              "      <td>0</td>\n",
              "    </tr>\n",
              "    <tr>\n",
              "      <th>3</th>\n",
              "      <td>116</td>\n",
              "      <td>8</td>\n",
              "      <td>0</td>\n",
              "      <td>60.0</td>\n",
              "      <td>1</td>\n",
              "      <td>0</td>\n",
              "      <td>14</td>\n",
              "      <td>31</td>\n",
              "      <td>19</td>\n",
              "      <td>12</td>\n",
              "      <td>3</td>\n",
              "      <td>1</td>\n",
              "      <td>0</td>\n",
              "      <td>0</td>\n",
              "    </tr>\n",
              "    <tr>\n",
              "      <th>4</th>\n",
              "      <td>116</td>\n",
              "      <td>8</td>\n",
              "      <td>1</td>\n",
              "      <td>58.0</td>\n",
              "      <td>0</td>\n",
              "      <td>0</td>\n",
              "      <td>14</td>\n",
              "      <td>31</td>\n",
              "      <td>19</td>\n",
              "      <td>12</td>\n",
              "      <td>3</td>\n",
              "      <td>1</td>\n",
              "      <td>0</td>\n",
              "      <td>0</td>\n",
              "    </tr>\n",
              "    <tr>\n",
              "      <th>...</th>\n",
              "      <td>...</td>\n",
              "      <td>...</td>\n",
              "      <td>...</td>\n",
              "      <td>...</td>\n",
              "      <td>...</td>\n",
              "      <td>...</td>\n",
              "      <td>...</td>\n",
              "      <td>...</td>\n",
              "      <td>...</td>\n",
              "      <td>...</td>\n",
              "      <td>...</td>\n",
              "      <td>...</td>\n",
              "      <td>...</td>\n",
              "      <td>...</td>\n",
              "    </tr>\n",
              "    <tr>\n",
              "      <th>858</th>\n",
              "      <td>48</td>\n",
              "      <td>3</td>\n",
              "      <td>2</td>\n",
              "      <td>24.0</td>\n",
              "      <td>0</td>\n",
              "      <td>0</td>\n",
              "      <td>14</td>\n",
              "      <td>31</td>\n",
              "      <td>19</td>\n",
              "      <td>12</td>\n",
              "      <td>3</td>\n",
              "      <td>1</td>\n",
              "      <td>0</td>\n",
              "      <td>1</td>\n",
              "    </tr>\n",
              "    <tr>\n",
              "      <th>859</th>\n",
              "      <td>0</td>\n",
              "      <td>0</td>\n",
              "      <td>2</td>\n",
              "      <td>35.0</td>\n",
              "      <td>0</td>\n",
              "      <td>0</td>\n",
              "      <td>14</td>\n",
              "      <td>31</td>\n",
              "      <td>19</td>\n",
              "      <td>12</td>\n",
              "      <td>3</td>\n",
              "      <td>1</td>\n",
              "      <td>0</td>\n",
              "      <td>0</td>\n",
              "    </tr>\n",
              "    <tr>\n",
              "      <th>860</th>\n",
              "      <td>3</td>\n",
              "      <td>1</td>\n",
              "      <td>1</td>\n",
              "      <td>49.4</td>\n",
              "      <td>0</td>\n",
              "      <td>0</td>\n",
              "      <td>14</td>\n",
              "      <td>31</td>\n",
              "      <td>19</td>\n",
              "      <td>12</td>\n",
              "      <td>3</td>\n",
              "      <td>1</td>\n",
              "      <td>0</td>\n",
              "      <td>0</td>\n",
              "    </tr>\n",
              "    <tr>\n",
              "      <th>861</th>\n",
              "      <td>24</td>\n",
              "      <td>9</td>\n",
              "      <td>1</td>\n",
              "      <td>49.4</td>\n",
              "      <td>0</td>\n",
              "      <td>0</td>\n",
              "      <td>14</td>\n",
              "      <td>31</td>\n",
              "      <td>19</td>\n",
              "      <td>12</td>\n",
              "      <td>3</td>\n",
              "      <td>1</td>\n",
              "      <td>0</td>\n",
              "      <td>0</td>\n",
              "    </tr>\n",
              "    <tr>\n",
              "      <th>862</th>\n",
              "      <td>15</td>\n",
              "      <td>27</td>\n",
              "      <td>1</td>\n",
              "      <td>70.0</td>\n",
              "      <td>0</td>\n",
              "      <td>0</td>\n",
              "      <td>14</td>\n",
              "      <td>31</td>\n",
              "      <td>19</td>\n",
              "      <td>12</td>\n",
              "      <td>3</td>\n",
              "      <td>1</td>\n",
              "      <td>0</td>\n",
              "      <td>0</td>\n",
              "    </tr>\n",
              "  </tbody>\n",
              "</table>\n",
              "<p>861 rows × 14 columns</p>\n",
              "</div>\n",
              "      <button class=\"colab-df-convert\" onclick=\"convertToInteractive('df-15e4f78b-3264-46f4-bb57-aea9bd685289')\"\n",
              "              title=\"Convert this dataframe to an interactive table.\"\n",
              "              style=\"display:none;\">\n",
              "        \n",
              "  <svg xmlns=\"http://www.w3.org/2000/svg\" height=\"24px\"viewBox=\"0 0 24 24\"\n",
              "       width=\"24px\">\n",
              "    <path d=\"M0 0h24v24H0V0z\" fill=\"none\"/>\n",
              "    <path d=\"M18.56 5.44l.94 2.06.94-2.06 2.06-.94-2.06-.94-.94-2.06-.94 2.06-2.06.94zm-11 1L8.5 8.5l.94-2.06 2.06-.94-2.06-.94L8.5 2.5l-.94 2.06-2.06.94zm10 10l.94 2.06.94-2.06 2.06-.94-2.06-.94-.94-2.06-.94 2.06-2.06.94z\"/><path d=\"M17.41 7.96l-1.37-1.37c-.4-.4-.92-.59-1.43-.59-.52 0-1.04.2-1.43.59L10.3 9.45l-7.72 7.72c-.78.78-.78 2.05 0 2.83L4 21.41c.39.39.9.59 1.41.59.51 0 1.02-.2 1.41-.59l7.78-7.78 2.81-2.81c.8-.78.8-2.07 0-2.86zM5.41 20L4 18.59l7.72-7.72 1.47 1.35L5.41 20z\"/>\n",
              "  </svg>\n",
              "      </button>\n",
              "      \n",
              "  <style>\n",
              "    .colab-df-container {\n",
              "      display:flex;\n",
              "      flex-wrap:wrap;\n",
              "      gap: 12px;\n",
              "    }\n",
              "\n",
              "    .colab-df-convert {\n",
              "      background-color: #E8F0FE;\n",
              "      border: none;\n",
              "      border-radius: 50%;\n",
              "      cursor: pointer;\n",
              "      display: none;\n",
              "      fill: #1967D2;\n",
              "      height: 32px;\n",
              "      padding: 0 0 0 0;\n",
              "      width: 32px;\n",
              "    }\n",
              "\n",
              "    .colab-df-convert:hover {\n",
              "      background-color: #E2EBFA;\n",
              "      box-shadow: 0px 1px 2px rgba(60, 64, 67, 0.3), 0px 1px 3px 1px rgba(60, 64, 67, 0.15);\n",
              "      fill: #174EA6;\n",
              "    }\n",
              "\n",
              "    [theme=dark] .colab-df-convert {\n",
              "      background-color: #3B4455;\n",
              "      fill: #D2E3FC;\n",
              "    }\n",
              "\n",
              "    [theme=dark] .colab-df-convert:hover {\n",
              "      background-color: #434B5C;\n",
              "      box-shadow: 0px 1px 3px 1px rgba(0, 0, 0, 0.15);\n",
              "      filter: drop-shadow(0px 1px 2px rgba(0, 0, 0, 0.3));\n",
              "      fill: #FFFFFF;\n",
              "    }\n",
              "  </style>\n",
              "\n",
              "      <script>\n",
              "        const buttonEl =\n",
              "          document.querySelector('#df-15e4f78b-3264-46f4-bb57-aea9bd685289 button.colab-df-convert');\n",
              "        buttonEl.style.display =\n",
              "          google.colab.kernel.accessAllowed ? 'block' : 'none';\n",
              "\n",
              "        async function convertToInteractive(key) {\n",
              "          const element = document.querySelector('#df-15e4f78b-3264-46f4-bb57-aea9bd685289');\n",
              "          const dataTable =\n",
              "            await google.colab.kernel.invokeFunction('convertToInteractive',\n",
              "                                                     [key], {});\n",
              "          if (!dataTable) return;\n",
              "\n",
              "          const docLinkHtml = 'Like what you see? Visit the ' +\n",
              "            '<a target=\"_blank\" href=https://colab.research.google.com/notebooks/data_table.ipynb>data table notebook</a>'\n",
              "            + ' to learn more about interactive tables.';\n",
              "          element.innerHTML = '';\n",
              "          dataTable['output_type'] = 'display_data';\n",
              "          await google.colab.output.renderOutput(dataTable, element);\n",
              "          const docLink = document.createElement('div');\n",
              "          docLink.innerHTML = docLinkHtml;\n",
              "          element.appendChild(docLink);\n",
              "        }\n",
              "      </script>\n",
              "    </div>\n",
              "  </div>\n",
              "  "
            ]
          },
          "metadata": {}
        }
      ]
    },
    {
      "cell_type": "code",
      "execution_count": 6,
      "metadata": {
        "id": "AfcCW-RxlLoT",
        "colab": {
          "base_uri": "https://localhost:8080/",
          "height": 868
        },
        "outputId": "9f3b10f8-f09a-42bb-dec7-8b0db0720180"
      },
      "outputs": [
        {
          "output_type": "display_data",
          "data": {
            "text/plain": [
              "<Figure size 2160x1080 with 2 Axes>"
            ],
            "image/png": "[encoded data removed]"
          },
          "metadata": {
            "needs_background": "light"
          }
        }
      ],
      "source": [
        "import seaborn as sns\n",
        "\n",
        "plt.figure(figsize = (30, 15))\n",
        "sns.heatmap(data.corr(), annot = True, cmap = 'RdYlGn')\n",
        "plt.show()"
      ]
    },
    {
      "cell_type": "markdown",
      "metadata": {
        "id": "pHAO_L7sgFOZ"
      },
      "source": [
        "# Split the data to training and testing\n",
        "It is required to design different classifiers to the predict the outcome (death/recovered) when a new person is admitted to the hospital.\n",
        "\n",
        "The data is already cleaned and preprocessed.\n",
        "\n",
        "You will have to divide the data into three partitions: training, validation, and testing."
      ]
    },
    {
      "cell_type": "code",
      "source": [
        "def trainTestSplit(df):\n",
        "  X = df.loc[:, df.columns != 'result']\n",
        "  Y = df['result']\n",
        "  return X, Y"
      ],
      "metadata": {
        "id": "SfjFPsGzuW1G"
      },
      "execution_count": 7,
      "outputs": []
    },
    {
      "cell_type": "code",
      "execution_count": 8,
      "metadata": {
        "id": "3HLEwWC6-CYe",
        "colab": {
          "base_uri": "https://localhost:8080/"
        },
        "outputId": "1f612da6-7c84-41a9-bd26-6032732530b3"
      },
      "outputs": [
        {
          "output_type": "stream",
          "name": "stdout",
          "text": [
            "(688, 13)\n",
            "(173, 13)\n",
            "(688,)\n",
            "(173,)\n"
          ]
        }
      ],
      "source": [
        "from sklearn.model_selection import train_test_split\n",
        "\n",
        "X, Y = trainTestSplit(data)\n",
        "X_train, X_test, y_train, y_test = train_test_split(X.values, Y.values, test_size = 0.2, stratify = Y, shuffle = True, random_state = 7)\n",
        "print(X_train.shape)\n",
        "print(X_test.shape)\n",
        "print(y_train.shape)\n",
        "print(y_test.shape)"
      ]
    },
    {
      "cell_type": "markdown",
      "metadata": {
        "id": "AMgxTfqhb1vJ"
      },
      "source": [
        "# Starting actions: Importing models and metrics"
      ]
    },
    {
      "cell_type": "markdown",
      "metadata": {
        "id": "bd1fg5_wg7Xx"
      },
      "source": [
        "You need to design the following classifiers:\n",
        "1. K-Nearest Neighbors\n",
        "2. Logistic Regression\n",
        "3. Naïve Bayes \n",
        "4. Decision Trees\n",
        "5. Support Vector Machines "
      ]
    },
    {
      "cell_type": "code",
      "execution_count": 9,
      "metadata": {
        "id": "vrC11RgZajYZ"
      },
      "outputs": [],
      "source": [
        "from sklearn.neighbors import KNeighborsClassifier\n",
        "from sklearn.linear_model import LogisticRegression\n",
        "from sklearn.naive_bayes import GaussianNB, MultinomialNB, ComplementNB, BernoulliNB, CategoricalNB\n",
        "from sklearn.tree import DecisionTreeClassifier\n",
        "from sklearn.svm import SVC"
      ]
    },
    {
      "cell_type": "markdown",
      "metadata": {
        "id": "0lZXN9UthSdJ"
      },
      "source": [
        "You also need to compare the performance of all classifiers using different metrics such as the precision, recall, F1-score and ROC/AUC curves."
      ]
    },
    {
      "cell_type": "code",
      "execution_count": 10,
      "metadata": {
        "id": "bfXWc9SUhSPA"
      },
      "outputs": [],
      "source": [
        "from sklearn.metrics import confusion_matrix\n",
        "from sklearn.metrics import ConfusionMatrixDisplay\n",
        "\n",
        "from sklearn.metrics import precision_recall_curve\n",
        "from sklearn.metrics import PrecisionRecallDisplay\n",
        "\n",
        "from sklearn.metrics import classification_report\n",
        "\n",
        "from sklearn.metrics import roc_curve\n",
        "from sklearn.metrics import auc\n",
        "from sklearn.metrics import RocCurveDisplay\n",
        "\n",
        "from sklearn.metrics import f1_score"
      ]
    },
    {
      "cell_type": "markdown",
      "metadata": {
        "id": "bBePHjbrgyiQ"
      },
      "source": [
        "We will use grid search For each classifier to find the optimal hyperparameters.\n"
      ]
    },
    {
      "cell_type": "code",
      "execution_count": 11,
      "metadata": {
        "id": "wl48XdAvgxp4"
      },
      "outputs": [],
      "source": [
        "from sklearn.model_selection import GridSearchCV, KFold, cross_val_score, cross_val_predict"
      ]
    },
    {
      "cell_type": "markdown",
      "metadata": {
        "id": "k9NOc49wh1VI"
      },
      "source": [
        "# Metrics Lists"
      ]
    },
    {
      "cell_type": "code",
      "execution_count": 12,
      "metadata": {
        "id": "NEOKbdV3h1A4"
      },
      "outputs": [],
      "source": [
        "accuracies = []\n",
        "aucs = []\n",
        "f1scores = []\n",
        "models = []\n",
        "labels = []"
      ]
    },
    {
      "cell_type": "markdown",
      "source": [
        "# Plot Functions"
      ],
      "metadata": {
        "id": "zbw0Be-vJhNN"
      }
    },
    {
      "cell_type": "code",
      "source": [
        "def plotCrossValidationComparison(model_scores):\n",
        "  indics = range(1, model_scores.shape[1] + 1)\n",
        "  ranks = ['Rank 1', 'Rank 2', 'Rank 3', 'Rank 4', 'Rank 5']\n",
        "  for accuracy, index in zip(model_scores, indics):\n",
        "    plt.plot(ranks, accuracy, label = f'model: {index}', marker='o', linestyle='dashed')\n",
        "  plt.title('Cross Validation Comparsion')\n",
        "  plt.xlabel(\"CV test fold\")\n",
        "  plt.ylabel(\"Model Accuracy\")\n",
        "  plt.legend()\n",
        "  plt.show()"
      ],
      "metadata": {
        "id": "agfYq2FAJgUE"
      },
      "execution_count": 13,
      "outputs": []
    },
    {
      "cell_type": "markdown",
      "source": [
        "# Model Common Functions\n",
        "\n",
        "\n",
        "*   GridSearch job.\n",
        "*   Display GridSearch best Hyper-parameters.\n",
        "*   Display GridSearch summary.\n",
        "\n",
        "\n",
        "\n"
      ],
      "metadata": {
        "id": "8cfH9ETMkbIY"
      }
    },
    {
      "cell_type": "code",
      "source": [
        "def gridSearch(model, parameters):\n",
        "  kfold = 5\n",
        "  scoring = 'accuracy'\n",
        "  verbose = 5\n",
        "\n",
        "  grid_search = GridSearchCV(estimator = model, param_grid = parameters, cv = kfold, scoring = scoring, verbose = verbose)\n",
        "  grid_search.fit(X_train, y_train)\n",
        "  results = pd.DataFrame(grid_search.cv_results_)\n",
        "  best_model = grid_search.best_estimator_\n",
        "  model_name = best_model.__class__.__name__\n",
        "  models.append(best_model)\n",
        "  labels.append(model_name)\n",
        "  print()\n",
        "  print('*********************************************************************')\n",
        "  print()\n",
        "  print(f'{model_name}')\n",
        "  print()\n",
        "  print('*********************************************************************')\n",
        "  print()\n",
        "  print('After running the grid search with cross validation we found that the best Hyper-Parameter are :')\n",
        "  print()\n",
        "  print(grid_search.best_params_)\n",
        "  print()\n",
        "  print('*********************************************************************')\n",
        "  print()\n",
        "  print('Grid Search Summary :')\n",
        "  print()\n",
        "  display(results.sort_values(by=['rank_test_score']).head())\n",
        "  print()\n",
        "  print('*********************************************************************')\n",
        "  print()\n",
        "  model_scores = results.filter(regex=r\"split\\d*_test_score\")\n",
        "  plotCrossValidationComparison(model_scores.loc[0:5].values)\n",
        "  print()\n",
        "  return best_model"
      ],
      "metadata": {
        "id": "dWYWD7xHkbmg"
      },
      "execution_count": 14,
      "outputs": []
    },
    {
      "cell_type": "markdown",
      "source": [
        "Displaying the Classification Report to check the model performance"
      ],
      "metadata": {
        "id": "sSOW-fm9rDUk"
      }
    },
    {
      "cell_type": "code",
      "source": [
        "def classificationReport(model, X_test, y_test):\n",
        "  y_pred = model.predict(X_test)\n",
        "\n",
        "  # Store Metrics\n",
        "  accuracy = model.score(X_test, y_test)\n",
        "  f1score = f1_score(y_test, y_pred)\n",
        "  accuracies.append(accuracy)\n",
        "  f1scores.append(f1score)\n",
        "\n",
        "  # Classification Report\n",
        "  print(classification_report(y_test, y_pred, labels = model.classes_))\n",
        "\n",
        "  print()\n",
        "\n",
        "  # Precision Vs Recall curve\n",
        "  precision, recall, _ = precision_recall_curve(y_test, y_pred)\n",
        "  PrecisionRecallDisplay(precision = precision, recall = recall).plot()\n",
        "  plt.title('Precision Vs Recall')\n",
        "  plt.show()\n",
        "\n",
        "  print()\n",
        "\n",
        "  # ROC/AUC\n",
        "  fpr, tpr, _ = roc_curve(y_test, y_pred)\n",
        "  roc_auc = auc(fpr, tpr)\n",
        "  aucs.append(roc_auc)\n",
        "  RocCurveDisplay(fpr = fpr, tpr = tpr, roc_auc = roc_auc, estimator_name = model.__class__.__name__).plot()\n",
        "  plt.title('ROC/AUC')\n",
        "  plt.show()\n",
        "\n",
        "  print()\n",
        "\n",
        "  conf_matrix = confusion_matrix(y_test, y_pred)\n",
        "  ConfusionMatrixDisplay(confusion_matrix = conf_matrix, display_labels = model.classes_).plot()\n",
        "  plt.title('Confusion Matrix')\n",
        "  plt.show()"
      ],
      "metadata": {
        "id": "QlfHfNHQrDEM"
      },
      "execution_count": 15,
      "outputs": []
    },
    {
      "cell_type": "markdown",
      "metadata": {
        "id": "0G5FOxxihL5o"
      },
      "source": [
        "# 1- Using K-Nearest Neighbors\n"
      ]
    },
    {
      "cell_type": "markdown",
      "source": [
        "**Grid Search**"
      ],
      "metadata": {
        "id": "xQdOYM9urzBP"
      }
    },
    {
      "cell_type": "code",
      "execution_count": 16,
      "metadata": {
        "id": "otNtFOI7hylZ",
        "colab": {
          "base_uri": "https://localhost:8080/",
          "height": 1000
        },
        "outputId": "7c1d10f5-0bd0-4484-dbe7-5e4246e16bf6"
      },
      "outputs": [
        {
          "output_type": "stream",
          "name": "stdout",
          "text": [
            "Fitting 5 folds for each of 38 candidates, totalling 190 fits\n",
            "[CV 1/5] END ................n_neighbors=1, p=1;, score=0.928 total time=   0.0s\n",
            "[CV 2/5] END ................n_neighbors=1, p=1;, score=0.942 total time=   0.0s\n",
            "[CV 3/5] END ................n_neighbors=1, p=1;, score=0.949 total time=   0.0s\n",
            "[CV 4/5] END ................n_neighbors=1, p=1;, score=0.964 total time=   0.0s\n",
            "[CV 5/5] END ................n_neighbors=1, p=1;, score=0.942 total time=   0.0s\n",
            "[CV 1/5] END ................n_neighbors=1, p=2;, score=0.906 total time=   0.0s\n",
            "[CV 2/5] END ................n_neighbors=1, p=2;, score=0.913 total time=   0.0s\n",
            "[CV 3/5] END ................n_neighbors=1, p=2;, score=0.957 total time=   0.0s\n",
            "[CV 4/5] END ................n_neighbors=1, p=2;, score=0.949 total time=   0.0s\n",
            "[CV 5/5] END ................n_neighbors=1, p=2;, score=0.949 total time=   0.0s\n",
            "[CV 1/5] END ................n_neighbors=2, p=1;, score=0.935 total time=   0.0s\n",
            "[CV 2/5] END ................n_neighbors=2, p=1;, score=0.942 total time=   0.0s\n",
            "[CV 3/5] END ................n_neighbors=2, p=1;, score=0.920 total time=   0.0s\n",
            "[CV 4/5] END ................n_neighbors=2, p=1;, score=0.964 total time=   0.0s\n",
            "[CV 5/5] END ................n_neighbors=2, p=1;, score=0.949 total time=   0.0s\n",
            "[CV 1/5] END ................n_neighbors=2, p=2;, score=0.913 total time=   0.0s\n",
            "[CV 2/5] END ................n_neighbors=2, p=2;, score=0.928 total time=   0.0s\n",
            "[CV 3/5] END ................n_neighbors=2, p=2;, score=0.913 total time=   0.0s\n",
            "[CV 4/5] END ................n_neighbors=2, p=2;, score=0.956 total time=   0.0s\n",
            "[CV 5/5] END ................n_neighbors=2, p=2;, score=0.942 total time=   0.0s\n",
            "[CV 1/5] END ................n_neighbors=3, p=1;, score=0.913 total time=   0.0s\n",
            "[CV 2/5] END ................n_neighbors=3, p=1;, score=0.964 total time=   0.0s\n",
            "[CV 3/5] END ................n_neighbors=3, p=1;, score=0.942 total time=   0.0s\n",
            "[CV 4/5] END ................n_neighbors=3, p=1;, score=0.971 total time=   0.0s\n",
            "[CV 5/5] END ................n_neighbors=3, p=1;, score=0.949 total time=   0.0s\n",
            "[CV 1/5] END ................n_neighbors=3, p=2;, score=0.920 total time=   0.0s\n",
            "[CV 2/5] END ................n_neighbors=3, p=2;, score=0.964 total time=   0.0s\n",
            "[CV 3/5] END ................n_neighbors=3, p=2;, score=0.928 total time=   0.0s\n",
            "[CV 4/5] END ................n_neighbors=3, p=2;, score=0.949 total time=   0.0s\n",
            "[CV 5/5] END ................n_neighbors=3, p=2;, score=0.956 total time=   0.0s\n",
            "[CV 1/5] END ................n_neighbors=4, p=1;, score=0.913 total time=   0.0s\n",
            "[CV 2/5] END ................n_neighbors=4, p=1;, score=0.935 total time=   0.0s\n",
            "[CV 3/5] END ................n_neighbors=4, p=1;, score=0.913 total time=   0.0s\n",
            "[CV 4/5] END ................n_neighbors=4, p=1;, score=0.956 total time=   0.0s\n",
            "[CV 5/5] END ................n_neighbors=4, p=1;, score=0.942 total time=   0.0s\n",
            "[CV 1/5] END ................n_neighbors=4, p=2;, score=0.920 total time=   0.0s\n",
            "[CV 2/5] END ................n_neighbors=4, p=2;, score=0.949 total time=   0.0s\n",
            "[CV 3/5] END ................n_neighbors=4, p=2;, score=0.928 total time=   0.0s\n",
            "[CV 4/5] END ................n_neighbors=4, p=2;, score=0.964 total time=   0.0s\n",
            "[CV 5/5] END ................n_neighbors=4, p=2;, score=0.964 total time=   0.0s\n",
            "[CV 1/5] END ................n_neighbors=5, p=1;, score=0.906 total time=   0.0s\n",
            "[CV 2/5] END ................n_neighbors=5, p=1;, score=0.957 total time=   0.0s\n",
            "[CV 3/5] END ................n_neighbors=5, p=1;, score=0.928 total time=   0.0s\n",
            "[CV 4/5] END ................n_neighbors=5, p=1;, score=0.956 total time=   0.0s\n",
            "[CV 5/5] END ................n_neighbors=5, p=1;, score=0.964 total time=   0.0s\n",
            "[CV 1/5] END ................n_neighbors=5, p=2;, score=0.920 total time=   0.0s\n",
            "[CV 2/5] END ................n_neighbors=5, p=2;, score=0.935 total time=   0.0s\n",
            "[CV 3/5] END ................n_neighbors=5, p=2;, score=0.928 total time=   0.0s\n",
            "[CV 4/5] END ................n_neighbors=5, p=2;, score=0.949 total time=   0.0s\n",
            "[CV 5/5] END ................n_neighbors=5, p=2;, score=0.956 total time=   0.0s\n",
            "[CV 1/5] END ................n_neighbors=6, p=1;, score=0.906 total time=   0.0s\n",
            "[CV 2/5] END ................n_neighbors=6, p=1;, score=0.928 total time=   0.0s\n",
            "[CV 3/5] END ................n_neighbors=6, p=1;, score=0.913 total time=   0.0s\n",
            "[CV 4/5] END ................n_neighbors=6, p=1;, score=0.942 total time=   0.0s\n",
            "[CV 5/5] END ................n_neighbors=6, p=1;, score=0.956 total time=   0.0s\n",
            "[CV 1/5] END ................n_neighbors=6, p=2;, score=0.906 total time=   0.0s\n",
            "[CV 2/5] END ................n_neighbors=6, p=2;, score=0.920 total time=   0.0s\n",
            "[CV 3/5] END ................n_neighbors=6, p=2;, score=0.913 total time=   0.0s\n",
            "[CV 4/5] END ................n_neighbors=6, p=2;, score=0.956 total time=   0.0s\n",
            "[CV 5/5] END ................n_neighbors=6, p=2;, score=0.956 total time=   0.0s\n",
            "[CV 1/5] END ................n_neighbors=7, p=1;, score=0.899 total time=   0.0s\n",
            "[CV 2/5] END ................n_neighbors=7, p=1;, score=0.920 total time=   0.0s\n",
            "[CV 3/5] END ................n_neighbors=7, p=1;, score=0.913 total time=   0.0s\n",
            "[CV 4/5] END ................n_neighbors=7, p=1;, score=0.964 total time=   0.0s\n",
            "[CV 5/5] END ................n_neighbors=7, p=1;, score=0.949 total time=   0.0s\n",
            "[CV 1/5] END ................n_neighbors=7, p=2;, score=0.928 total time=   0.0s\n",
            "[CV 2/5] END ................n_neighbors=7, p=2;, score=0.942 total time=   0.0s\n",
            "[CV 3/5] END ................n_neighbors=7, p=2;, score=0.913 total time=   0.0s\n",
            "[CV 4/5] END ................n_neighbors=7, p=2;, score=0.949 total time=   0.0s\n",
            "[CV 5/5] END ................n_neighbors=7, p=2;, score=0.956 total time=   0.0s\n",
            "[CV 1/5] END ................n_neighbors=8, p=1;, score=0.891 total time=   0.0s\n",
            "[CV 2/5] END ................n_neighbors=8, p=1;, score=0.906 total time=   0.0s\n",
            "[CV 3/5] END ................n_neighbors=8, p=1;, score=0.906 total time=   0.0s\n",
            "[CV 4/5] END ................n_neighbors=8, p=1;, score=0.956 total time=   0.0s\n",
            "[CV 5/5] END ................n_neighbors=8, p=1;, score=0.942 total time=   0.0s\n",
            "[CV 1/5] END ................n_neighbors=8, p=2;, score=0.899 total time=   0.0s\n",
            "[CV 2/5] END ................n_neighbors=8, p=2;, score=0.920 total time=   0.0s\n",
            "[CV 3/5] END ................n_neighbors=8, p=2;, score=0.913 total time=   0.0s\n",
            "[CV 4/5] END ................n_neighbors=8, p=2;, score=0.934 total time=   0.0s\n",
            "[CV 5/5] END ................n_neighbors=8, p=2;, score=0.949 total time=   0.0s\n",
            "[CV 1/5] END ................n_neighbors=9, p=1;, score=0.891 total time=   0.0s\n",
            "[CV 2/5] END ................n_neighbors=9, p=1;, score=0.942 total time=   0.0s\n",
            "[CV 3/5] END ................n_neighbors=9, p=1;, score=0.906 total time=   0.0s\n",
            "[CV 4/5] END ................n_neighbors=9, p=1;, score=0.949 total time=   0.0s\n",
            "[CV 5/5] END ................n_neighbors=9, p=1;, score=0.949 total time=   0.0s\n",
            "[CV 1/5] END ................n_neighbors=9, p=2;, score=0.906 total time=   0.0s\n",
            "[CV 2/5] END ................n_neighbors=9, p=2;, score=0.928 total time=   0.0s\n",
            "[CV 3/5] END ................n_neighbors=9, p=2;, score=0.920 total time=   0.0s\n",
            "[CV 4/5] END ................n_neighbors=9, p=2;, score=0.934 total time=   0.0s\n",
            "[CV 5/5] END ................n_neighbors=9, p=2;, score=0.964 total time=   0.0s\n",
            "[CV 1/5] END ...............n_neighbors=10, p=1;, score=0.906 total time=   0.0s\n",
            "[CV 2/5] END ...............n_neighbors=10, p=1;, score=0.928 total time=   0.0s\n",
            "[CV 3/5] END ...............n_neighbors=10, p=1;, score=0.899 total time=   0.0s\n",
            "[CV 4/5] END ...............n_neighbors=10, p=1;, score=0.934 total time=   0.0s\n",
            "[CV 5/5] END ...............n_neighbors=10, p=1;, score=0.927 total time=   0.0s\n",
            "[CV 1/5] END ...............n_neighbors=10, p=2;, score=0.899 total time=   0.0s\n",
            "[CV 2/5] END ...............n_neighbors=10, p=2;, score=0.906 total time=   0.0s\n",
            "[CV 3/5] END ...............n_neighbors=10, p=2;, score=0.906 total time=   0.0s\n",
            "[CV 4/5] END ...............n_neighbors=10, p=2;, score=0.934 total time=   0.0s\n",
            "[CV 5/5] END ...............n_neighbors=10, p=2;, score=0.934 total time=   0.0s\n",
            "[CV 1/5] END ...............n_neighbors=11, p=1;, score=0.906 total time=   0.0s\n",
            "[CV 2/5] END ...............n_neighbors=11, p=1;, score=0.935 total time=   0.0s\n",
            "[CV 3/5] END ...............n_neighbors=11, p=1;, score=0.913 total time=   0.0s\n",
            "[CV 4/5] END ...............n_neighbors=11, p=1;, score=0.934 total time=   0.0s\n",
            "[CV 5/5] END ...............n_neighbors=11, p=1;, score=0.942 total time=   0.0s\n",
            "[CV 1/5] END ...............n_neighbors=11, p=2;, score=0.906 total time=   0.0s\n",
            "[CV 2/5] END ...............n_neighbors=11, p=2;, score=0.920 total time=   0.0s\n",
            "[CV 3/5] END ...............n_neighbors=11, p=2;, score=0.913 total time=   0.0s\n",
            "[CV 4/5] END ...............n_neighbors=11, p=2;, score=0.942 total time=   0.0s\n",
            "[CV 5/5] END ...............n_neighbors=11, p=2;, score=0.942 total time=   0.0s\n",
            "[CV 1/5] END ...............n_neighbors=12, p=1;, score=0.891 total time=   0.0s\n",
            "[CV 2/5] END ...............n_neighbors=12, p=1;, score=0.913 total time=   0.0s\n",
            "[CV 3/5] END ...............n_neighbors=12, p=1;, score=0.891 total time=   0.0s\n",
            "[CV 4/5] END ...............n_neighbors=12, p=1;, score=0.927 total time=   0.0s\n",
            "[CV 5/5] END ...............n_neighbors=12, p=1;, score=0.927 total time=   0.0s\n",
            "[CV 1/5] END ...............n_neighbors=12, p=2;, score=0.891 total time=   0.0s\n",
            "[CV 2/5] END ...............n_neighbors=12, p=2;, score=0.913 total time=   0.0s\n",
            "[CV 3/5] END ...............n_neighbors=12, p=2;, score=0.913 total time=   0.0s\n",
            "[CV 4/5] END ...............n_neighbors=12, p=2;, score=0.949 total time=   0.0s\n",
            "[CV 5/5] END ...............n_neighbors=12, p=2;, score=0.942 total time=   0.0s\n",
            "[CV 1/5] END ...............n_neighbors=13, p=1;, score=0.906 total time=   0.0s\n",
            "[CV 2/5] END ...............n_neighbors=13, p=1;, score=0.920 total time=   0.0s\n",
            "[CV 3/5] END ...............n_neighbors=13, p=1;, score=0.913 total time=   0.0s\n",
            "[CV 4/5] END ...............n_neighbors=13, p=1;, score=0.927 total time=   0.0s\n",
            "[CV 5/5] END ...............n_neighbors=13, p=1;, score=0.927 total time=   0.0s\n",
            "[CV 1/5] END ...............n_neighbors=13, p=2;, score=0.913 total time=   0.0s\n",
            "[CV 2/5] END ...............n_neighbors=13, p=2;, score=0.920 total time=   0.0s\n",
            "[CV 3/5] END ...............n_neighbors=13, p=2;, score=0.920 total time=   0.0s\n",
            "[CV 4/5] END ...............n_neighbors=13, p=2;, score=0.942 total time=   0.0s\n",
            "[CV 5/5] END ...............n_neighbors=13, p=2;, score=0.942 total time=   0.0s\n",
            "[CV 1/5] END ...............n_neighbors=14, p=1;, score=0.906 total time=   0.0s\n",
            "[CV 2/5] END ...............n_neighbors=14, p=1;, score=0.906 total time=   0.0s\n",
            "[CV 3/5] END ...............n_neighbors=14, p=1;, score=0.899 total time=   0.0s\n",
            "[CV 4/5] END ...............n_neighbors=14, p=1;, score=0.934 total time=   0.0s\n",
            "[CV 5/5] END ...............n_neighbors=14, p=1;, score=0.927 total time=   0.0s\n",
            "[CV 1/5] END ...............n_neighbors=14, p=2;, score=0.899 total time=   0.0s\n",
            "[CV 2/5] END ...............n_neighbors=14, p=2;, score=0.920 total time=   0.0s\n",
            "[CV 3/5] END ...............n_neighbors=14, p=2;, score=0.913 total time=   0.0s\n",
            "[CV 4/5] END ...............n_neighbors=14, p=2;, score=0.934 total time=   0.0s\n",
            "[CV 5/5] END ...............n_neighbors=14, p=2;, score=0.942 total time=   0.0s\n",
            "[CV 1/5] END ...............n_neighbors=15, p=1;, score=0.906 total time=   0.0s\n",
            "[CV 2/5] END ...............n_neighbors=15, p=1;, score=0.906 total time=   0.0s\n",
            "[CV 3/5] END ...............n_neighbors=15, p=1;, score=0.899 total time=   0.0s\n",
            "[CV 4/5] END ...............n_neighbors=15, p=1;, score=0.927 total time=   0.0s\n",
            "[CV 5/5] END ...............n_neighbors=15, p=1;, score=0.920 total time=   0.0s\n",
            "[CV 1/5] END ...............n_neighbors=15, p=2;, score=0.913 total time=   0.0s\n",
            "[CV 2/5] END ...............n_neighbors=15, p=2;, score=0.928 total time=   0.0s\n",
            "[CV 3/5] END ...............n_neighbors=15, p=2;, score=0.913 total time=   0.0s\n",
            "[CV 4/5] END ...............n_neighbors=15, p=2;, score=0.934 total time=   0.0s\n",
            "[CV 5/5] END ...............n_neighbors=15, p=2;, score=0.934 total time=   0.0s\n",
            "[CV 1/5] END ...............n_neighbors=16, p=1;, score=0.913 total time=   0.0s\n",
            "[CV 2/5] END ...............n_neighbors=16, p=1;, score=0.906 total time=   0.0s\n",
            "[CV 3/5] END ...............n_neighbors=16, p=1;, score=0.899 total time=   0.0s\n",
            "[CV 4/5] END ...............n_neighbors=16, p=1;, score=0.927 total time=   0.0s\n",
            "[CV 5/5] END ...............n_neighbors=16, p=1;, score=0.920 total time=   0.0s\n",
            "[CV 1/5] END ...............n_neighbors=16, p=2;, score=0.906 total time=   0.0s\n",
            "[CV 2/5] END ...............n_neighbors=16, p=2;, score=0.928 total time=   0.0s\n",
            "[CV 3/5] END ...............n_neighbors=16, p=2;, score=0.913 total time=   0.0s\n",
            "[CV 4/5] END ...............n_neighbors=16, p=2;, score=0.934 total time=   0.0s\n",
            "[CV 5/5] END ...............n_neighbors=16, p=2;, score=0.934 total time=   0.0s\n",
            "[CV 1/5] END ...............n_neighbors=17, p=1;, score=0.928 total time=   0.0s\n",
            "[CV 2/5] END ...............n_neighbors=17, p=1;, score=0.906 total time=   0.0s\n",
            "[CV 3/5] END ...............n_neighbors=17, p=1;, score=0.906 total time=   0.0s\n",
            "[CV 4/5] END ...............n_neighbors=17, p=1;, score=0.927 total time=   0.0s\n",
            "[CV 5/5] END ...............n_neighbors=17, p=1;, score=0.920 total time=   0.0s\n",
            "[CV 1/5] END ...............n_neighbors=17, p=2;, score=0.906 total time=   0.0s\n",
            "[CV 2/5] END ...............n_neighbors=17, p=2;, score=0.928 total time=   0.0s\n",
            "[CV 3/5] END ...............n_neighbors=17, p=2;, score=0.913 total time=   0.0s\n",
            "[CV 4/5] END ...............n_neighbors=17, p=2;, score=0.934 total time=   0.0s\n",
            "[CV 5/5] END ...............n_neighbors=17, p=2;, score=0.934 total time=   0.0s\n",
            "[CV 1/5] END ...............n_neighbors=18, p=1;, score=0.920 total time=   0.0s\n",
            "[CV 2/5] END ...............n_neighbors=18, p=1;, score=0.899 total time=   0.0s\n",
            "[CV 3/5] END ...............n_neighbors=18, p=1;, score=0.891 total time=   0.0s\n",
            "[CV 4/5] END ...............n_neighbors=18, p=1;, score=0.920 total time=   0.0s\n",
            "[CV 5/5] END ...............n_neighbors=18, p=1;, score=0.912 total time=   0.0s\n",
            "[CV 1/5] END ...............n_neighbors=18, p=2;, score=0.906 total time=   0.0s\n",
            "[CV 2/5] END ...............n_neighbors=18, p=2;, score=0.920 total time=   0.0s\n",
            "[CV 3/5] END ...............n_neighbors=18, p=2;, score=0.899 total time=   0.0s\n",
            "[CV 4/5] END ...............n_neighbors=18, p=2;, score=0.927 total time=   0.0s\n",
            "[CV 5/5] END ...............n_neighbors=18, p=2;, score=0.927 total time=   0.0s\n",
            "[CV 1/5] END ...............n_neighbors=19, p=1;, score=0.920 total time=   0.0s\n",
            "[CV 2/5] END ...............n_neighbors=19, p=1;, score=0.899 total time=   0.0s\n",
            "[CV 3/5] END ...............n_neighbors=19, p=1;, score=0.899 total time=   0.0s\n",
            "[CV 4/5] END ...............n_neighbors=19, p=1;, score=0.920 total time=   0.0s\n",
            "[CV 5/5] END ...............n_neighbors=19, p=1;, score=0.912 total time=   0.0s\n",
            "[CV 1/5] END ...............n_neighbors=19, p=2;, score=0.906 total time=   0.0s\n",
            "[CV 2/5] END ...............n_neighbors=19, p=2;, score=0.928 total time=   0.0s\n",
            "[CV 3/5] END ...............n_neighbors=19, p=2;, score=0.899 total time=   0.0s\n",
            "[CV 4/5] END ...............n_neighbors=19, p=2;, score=0.934 total time=   0.0s\n",
            "[CV 5/5] END ...............n_neighbors=19, p=2;, score=0.934 total time=   0.0s\n",
            "\n",
            "*********************************************************************\n",
            "\n",
            "KNeighborsClassifier\n",
            "\n",
            "*********************************************************************\n",
            "\n",
            "After running the grid search with cross validation we found that the best Hyper-Parameter are :\n",
            "\n",
            "{'n_neighbors': 3, 'p': 1}\n",
            "\n",
            "*********************************************************************\n",
            "\n",
            "Grid Search Summary :\n",
            "\n"
          ]
        },
        {
          "output_type": "display_data",
          "data": {
            "text/plain": [
              "   mean_fit_time  std_fit_time  mean_score_time  std_score_time  \\\n",
              "4       0.001694      0.000649         0.007248        0.002894   \n",
              "7       0.001921      0.000391         0.005392        0.000690   \n",
              "0       0.002110      0.000344         0.006832        0.001973   \n",
              "5       0.001910      0.000146         0.006222        0.002461   \n",
              "8       0.001517      0.000350         0.005108        0.000058   \n",
              "\n",
              "  param_n_neighbors param_p                      params  split0_test_score  \\\n",
              "4                 3       1  {'n_neighbors': 3, 'p': 1}           0.913043   \n",
              "7                 4       2  {'n_neighbors': 4, 'p': 2}           0.920290   \n",
              "0                 1       1  {'n_neighbors': 1, 'p': 1}           0.927536   \n",
              "5                 3       2  {'n_neighbors': 3, 'p': 2}           0.920290   \n",
              "8                 5       1  {'n_neighbors': 5, 'p': 1}           0.905797   \n",
              "\n",
              "   split1_test_score  split2_test_score  split3_test_score  split4_test_score  \\\n",
              "4           0.963768           0.942029           0.970803           0.948905   \n",
              "7           0.949275           0.927536           0.963504           0.963504   \n",
              "0           0.942029           0.949275           0.963504           0.941606   \n",
              "5           0.963768           0.927536           0.948905           0.956204   \n",
              "8           0.956522           0.927536           0.956204           0.963504   \n",
              "\n",
              "   mean_test_score  std_test_score  rank_test_score  \n",
              "4         0.947710        0.020133                1  \n",
              "7         0.944822        0.017991                2  \n",
              "0         0.944790        0.011711                3  \n",
              "5         0.943341        0.016702                4  \n",
              "8         0.941913        0.021885                5  "
            ],
            "text/html": [
              "\n",
              "  <div id=\"df-6f5839c7-5cfb-4c2d-8e93-9f30f2a0c36a\">\n",
              "    <div class=\"colab-df-container\">\n",
              "      <div>\n",
              "<style scoped>\n",
              "    .dataframe tbody tr th:only-of-type {\n",
              "        vertical-align: middle;\n",
              "    }\n",
              "\n",
              "    .dataframe tbody tr th {\n",
              "        vertical-align: top;\n",
              "    }\n",
              "\n",
              "    .dataframe thead th {\n",
              "        text-align: right;\n",
              "    }\n",
              "</style>\n",
              "<table border=\"1\" class=\"dataframe\">\n",
              "  <thead>\n",
              "    <tr style=\"text-align: right;\">\n",
              "      <th></th>\n",
              "      <th>mean_fit_time</th>\n",
              "      <th>std_fit_time</th>\n",
              "      <th>mean_score_time</th>\n",
              "      <th>std_score_time</th>\n",
              "      <th>param_n_neighbors</th>\n",
              "      <th>param_p</th>\n",
              "      <th>params</th>\n",
              "      <th>split0_test_score</th>\n",
              "      <th>split1_test_score</th>\n",
              "      <th>split2_test_score</th>\n",
              "      <th>split3_test_score</th>\n",
              "      <th>split4_test_score</th>\n",
              "      <th>mean_test_score</th>\n",
              "      <th>std_test_score</th>\n",
              "      <th>rank_test_score</th>\n",
              "    </tr>\n",
              "  </thead>\n",
              "  <tbody>\n",
              "    <tr>\n",
              "      <th>4</th>\n",
              "      <td>0.001694</td>\n",
              "      <td>0.000649</td>\n",
              "      <td>0.007248</td>\n",
              "      <td>0.002894</td>\n",
              "      <td>3</td>\n",
              "      <td>1</td>\n",
              "      <td>{'n_neighbors': 3, 'p': 1}</td>\n",
              "      <td>0.913043</td>\n",
              "      <td>0.963768</td>\n",
              "      <td>0.942029</td>\n",
              "      <td>0.970803</td>\n",
              "      <td>0.948905</td>\n",
              "      <td>0.947710</td>\n",
              "      <td>0.020133</td>\n",
              "      <td>1</td>\n",
              "    </tr>\n",
              "    <tr>\n",
              "      <th>7</th>\n",
              "      <td>0.001921</td>\n",
              "      <td>0.000391</td>\n",
              "      <td>0.005392</td>\n",
              "      <td>0.000690</td>\n",
              "      <td>4</td>\n",
              "      <td>2</td>\n",
              "      <td>{'n_neighbors': 4, 'p': 2}</td>\n",
              "      <td>0.920290</td>\n",
              "      <td>0.949275</td>\n",
              "      <td>0.927536</td>\n",
              "      <td>0.963504</td>\n",
              "      <td>0.963504</td>\n",
              "      <td>0.944822</td>\n",
              "      <td>0.017991</td>\n",
              "      <td>2</td>\n",
              "    </tr>\n",
              "    <tr>\n",
              "      <th>0</th>\n",
              "      <td>0.002110</td>\n",
              "      <td>0.000344</td>\n",
              "      <td>0.006832</td>\n",
              "      <td>0.001973</td>\n",
              "      <td>1</td>\n",
              "      <td>1</td>\n",
              "      <td>{'n_neighbors': 1, 'p': 1}</td>\n",
              "      <td>0.927536</td>\n",
              "      <td>0.942029</td>\n",
              "      <td>0.949275</td>\n",
              "      <td>0.963504</td>\n",
              "      <td>0.941606</td>\n",
              "      <td>0.944790</td>\n",
              "      <td>0.011711</td>\n",
              "      <td>3</td>\n",
              "    </tr>\n",
              "    <tr>\n",
              "      <th>5</th>\n",
              "      <td>0.001910</td>\n",
              "      <td>0.000146</td>\n",
              "      <td>0.006222</td>\n",
              "      <td>0.002461</td>\n",
              "      <td>3</td>\n",
              "      <td>2</td>\n",
              "      <td>{'n_neighbors': 3, 'p': 2}</td>\n",
              "      <td>0.920290</td>\n",
              "      <td>0.963768</td>\n",
              "      <td>0.927536</td>\n",
              "      <td>0.948905</td>\n",
              "      <td>0.956204</td>\n",
              "      <td>0.943341</td>\n",
              "      <td>0.016702</td>\n",
              "      <td>4</td>\n",
              "    </tr>\n",
              "    <tr>\n",
              "      <th>8</th>\n",
              "      <td>0.001517</td>\n",
              "      <td>0.000350</td>\n",
              "      <td>0.005108</td>\n",
              "      <td>0.000058</td>\n",
              "      <td>5</td>\n",
              "      <td>1</td>\n",
              "      <td>{'n_neighbors': 5, 'p': 1}</td>\n",
              "      <td>0.905797</td>\n",
              "      <td>0.956522</td>\n",
              "      <td>0.927536</td>\n",
              "      <td>0.956204</td>\n",
              "      <td>0.963504</td>\n",
              "      <td>0.941913</td>\n",
              "      <td>0.021885</td>\n",
              "      <td>5</td>\n",
              "    </tr>\n",
              "  </tbody>\n",
              "</table>\n",
              "</div>\n",
              "      <button class=\"colab-df-convert\" onclick=\"convertToInteractive('df-6f5839c7-5cfb-4c2d-8e93-9f30f2a0c36a')\"\n",
              "              title=\"Convert this dataframe to an interactive table.\"\n",
              "              style=\"display:none;\">\n",
              "        \n",
              "  <svg xmlns=\"http://www.w3.org/2000/svg\" height=\"24px\"viewBox=\"0 0 24 24\"\n",
              "       width=\"24px\">\n",
              "    <path d=\"M0 0h24v24H0V0z\" fill=\"none\"/>\n",
              "    <path d=\"M18.56 5.44l.94 2.06.94-2.06 2.06-.94-2.06-.94-.94-2.06-.94 2.06-2.06.94zm-11 1L8.5 8.5l.94-2.06 2.06-.94-2.06-.94L8.5 2.5l-.94 2.06-2.06.94zm10 10l.94 2.06.94-2.06 2.06-.94-2.06-.94-.94-2.06-.94 2.06-2.06.94z\"/><path d=\"M17.41 7.96l-1.37-1.37c-.4-.4-.92-.59-1.43-.59-.52 0-1.04.2-1.43.59L10.3 9.45l-7.72 7.72c-.78.78-.78 2.05 0 2.83L4 21.41c.39.39.9.59 1.41.59.51 0 1.02-.2 1.41-.59l7.78-7.78 2.81-2.81c.8-.78.8-2.07 0-2.86zM5.41 20L4 18.59l7.72-7.72 1.47 1.35L5.41 20z\"/>\n",
              "  </svg>\n",
              "      </button>\n",
              "      \n",
              "  <style>\n",
              "    .colab-df-container {\n",
              "      display:flex;\n",
              "      flex-wrap:wrap;\n",
              "      gap: 12px;\n",
              "    }\n",
              "\n",
              "    .colab-df-convert {\n",
              "      background-color: #E8F0FE;\n",
              "      border: none;\n",
              "      border-radius: 50%;\n",
              "      cursor: pointer;\n",
              "      display: none;\n",
              "      fill: #1967D2;\n",
              "      height: 32px;\n",
              "      padding: 0 0 0 0;\n",
              "      width: 32px;\n",
              "    }\n",
              "\n",
              "    .colab-df-convert:hover {\n",
              "      background-color: #E2EBFA;\n",
              "      box-shadow: 0px 1px 2px rgba(60, 64, 67, 0.3), 0px 1px 3px 1px rgba(60, 64, 67, 0.15);\n",
              "      fill: #174EA6;\n",
              "    }\n",
              "\n",
              "    [theme=dark] .colab-df-convert {\n",
              "      background-color: #3B4455;\n",
              "      fill: #D2E3FC;\n",
              "    }\n",
              "\n",
              "    [theme=dark] .colab-df-convert:hover {\n",
              "      background-color: #434B5C;\n",
              "      box-shadow: 0px 1px 3px 1px rgba(0, 0, 0, 0.15);\n",
              "      filter: drop-shadow(0px 1px 2px rgba(0, 0, 0, 0.3));\n",
              "      fill: #FFFFFF;\n",
              "    }\n",
              "  </style>\n",
              "\n",
              "      <script>\n",
              "        const buttonEl =\n",
              "          document.querySelector('#df-6f5839c7-5cfb-4c2d-8e93-9f30f2a0c36a button.colab-df-convert');\n",
              "        buttonEl.style.display =\n",
              "          google.colab.kernel.accessAllowed ? 'block' : 'none';\n",
              "\n",
              "        async function convertToInteractive(key) {\n",
              "          const element = document.querySelector('#df-6f5839c7-5cfb-4c2d-8e93-9f30f2a0c36a');\n",
              "          const dataTable =\n",
              "            await google.colab.kernel.invokeFunction('convertToInteractive',\n",
              "                                                     [key], {});\n",
              "          if (!dataTable) return;\n",
              "\n",
              "          const docLinkHtml = 'Like what you see? Visit the ' +\n",
              "            '<a target=\"_blank\" href=https://colab.research.google.com/notebooks/data_table.ipynb>data table notebook</a>'\n",
              "            + ' to learn more about interactive tables.';\n",
              "          element.innerHTML = '';\n",
              "          dataTable['output_type'] = 'display_data';\n",
              "          await google.colab.output.renderOutput(dataTable, element);\n",
              "          const docLink = document.createElement('div');\n",
              "          docLink.innerHTML = docLinkHtml;\n",
              "          element.appendChild(docLink);\n",
              "        }\n",
              "      </script>\n",
              "    </div>\n",
              "  </div>\n",
              "  "
            ]
          },
          "metadata": {}
        },
        {
          "output_type": "stream",
          "name": "stdout",
          "text": [
            "\n",
            "*********************************************************************\n",
            "\n"
          ]
        },
        {
          "output_type": "display_data",
          "data": {
            "text/plain": [
              "<Figure size 432x288 with 1 Axes>"
            ],
            "image/png": "[encoded data removed]"
          },
          "metadata": {
            "needs_background": "light"
          }
        },
        {
          "output_type": "stream",
          "name": "stdout",
          "text": [
            "\n"
          ]
        }
      ],
      "source": [
        "parameters = {'n_neighbors':list(range(1, 20)), 'p': [1, 2]}\n",
        "knn = gridSearch(KNeighborsClassifier(), parameters)"
      ]
    },
    {
      "cell_type": "markdown",
      "metadata": {
        "id": "SClWRWXG1YtR"
      },
      "source": [
        "Classification Report"
      ]
    },
    {
      "cell_type": "code",
      "source": [
        "classificationReport(knn, X_test, y_test)"
      ],
      "metadata": {
        "id": "5kezqLrbuAWb",
        "colab": {
          "base_uri": "https://localhost:8080/",
          "height": 1000
        },
        "outputId": "5694ec75-da98-4eb1-9b9f-3196819466b0"
      },
      "execution_count": 17,
      "outputs": [
        {
          "output_type": "stream",
          "name": "stdout",
          "text": [
            "              precision    recall  f1-score   support\n",
            "\n",
            "           0       0.96      0.98      0.97       151\n",
            "           1       0.84      0.73      0.78        22\n",
            "\n",
            "    accuracy                           0.95       173\n",
            "   macro avg       0.90      0.85      0.88       173\n",
            "weighted avg       0.95      0.95      0.95       173\n",
            "\n",
            "\n"
          ]
        },
        {
          "output_type": "display_data",
          "data": {
            "text/plain": [
              "<Figure size 432x288 with 1 Axes>"
            ],
            "image/png": "[encoded data removed]"
          },
          "metadata": {
            "needs_background": "light"
          }
        },
        {
          "output_type": "stream",
          "name": "stdout",
          "text": [
            "\n"
          ]
        },
        {
          "output_type": "display_data",
          "data": {
            "text/plain": [
              "<Figure size 432x288 with 1 Axes>"
            ],
            "image/png": "[encoded data removed]"
          },
          "metadata": {
            "needs_background": "light"
          }
        },
        {
          "output_type": "stream",
          "name": "stdout",
          "text": [
            "\n"
          ]
        },
        {
          "output_type": "display_data",
          "data": {
            "text/plain": [
              "<Figure size 432x288 with 2 Axes>"
            ],
            "image/png": "[encoded data removed]"
          },
          "metadata": {
            "needs_background": "light"
          }
        }
      ]
    },
    {
      "cell_type": "markdown",
      "metadata": {
        "id": "Of6oD9q98c3S"
      },
      "source": [
        "# 2- Logistic Regression\n",
        "\n",
        "Warning The choice of the algorithm depends on the penalty chosen.\n",
        "\n",
        "Supported penalties by solver:\n",
        "- ‘lbfgs’ - [‘l2’, None]\n",
        "- ‘liblinear’ - [‘l1’, ‘l2’]\n",
        "- ‘newton-cg’ - [‘l2’, None]\n",
        "- ‘newton-cholesky’ - [‘l2’, None]\n",
        "- ‘sag’ - [‘l2’, None]\n",
        "- ‘saga’ - [‘elasticnet’, ‘l1’, ‘l2’, None]\n",
        "\n",
        "After trail and error we figure that will lead to failures in some combinations during the grid search so we will use:\n",
        "- ‘liblinear’ - [‘l1’, ‘l2’]."
      ]
    },
    {
      "cell_type": "markdown",
      "source": [
        "**Grid Search**"
      ],
      "metadata": {
        "id": "VokAEAs54Rg2"
      }
    },
    {
      "cell_type": "code",
      "execution_count": 18,
      "metadata": {
        "id": "lNExwDuPiSBY",
        "colab": {
          "base_uri": "https://localhost:8080/",
          "height": 1000
        },
        "outputId": "d2b22828-8080-403a-eafe-c2e19f829be8"
      },
      "outputs": [
        {
          "output_type": "stream",
          "name": "stdout",
          "text": [
            "Fitting 5 folds for each of 18 candidates, totalling 90 fits\n",
            "[CV 1/5] END C=1e-05, penalty=l1, solver=liblinear;, score=0.877 total time=   0.0s\n",
            "[CV 2/5] END C=1e-05, penalty=l1, solver=liblinear;, score=0.877 total time=   0.0s\n",
            "[CV 3/5] END C=1e-05, penalty=l1, solver=liblinear;, score=0.870 total time=   0.0s\n",
            "[CV 4/5] END C=1e-05, penalty=l1, solver=liblinear;, score=0.876 total time=   0.0s\n",
            "[CV 5/5] END C=1e-05, penalty=l1, solver=liblinear;, score=0.876 total time=   0.0s\n",
            "[CV 1/5] END C=1e-05, penalty=l2, solver=liblinear;, score=0.877 total time=   0.0s\n",
            "[CV 2/5] END C=1e-05, penalty=l2, solver=liblinear;, score=0.877 total time=   0.0s\n",
            "[CV 3/5] END C=1e-05, penalty=l2, solver=liblinear;, score=0.870 total time=   0.0s\n",
            "[CV 4/5] END C=1e-05, penalty=l2, solver=liblinear;, score=0.876 total time=   0.0s\n",
            "[CV 5/5] END C=1e-05, penalty=l2, solver=liblinear;, score=0.876 total time=   0.0s\n",
            "[CV 1/5] END C=0.0001, penalty=l1, solver=liblinear;, score=0.877 total time=   0.0s\n",
            "[CV 2/5] END C=0.0001, penalty=l1, solver=liblinear;, score=0.877 total time=   0.0s\n",
            "[CV 3/5] END C=0.0001, penalty=l1, solver=liblinear;, score=0.870 total time=   0.0s\n",
            "[CV 4/5] END C=0.0001, penalty=l1, solver=liblinear;, score=0.876 total time=   0.0s\n",
            "[CV 5/5] END C=0.0001, penalty=l1, solver=liblinear;, score=0.876 total time=   0.0s\n",
            "[CV 1/5] END C=0.0001, penalty=l2, solver=liblinear;, score=0.877 total time=   0.0s\n",
            "[CV 2/5] END C=0.0001, penalty=l2, solver=liblinear;, score=0.877 total time=   0.0s\n",
            "[CV 3/5] END C=0.0001, penalty=l2, solver=liblinear;, score=0.877 total time=   0.0s\n",
            "[CV 4/5] END C=0.0001, penalty=l2, solver=liblinear;, score=0.876 total time=   0.0s\n",
            "[CV 5/5] END C=0.0001, penalty=l2, solver=liblinear;, score=0.876 total time=   0.0s\n",
            "[CV 1/5] END C=0.001, penalty=l1, solver=liblinear;, score=0.877 total time=   0.0s\n",
            "[CV 2/5] END C=0.001, penalty=l1, solver=liblinear;, score=0.877 total time=   0.0s\n",
            "[CV 3/5] END C=0.001, penalty=l1, solver=liblinear;, score=0.870 total time=   0.0s\n",
            "[CV 4/5] END C=0.001, penalty=l1, solver=liblinear;, score=0.876 total time=   0.0s\n",
            "[CV 5/5] END C=0.001, penalty=l1, solver=liblinear;, score=0.876 total time=   0.0s\n",
            "[CV 1/5] END C=0.001, penalty=l2, solver=liblinear;, score=0.906 total time=   0.0s\n",
            "[CV 2/5] END C=0.001, penalty=l2, solver=liblinear;, score=0.913 total time=   0.0s\n",
            "[CV 3/5] END C=0.001, penalty=l2, solver=liblinear;, score=0.906 total time=   0.0s\n",
            "[CV 4/5] END C=0.001, penalty=l2, solver=liblinear;, score=0.898 total time=   0.0s\n",
            "[CV 5/5] END C=0.001, penalty=l2, solver=liblinear;, score=0.876 total time=   0.0s\n",
            "[CV 1/5] END C=0.01, penalty=l1, solver=liblinear;, score=0.891 total time=   0.0s\n",
            "[CV 2/5] END C=0.01, penalty=l1, solver=liblinear;, score=0.913 total time=   0.0s\n",
            "[CV 3/5] END C=0.01, penalty=l1, solver=liblinear;, score=0.899 total time=   0.0s\n",
            "[CV 4/5] END C=0.01, penalty=l1, solver=liblinear;, score=0.905 total time=   0.0s\n",
            "[CV 5/5] END C=0.01, penalty=l1, solver=liblinear;, score=0.869 total time=   0.0s\n",
            "[CV 1/5] END C=0.01, penalty=l2, solver=liblinear;, score=0.928 total time=   0.0s\n",
            "[CV 2/5] END C=0.01, penalty=l2, solver=liblinear;, score=0.935 total time=   0.0s\n",
            "[CV 3/5] END C=0.01, penalty=l2, solver=liblinear;, score=0.935 total time=   0.0s\n",
            "[CV 4/5] END C=0.01, penalty=l2, solver=liblinear;, score=0.934 total time=   0.0s\n",
            "[CV 5/5] END C=0.01, penalty=l2, solver=liblinear;, score=0.920 total time=   0.0s\n",
            "[CV 1/5] END C=0.1, penalty=l1, solver=liblinear;, score=0.920 total time=   0.0s\n",
            "[CV 2/5] END C=0.1, penalty=l1, solver=liblinear;, score=0.928 total time=   0.0s\n",
            "[CV 3/5] END C=0.1, penalty=l1, solver=liblinear;, score=0.935 total time=   0.0s\n",
            "[CV 4/5] END C=0.1, penalty=l1, solver=liblinear;, score=0.942 total time=   0.0s\n",
            "[CV 5/5] END C=0.1, penalty=l1, solver=liblinear;, score=0.927 total time=   0.0s\n",
            "[CV 1/5] END C=0.1, penalty=l2, solver=liblinear;, score=0.942 total time=   0.0s\n",
            "[CV 2/5] END C=0.1, penalty=l2, solver=liblinear;, score=0.935 total time=   0.0s\n",
            "[CV 3/5] END C=0.1, penalty=l2, solver=liblinear;, score=0.942 total time=   0.0s\n",
            "[CV 4/5] END C=0.1, penalty=l2, solver=liblinear;, score=0.964 total time=   0.0s\n",
            "[CV 5/5] END C=0.1, penalty=l2, solver=liblinear;, score=0.920 total time=   0.0s\n",
            "[CV 1/5] END .C=1, penalty=l1, solver=liblinear;, score=0.942 total time=   0.0s\n",
            "[CV 2/5] END .C=1, penalty=l1, solver=liblinear;, score=0.957 total time=   0.0s\n",
            "[CV 3/5] END .C=1, penalty=l1, solver=liblinear;, score=0.949 total time=   0.0s\n",
            "[CV 4/5] END .C=1, penalty=l1, solver=liblinear;, score=0.964 total time=   0.0s\n",
            "[CV 5/5] END .C=1, penalty=l1, solver=liblinear;, score=0.934 total time=   0.0s\n",
            "[CV 1/5] END .C=1, penalty=l2, solver=liblinear;, score=0.935 total time=   0.0s\n",
            "[CV 2/5] END .C=1, penalty=l2, solver=liblinear;, score=0.949 total time=   0.0s\n",
            "[CV 3/5] END .C=1, penalty=l2, solver=liblinear;, score=0.949 total time=   0.0s\n",
            "[CV 4/5] END .C=1, penalty=l2, solver=liblinear;, score=0.956 total time=   0.0s\n",
            "[CV 5/5] END .C=1, penalty=l2, solver=liblinear;, score=0.927 total time=   0.0s\n",
            "[CV 1/5] END C=10.0, penalty=l1, solver=liblinear;, score=0.942 total time=   0.0s\n",
            "[CV 2/5] END C=10.0, penalty=l1, solver=liblinear;, score=0.971 total time=   0.1s\n",
            "[CV 3/5] END C=10.0, penalty=l1, solver=liblinear;, score=0.949 total time=   0.0s\n",
            "[CV 4/5] END C=10.0, penalty=l1, solver=liblinear;, score=0.956 total time=   0.0s\n",
            "[CV 5/5] END C=10.0, penalty=l1, solver=liblinear;, score=0.920 total time=   0.0s\n",
            "[CV 1/5] END C=10.0, penalty=l2, solver=liblinear;, score=0.942 total time=   0.0s\n",
            "[CV 2/5] END C=10.0, penalty=l2, solver=liblinear;, score=0.964 total time=   0.0s\n",
            "[CV 3/5] END C=10.0, penalty=l2, solver=liblinear;, score=0.949 total time=   0.0s\n",
            "[CV 4/5] END C=10.0, penalty=l2, solver=liblinear;, score=0.964 total time=   0.0s\n",
            "[CV 5/5] END C=10.0, penalty=l2, solver=liblinear;, score=0.920 total time=   0.0s\n",
            "[CV 1/5] END C=100.0, penalty=l1, solver=liblinear;, score=0.942 total time=   0.0s\n",
            "[CV 2/5] END C=100.0, penalty=l1, solver=liblinear;, score=0.971 total time=   0.0s\n",
            "[CV 3/5] END C=100.0, penalty=l1, solver=liblinear;, score=0.957 total time=   0.1s\n",
            "[CV 4/5] END C=100.0, penalty=l1, solver=liblinear;, score=0.956 total time=   0.0s\n",
            "[CV 5/5] END C=100.0, penalty=l1, solver=liblinear;, score=0.920 total time=   0.0s\n",
            "[CV 1/5] END C=100.0, penalty=l2, solver=liblinear;, score=0.942 total time=   0.0s\n",
            "[CV 2/5] END C=100.0, penalty=l2, solver=liblinear;, score=0.971 total time=   0.0s\n",
            "[CV 3/5] END C=100.0, penalty=l2, solver=liblinear;, score=0.949 total time=   0.0s\n",
            "[CV 4/5] END C=100.0, penalty=l2, solver=liblinear;, score=0.956 total time=   0.0s\n",
            "[CV 5/5] END C=100.0, penalty=l2, solver=liblinear;, score=0.920 total time=   0.0s\n",
            "[CV 1/5] END C=1000.0, penalty=l1, solver=liblinear;, score=0.942 total time=   0.0s\n",
            "[CV 2/5] END C=1000.0, penalty=l1, solver=liblinear;, score=0.971 total time=   0.0s\n",
            "[CV 3/5] END C=1000.0, penalty=l1, solver=liblinear;, score=0.957 total time=   0.1s\n",
            "[CV 4/5] END C=1000.0, penalty=l1, solver=liblinear;, score=0.956 total time=   0.1s\n",
            "[CV 5/5] END C=1000.0, penalty=l1, solver=liblinear;, score=0.920 total time=   0.1s\n",
            "[CV 1/5] END C=1000.0, penalty=l2, solver=liblinear;, score=0.942 total time=   0.0s\n",
            "[CV 2/5] END C=1000.0, penalty=l2, solver=liblinear;, score=0.971 total time=   0.0s\n",
            "[CV 3/5] END C=1000.0, penalty=l2, solver=liblinear;, score=0.957 total time=   0.0s\n",
            "[CV 4/5] END C=1000.0, penalty=l2, solver=liblinear;, score=0.956 total time=   0.0s\n",
            "[CV 5/5] END C=1000.0, penalty=l2, solver=liblinear;, score=0.920 total time=   0.0s\n",
            "\n",
            "*********************************************************************\n",
            "\n",
            "LogisticRegression\n",
            "\n",
            "*********************************************************************\n",
            "\n",
            "After running the grid search with cross validation we found that the best Hyper-Parameter are :\n",
            "\n",
            "{'C': 1, 'penalty': 'l1', 'solver': 'liblinear'}\n",
            "\n",
            "*********************************************************************\n",
            "\n",
            "Grid Search Summary :\n",
            "\n"
          ]
        },
        {
          "output_type": "display_data",
          "data": {
            "text/plain": [
              "    mean_fit_time  std_fit_time  mean_score_time  std_score_time param_C  \\\n",
              "10       0.027089      0.003894         0.000759        0.000020       1   \n",
              "17       0.018745      0.001833         0.003756        0.005587  1000.0   \n",
              "14       0.038972      0.010123         0.003416        0.004939   100.0   \n",
              "16       0.045957      0.019861         0.004851        0.005592  1000.0   \n",
              "13       0.008845      0.004364         0.000769        0.000142    10.0   \n",
              "\n",
              "   param_penalty param_solver  \\\n",
              "10            l1    liblinear   \n",
              "17            l2    liblinear   \n",
              "14            l1    liblinear   \n",
              "16            l1    liblinear   \n",
              "13            l2    liblinear   \n",
              "\n",
              "                                               params  split0_test_score  \\\n",
              "10   {'C': 1, 'penalty': 'l1', 'solver': 'liblinear'}           0.942029   \n",
              "17  {'C': 1000.0, 'penalty': 'l2', 'solver': 'libl...           0.942029   \n",
              "14  {'C': 100.0, 'penalty': 'l1', 'solver': 'libli...           0.942029   \n",
              "16  {'C': 1000.0, 'penalty': 'l1', 'solver': 'libl...           0.942029   \n",
              "13  {'C': 10.0, 'penalty': 'l2', 'solver': 'liblin...           0.942029   \n",
              "\n",
              "    split1_test_score  split2_test_score  split3_test_score  \\\n",
              "10           0.956522           0.949275           0.963504   \n",
              "17           0.971014           0.956522           0.956204   \n",
              "14           0.971014           0.956522           0.956204   \n",
              "16           0.971014           0.956522           0.956204   \n",
              "13           0.963768           0.949275           0.963504   \n",
              "\n",
              "    split4_test_score  mean_test_score  std_test_score  rank_test_score  \n",
              "10           0.934307         0.949127        0.010309                1  \n",
              "17           0.919708         0.949096        0.017319                2  \n",
              "14           0.919708         0.949096        0.017319                2  \n",
              "16           0.919708         0.949096        0.017319                2  \n",
              "13           0.919708         0.947657        0.016286                5  "
            ],
            "text/html": [
              "\n",
              "  <div id=\"df-2cff624a-e414-4f7b-8d13-ab6e6e32f8f5\">\n",
              "    <div class=\"colab-df-container\">\n",
              "      <div>\n",
              "<style scoped>\n",
              "    .dataframe tbody tr th:only-of-type {\n",
              "        vertical-align: middle;\n",
              "    }\n",
              "\n",
              "    .dataframe tbody tr th {\n",
              "        vertical-align: top;\n",
              "    }\n",
              "\n",
              "    .dataframe thead th {\n",
              "        text-align: right;\n",
              "    }\n",
              "</style>\n",
              "<table border=\"1\" class=\"dataframe\">\n",
              "  <thead>\n",
              "    <tr style=\"text-align: right;\">\n",
              "      <th></th>\n",
              "      <th>mean_fit_time</th>\n",
              "      <th>std_fit_time</th>\n",
              "      <th>mean_score_time</th>\n",
              "      <th>std_score_time</th>\n",
              "      <th>param_C</th>\n",
              "      <th>param_penalty</th>\n",
              "      <th>param_solver</th>\n",
              "      <th>params</th>\n",
              "      <th>split0_test_score</th>\n",
              "      <th>split1_test_score</th>\n",
              "      <th>split2_test_score</th>\n",
              "      <th>split3_test_score</th>\n",
              "      <th>split4_test_score</th>\n",
              "      <th>mean_test_score</th>\n",
              "      <th>std_test_score</th>\n",
              "      <th>rank_test_score</th>\n",
              "    </tr>\n",
              "  </thead>\n",
              "  <tbody>\n",
              "    <tr>\n",
              "      <th>10</th>\n",
              "      <td>0.027089</td>\n",
              "      <td>0.003894</td>\n",
              "      <td>0.000759</td>\n",
              "      <td>0.000020</td>\n",
              "      <td>1</td>\n",
              "      <td>l1</td>\n",
              "      <td>liblinear</td>\n",
              "      <td>{'C': 1, 'penalty': 'l1', 'solver': 'liblinear'}</td>\n",
              "      <td>0.942029</td>\n",
              "      <td>0.956522</td>\n",
              "      <td>0.949275</td>\n",
              "      <td>0.963504</td>\n",
              "      <td>0.934307</td>\n",
              "      <td>0.949127</td>\n",
              "      <td>0.010309</td>\n",
              "      <td>1</td>\n",
              "    </tr>\n",
              "    <tr>\n",
              "      <th>17</th>\n",
              "      <td>0.018745</td>\n",
              "      <td>0.001833</td>\n",
              "      <td>0.003756</td>\n",
              "      <td>0.005587</td>\n",
              "      <td>1000.0</td>\n",
              "      <td>l2</td>\n",
              "      <td>liblinear</td>\n",
              "      <td>{'C': 1000.0, 'penalty': 'l2', 'solver': 'libl...</td>\n",
              "      <td>0.942029</td>\n",
              "      <td>0.971014</td>\n",
              "      <td>0.956522</td>\n",
              "      <td>0.956204</td>\n",
              "      <td>0.919708</td>\n",
              "      <td>0.949096</td>\n",
              "      <td>0.017319</td>\n",
              "      <td>2</td>\n",
              "    </tr>\n",
              "    <tr>\n",
              "      <th>14</th>\n",
              "      <td>0.038972</td>\n",
              "      <td>0.010123</td>\n",
              "      <td>0.003416</td>\n",
              "      <td>0.004939</td>\n",
              "      <td>100.0</td>\n",
              "      <td>l1</td>\n",
              "      <td>liblinear</td>\n",
              "      <td>{'C': 100.0, 'penalty': 'l1', 'solver': 'libli...</td>\n",
              "      <td>0.942029</td>\n",
              "      <td>0.971014</td>\n",
              "      <td>0.956522</td>\n",
              "      <td>0.956204</td>\n",
              "      <td>0.919708</td>\n",
              "      <td>0.949096</td>\n",
              "      <td>0.017319</td>\n",
              "      <td>2</td>\n",
              "    </tr>\n",
              "    <tr>\n",
              "      <th>16</th>\n",
              "      <td>0.045957</td>\n",
              "      <td>0.019861</td>\n",
              "      <td>0.004851</td>\n",
              "      <td>0.005592</td>\n",
              "      <td>1000.0</td>\n",
              "      <td>l1</td>\n",
              "      <td>liblinear</td>\n",
              "      <td>{'C': 1000.0, 'penalty': 'l1', 'solver': 'libl...</td>\n",
              "      <td>0.942029</td>\n",
              "      <td>0.971014</td>\n",
              "      <td>0.956522</td>\n",
              "      <td>0.956204</td>\n",
              "      <td>0.919708</td>\n",
              "      <td>0.949096</td>\n",
              "      <td>0.017319</td>\n",
              "      <td>2</td>\n",
              "    </tr>\n",
              "    <tr>\n",
              "      <th>13</th>\n",
              "      <td>0.008845</td>\n",
              "      <td>0.004364</td>\n",
              "      <td>0.000769</td>\n",
              "      <td>0.000142</td>\n",
              "      <td>10.0</td>\n",
              "      <td>l2</td>\n",
              "      <td>liblinear</td>\n",
              "      <td>{'C': 10.0, 'penalty': 'l2', 'solver': 'liblin...</td>\n",
              "      <td>0.942029</td>\n",
              "      <td>0.963768</td>\n",
              "      <td>0.949275</td>\n",
              "      <td>0.963504</td>\n",
              "      <td>0.919708</td>\n",
              "      <td>0.947657</td>\n",
              "      <td>0.016286</td>\n",
              "      <td>5</td>\n",
              "    </tr>\n",
              "  </tbody>\n",
              "</table>\n",
              "</div>\n",
              "      <button class=\"colab-df-convert\" onclick=\"convertToInteractive('df-2cff624a-e414-4f7b-8d13-ab6e6e32f8f5')\"\n",
              "              title=\"Convert this dataframe to an interactive table.\"\n",
              "              style=\"display:none;\">\n",
              "        \n",
              "  <svg xmlns=\"http://www.w3.org/2000/svg\" height=\"24px\"viewBox=\"0 0 24 24\"\n",
              "       width=\"24px\">\n",
              "    <path d=\"M0 0h24v24H0V0z\" fill=\"none\"/>\n",
              "    <path d=\"M18.56 5.44l.94 2.06.94-2.06 2.06-.94-2.06-.94-.94-2.06-.94 2.06-2.06.94zm-11 1L8.5 8.5l.94-2.06 2.06-.94-2.06-.94L8.5 2.5l-.94 2.06-2.06.94zm10 10l.94 2.06.94-2.06 2.06-.94-2.06-.94-.94-2.06-.94 2.06-2.06.94z\"/><path d=\"M17.41 7.96l-1.37-1.37c-.4-.4-.92-.59-1.43-.59-.52 0-1.04.2-1.43.59L10.3 9.45l-7.72 7.72c-.78.78-.78 2.05 0 2.83L4 21.41c.39.39.9.59 1.41.59.51 0 1.02-.2 1.41-.59l7.78-7.78 2.81-2.81c.8-.78.8-2.07 0-2.86zM5.41 20L4 18.59l7.72-7.72 1.47 1.35L5.41 20z\"/>\n",
              "  </svg>\n",
              "      </button>\n",
              "      \n",
              "  <style>\n",
              "    .colab-df-container {\n",
              "      display:flex;\n",
              "      flex-wrap:wrap;\n",
              "      gap: 12px;\n",
              "    }\n",
              "\n",
              "    .colab-df-convert {\n",
              "      background-color: #E8F0FE;\n",
              "      border: none;\n",
              "      border-radius: 50%;\n",
              "      cursor: pointer;\n",
              "      display: none;\n",
              "      fill: #1967D2;\n",
              "      height: 32px;\n",
              "      padding: 0 0 0 0;\n",
              "      width: 32px;\n",
              "    }\n",
              "\n",
              "    .colab-df-convert:hover {\n",
              "      background-color: #E2EBFA;\n",
              "      box-shadow: 0px 1px 2px rgba(60, 64, 67, 0.3), 0px 1px 3px 1px rgba(60, 64, 67, 0.15);\n",
              "      fill: #174EA6;\n",
              "    }\n",
              "\n",
              "    [theme=dark] .colab-df-convert {\n",
              "      background-color: #3B4455;\n",
              "      fill: #D2E3FC;\n",
              "    }\n",
              "\n",
              "    [theme=dark] .colab-df-convert:hover {\n",
              "      background-color: #434B5C;\n",
              "      box-shadow: 0px 1px 3px 1px rgba(0, 0, 0, 0.15);\n",
              "      filter: drop-shadow(0px 1px 2px rgba(0, 0, 0, 0.3));\n",
              "      fill: #FFFFFF;\n",
              "    }\n",
              "  </style>\n",
              "\n",
              "      <script>\n",
              "        const buttonEl =\n",
              "          document.querySelector('#df-2cff624a-e414-4f7b-8d13-ab6e6e32f8f5 button.colab-df-convert');\n",
              "        buttonEl.style.display =\n",
              "          google.colab.kernel.accessAllowed ? 'block' : 'none';\n",
              "\n",
              "        async function convertToInteractive(key) {\n",
              "          const element = document.querySelector('#df-2cff624a-e414-4f7b-8d13-ab6e6e32f8f5');\n",
              "          const dataTable =\n",
              "            await google.colab.kernel.invokeFunction('convertToInteractive',\n",
              "                                                     [key], {});\n",
              "          if (!dataTable) return;\n",
              "\n",
              "          const docLinkHtml = 'Like what you see? Visit the ' +\n",
              "            '<a target=\"_blank\" href=https://colab.research.google.com/notebooks/data_table.ipynb>data table notebook</a>'\n",
              "            + ' to learn more about interactive tables.';\n",
              "          element.innerHTML = '';\n",
              "          dataTable['output_type'] = 'display_data';\n",
              "          await google.colab.output.renderOutput(dataTable, element);\n",
              "          const docLink = document.createElement('div');\n",
              "          docLink.innerHTML = docLinkHtml;\n",
              "          element.appendChild(docLink);\n",
              "        }\n",
              "      </script>\n",
              "    </div>\n",
              "  </div>\n",
              "  "
            ]
          },
          "metadata": {}
        },
        {
          "output_type": "stream",
          "name": "stdout",
          "text": [
            "\n",
            "*********************************************************************\n",
            "\n"
          ]
        },
        {
          "output_type": "display_data",
          "data": {
            "text/plain": [
              "<Figure size 432x288 with 1 Axes>"
            ],
            "image/png": "[encoded data removed]"
          },
          "metadata": {
            "needs_background": "light"
          }
        },
        {
          "output_type": "stream",
          "name": "stdout",
          "text": [
            "\n"
          ]
        }
      ],
      "source": [
        "parameters = {'penalty':('l1', 'l2'), \n",
        "              'solver':['liblinear'], \n",
        "              'C':[1e-5, 1e-4, 1e-3, 1e-2, 1e-1, 1, 1e1, 1e2, 1e3]}\n",
        "\n",
        "log_reg = gridSearch(LogisticRegression(), parameters)"
      ]
    },
    {
      "cell_type": "markdown",
      "metadata": {
        "id": "JPakDJVo4ddN"
      },
      "source": [
        "Classification Report"
      ]
    },
    {
      "cell_type": "code",
      "source": [
        "classificationReport(log_reg, X_test, y_test)"
      ],
      "metadata": {
        "id": "H0vWOwGF4ddO",
        "colab": {
          "base_uri": "https://localhost:8080/",
          "height": 1000
        },
        "outputId": "c6fe2c2d-f743-406f-dd25-ea5480247787"
      },
      "execution_count": 19,
      "outputs": [
        {
          "output_type": "stream",
          "name": "stdout",
          "text": [
            "              precision    recall  f1-score   support\n",
            "\n",
            "           0       0.95      0.97      0.96       151\n",
            "           1       0.74      0.64      0.68        22\n",
            "\n",
            "    accuracy                           0.92       173\n",
            "   macro avg       0.84      0.80      0.82       173\n",
            "weighted avg       0.92      0.92      0.92       173\n",
            "\n",
            "\n"
          ]
        },
        {
          "output_type": "display_data",
          "data": {
            "text/plain": [
              "<Figure size 432x288 with 1 Axes>"
            ],
            "image/png": "[encoded data removed]"
          },
          "metadata": {
            "needs_background": "light"
          }
        },
        {
          "output_type": "stream",
          "name": "stdout",
          "text": [
            "\n"
          ]
        },
        {
          "output_type": "display_data",
          "data": {
            "text/plain": [
              "<Figure size 432x288 with 1 Axes>"
            ],
            "image/png": "[encoded data removed]"
          },
          "metadata": {
            "needs_background": "light"
          }
        },
        {
          "output_type": "stream",
          "name": "stdout",
          "text": [
            "\n"
          ]
        },
        {
          "output_type": "display_data",
          "data": {
            "text/plain": [
              "<Figure size 432x288 with 2 Axes>"
            ],
            "image/png": "[encoded data removed]"
          },
          "metadata": {
            "needs_background": "light"
          }
        }
      ]
    },
    {
      "cell_type": "markdown",
      "metadata": {
        "id": "7HmZA4B0-OlB"
      },
      "source": [
        "# 3- Naïve Bayes\n",
        "\n",
        "We will try different Naive Bayes algrithms:\n",
        "- Gaussian\n",
        "- Multinomial\n",
        "- Complement\n",
        "- Bernoulli\n",
        "- Categorical\n",
        "\n",
        "After trail and error we figure that **Multinomial** is the most suitable for this problem."
      ]
    },
    {
      "cell_type": "markdown",
      "source": [
        "**Grid Search**"
      ],
      "metadata": {
        "id": "ydwYnS9B-bOk"
      }
    },
    {
      "cell_type": "code",
      "execution_count": 20,
      "metadata": {
        "id": "6L2gpChY-bOu",
        "colab": {
          "base_uri": "https://localhost:8080/",
          "height": 1000
        },
        "outputId": "a510878a-4678-43c3-8b1e-58fbfa38fa10"
      },
      "outputs": [
        {
          "output_type": "stream",
          "name": "stdout",
          "text": [
            "Fitting 5 folds for each of 10 candidates, totalling 50 fits\n",
            "[CV 1/5] END ...........................alpha=1;, score=0.870 total time=   0.0s\n",
            "[CV 2/5] END ...........................alpha=1;, score=0.862 total time=   0.0s\n",
            "[CV 3/5] END ...........................alpha=1;, score=0.826 total time=   0.0s\n",
            "[CV 4/5] END ...........................alpha=1;, score=0.854 total time=   0.0s\n",
            "[CV 5/5] END ...........................alpha=1;, score=0.825 total time=   0.0s\n",
            "[CV 1/5] END ...........................alpha=2;, score=0.870 total time=   0.0s\n",
            "[CV 2/5] END ...........................alpha=2;, score=0.870 total time=   0.0s\n",
            "[CV 3/5] END ...........................alpha=2;, score=0.826 total time=   0.0s\n",
            "[CV 4/5] END ...........................alpha=2;, score=0.847 total time=   0.0s\n",
            "[CV 5/5] END ...........................alpha=2;, score=0.818 total time=   0.0s\n",
            "[CV 1/5] END ...........................alpha=3;, score=0.870 total time=   0.0s\n",
            "[CV 2/5] END ...........................alpha=3;, score=0.870 total time=   0.0s\n",
            "[CV 3/5] END ...........................alpha=3;, score=0.826 total time=   0.0s\n",
            "[CV 4/5] END ...........................alpha=3;, score=0.832 total time=   0.0s\n",
            "[CV 5/5] END ...........................alpha=3;, score=0.818 total time=   0.0s\n",
            "[CV 1/5] END ...........................alpha=4;, score=0.870 total time=   0.0s\n",
            "[CV 2/5] END ...........................alpha=4;, score=0.870 total time=   0.0s\n",
            "[CV 3/5] END ...........................alpha=4;, score=0.826 total time=   0.0s\n",
            "[CV 4/5] END ...........................alpha=4;, score=0.832 total time=   0.0s\n",
            "[CV 5/5] END ...........................alpha=4;, score=0.818 total time=   0.0s\n",
            "[CV 1/5] END ...........................alpha=5;, score=0.870 total time=   0.0s\n",
            "[CV 2/5] END ...........................alpha=5;, score=0.870 total time=   0.0s\n",
            "[CV 3/5] END ...........................alpha=5;, score=0.833 total time=   0.0s\n",
            "[CV 4/5] END ...........................alpha=5;, score=0.832 total time=   0.0s\n",
            "[CV 5/5] END ...........................alpha=5;, score=0.818 total time=   0.0s\n",
            "[CV 1/5] END ...........................alpha=6;, score=0.870 total time=   0.0s\n",
            "[CV 2/5] END ...........................alpha=6;, score=0.870 total time=   0.0s\n",
            "[CV 3/5] END ...........................alpha=6;, score=0.826 total time=   0.0s\n",
            "[CV 4/5] END ...........................alpha=6;, score=0.832 total time=   0.0s\n",
            "[CV 5/5] END ...........................alpha=6;, score=0.810 total time=   0.0s\n",
            "[CV 1/5] END ...........................alpha=7;, score=0.870 total time=   0.0s\n",
            "[CV 2/5] END ...........................alpha=7;, score=0.870 total time=   0.0s\n",
            "[CV 3/5] END ...........................alpha=7;, score=0.833 total time=   0.0s\n",
            "[CV 4/5] END ...........................alpha=7;, score=0.839 total time=   0.0s\n",
            "[CV 5/5] END ...........................alpha=7;, score=0.810 total time=   0.0s\n",
            "[CV 1/5] END ...........................alpha=8;, score=0.870 total time=   0.0s\n",
            "[CV 2/5] END ...........................alpha=8;, score=0.870 total time=   0.0s\n",
            "[CV 3/5] END ...........................alpha=8;, score=0.833 total time=   0.0s\n",
            "[CV 4/5] END ...........................alpha=8;, score=0.839 total time=   0.0s\n",
            "[CV 5/5] END ...........................alpha=8;, score=0.810 total time=   0.0s\n",
            "[CV 1/5] END ...........................alpha=9;, score=0.870 total time=   0.0s\n",
            "[CV 2/5] END ...........................alpha=9;, score=0.870 total time=   0.0s\n",
            "[CV 3/5] END ...........................alpha=9;, score=0.833 total time=   0.0s\n",
            "[CV 4/5] END ...........................alpha=9;, score=0.839 total time=   0.0s\n",
            "[CV 5/5] END ...........................alpha=9;, score=0.810 total time=   0.0s\n",
            "[CV 1/5] END ..........................alpha=10;, score=0.870 total time=   0.0s\n",
            "[CV 2/5] END ..........................alpha=10;, score=0.870 total time=   0.0s\n",
            "[CV 3/5] END ..........................alpha=10;, score=0.833 total time=   0.0s\n",
            "[CV 4/5] END ..........................alpha=10;, score=0.839 total time=   0.0s\n",
            "[CV 5/5] END ..........................alpha=10;, score=0.810 total time=   0.0s\n",
            "\n",
            "*********************************************************************\n",
            "\n",
            "MultinomialNB\n",
            "\n",
            "*********************************************************************\n",
            "\n",
            "After running the grid search with cross validation we found that the best Hyper-Parameter are :\n",
            "\n",
            "{'alpha': 1}\n",
            "\n",
            "*********************************************************************\n",
            "\n",
            "Grid Search Summary :\n",
            "\n"
          ]
        },
        {
          "output_type": "display_data",
          "data": {
            "text/plain": [
              "   mean_fit_time  std_fit_time  mean_score_time  std_score_time param_alpha  \\\n",
              "0       0.003742      0.002818         0.000569        0.000081           1   \n",
              "1       0.001645      0.000278         0.000508        0.000066           2   \n",
              "4       0.007798      0.009572         0.000625        0.000073           5   \n",
              "6       0.001827      0.000803         0.000830        0.000689           7   \n",
              "7       0.003292      0.002926         0.000513        0.000067           8   \n",
              "\n",
              "         params  split0_test_score  split1_test_score  split2_test_score  \\\n",
              "0  {'alpha': 1}           0.869565           0.862319           0.826087   \n",
              "1  {'alpha': 2}           0.869565           0.869565           0.826087   \n",
              "4  {'alpha': 5}           0.869565           0.869565           0.833333   \n",
              "6  {'alpha': 7}           0.869565           0.869565           0.833333   \n",
              "7  {'alpha': 8}           0.869565           0.869565           0.833333   \n",
              "\n",
              "   split3_test_score  split4_test_score  mean_test_score  std_test_score  \\\n",
              "0           0.854015           0.824818         0.847361        0.018557   \n",
              "1           0.846715           0.817518         0.845890        0.021535   \n",
              "4           0.832117           0.817518         0.844420        0.021272   \n",
              "6           0.839416           0.810219         0.844420        0.022725   \n",
              "7           0.839416           0.810219         0.844420        0.022725   \n",
              "\n",
              "   rank_test_score  \n",
              "0                1  \n",
              "1                2  \n",
              "4                3  \n",
              "6                3  \n",
              "7                3  "
            ],
            "text/html": [
              "\n",
              "  <div id=\"df-2d8d0e41-f836-482e-a1e3-0c86c2555db3\">\n",
              "    <div class=\"colab-df-container\">\n",
              "      <div>\n",
              "<style scoped>\n",
              "    .dataframe tbody tr th:only-of-type {\n",
              "        vertical-align: middle;\n",
              "    }\n",
              "\n",
              "    .dataframe tbody tr th {\n",
              "        vertical-align: top;\n",
              "    }\n",
              "\n",
              "    .dataframe thead th {\n",
              "        text-align: right;\n",
              "    }\n",
              "</style>\n",
              "<table border=\"1\" class=\"dataframe\">\n",
              "  <thead>\n",
              "    <tr style=\"text-align: right;\">\n",
              "      <th></th>\n",
              "      <th>mean_fit_time</th>\n",
              "      <th>std_fit_time</th>\n",
              "      <th>mean_score_time</th>\n",
              "      <th>std_score_time</th>\n",
              "      <th>param_alpha</th>\n",
              "      <th>params</th>\n",
              "      <th>split0_test_score</th>\n",
              "      <th>split1_test_score</th>\n",
              "      <th>split2_test_score</th>\n",
              "      <th>split3_test_score</th>\n",
              "      <th>split4_test_score</th>\n",
              "      <th>mean_test_score</th>\n",
              "      <th>std_test_score</th>\n",
              "      <th>rank_test_score</th>\n",
              "    </tr>\n",
              "  </thead>\n",
              "  <tbody>\n",
              "    <tr>\n",
              "      <th>0</th>\n",
              "      <td>0.003742</td>\n",
              "      <td>0.002818</td>\n",
              "      <td>0.000569</td>\n",
              "      <td>0.000081</td>\n",
              "      <td>1</td>\n",
              "      <td>{'alpha': 1}</td>\n",
              "      <td>0.869565</td>\n",
              "      <td>0.862319</td>\n",
              "      <td>0.826087</td>\n",
              "      <td>0.854015</td>\n",
              "      <td>0.824818</td>\n",
              "      <td>0.847361</td>\n",
              "      <td>0.018557</td>\n",
              "      <td>1</td>\n",
              "    </tr>\n",
              "    <tr>\n",
              "      <th>1</th>\n",
              "      <td>0.001645</td>\n",
              "      <td>0.000278</td>\n",
              "      <td>0.000508</td>\n",
              "      <td>0.000066</td>\n",
              "      <td>2</td>\n",
              "      <td>{'alpha': 2}</td>\n",
              "      <td>0.869565</td>\n",
              "      <td>0.869565</td>\n",
              "      <td>0.826087</td>\n",
              "      <td>0.846715</td>\n",
              "      <td>0.817518</td>\n",
              "      <td>0.845890</td>\n",
              "      <td>0.021535</td>\n",
              "      <td>2</td>\n",
              "    </tr>\n",
              "    <tr>\n",
              "      <th>4</th>\n",
              "      <td>0.007798</td>\n",
              "      <td>0.009572</td>\n",
              "      <td>0.000625</td>\n",
              "      <td>0.000073</td>\n",
              "      <td>5</td>\n",
              "      <td>{'alpha': 5}</td>\n",
              "      <td>0.869565</td>\n",
              "      <td>0.869565</td>\n",
              "      <td>0.833333</td>\n",
              "      <td>0.832117</td>\n",
              "      <td>0.817518</td>\n",
              "      <td>0.844420</td>\n",
              "      <td>0.021272</td>\n",
              "      <td>3</td>\n",
              "    </tr>\n",
              "    <tr>\n",
              "      <th>6</th>\n",
              "      <td>0.001827</td>\n",
              "      <td>0.000803</td>\n",
              "      <td>0.000830</td>\n",
              "      <td>0.000689</td>\n",
              "      <td>7</td>\n",
              "      <td>{'alpha': 7}</td>\n",
              "      <td>0.869565</td>\n",
              "      <td>0.869565</td>\n",
              "      <td>0.833333</td>\n",
              "      <td>0.839416</td>\n",
              "      <td>0.810219</td>\n",
              "      <td>0.844420</td>\n",
              "      <td>0.022725</td>\n",
              "      <td>3</td>\n",
              "    </tr>\n",
              "    <tr>\n",
              "      <th>7</th>\n",
              "      <td>0.003292</td>\n",
              "      <td>0.002926</td>\n",
              "      <td>0.000513</td>\n",
              "      <td>0.000067</td>\n",
              "      <td>8</td>\n",
              "      <td>{'alpha': 8}</td>\n",
              "      <td>0.869565</td>\n",
              "      <td>0.869565</td>\n",
              "      <td>0.833333</td>\n",
              "      <td>0.839416</td>\n",
              "      <td>0.810219</td>\n",
              "      <td>0.844420</td>\n",
              "      <td>0.022725</td>\n",
              "      <td>3</td>\n",
              "    </tr>\n",
              "  </tbody>\n",
              "</table>\n",
              "</div>\n",
              "      <button class=\"colab-df-convert\" onclick=\"convertToInteractive('df-2d8d0e41-f836-482e-a1e3-0c86c2555db3')\"\n",
              "              title=\"Convert this dataframe to an interactive table.\"\n",
              "              style=\"display:none;\">\n",
              "        \n",
              "  <svg xmlns=\"http://www.w3.org/2000/svg\" height=\"24px\"viewBox=\"0 0 24 24\"\n",
              "       width=\"24px\">\n",
              "    <path d=\"M0 0h24v24H0V0z\" fill=\"none\"/>\n",
              "    <path d=\"M18.56 5.44l.94 2.06.94-2.06 2.06-.94-2.06-.94-.94-2.06-.94 2.06-2.06.94zm-11 1L8.5 8.5l.94-2.06 2.06-.94-2.06-.94L8.5 2.5l-.94 2.06-2.06.94zm10 10l.94 2.06.94-2.06 2.06-.94-2.06-.94-.94-2.06-.94 2.06-2.06.94z\"/><path d=\"M17.41 7.96l-1.37-1.37c-.4-.4-.92-.59-1.43-.59-.52 0-1.04.2-1.43.59L10.3 9.45l-7.72 7.72c-.78.78-.78 2.05 0 2.83L4 21.41c.39.39.9.59 1.41.59.51 0 1.02-.2 1.41-.59l7.78-7.78 2.81-2.81c.8-.78.8-2.07 0-2.86zM5.41 20L4 18.59l7.72-7.72 1.47 1.35L5.41 20z\"/>\n",
              "  </svg>\n",
              "      </button>\n",
              "      \n",
              "  <style>\n",
              "    .colab-df-container {\n",
              "      display:flex;\n",
              "      flex-wrap:wrap;\n",
              "      gap: 12px;\n",
              "    }\n",
              "\n",
              "    .colab-df-convert {\n",
              "      background-color: #E8F0FE;\n",
              "      border: none;\n",
              "      border-radius: 50%;\n",
              "      cursor: pointer;\n",
              "      display: none;\n",
              "      fill: #1967D2;\n",
              "      height: 32px;\n",
              "      padding: 0 0 0 0;\n",
              "      width: 32px;\n",
              "    }\n",
              "\n",
              "    .colab-df-convert:hover {\n",
              "      background-color: #E2EBFA;\n",
              "      box-shadow: 0px 1px 2px rgba(60, 64, 67, 0.3), 0px 1px 3px 1px rgba(60, 64, 67, 0.15);\n",
              "      fill: #174EA6;\n",
              "    }\n",
              "\n",
              "    [theme=dark] .colab-df-convert {\n",
              "      background-color: #3B4455;\n",
              "      fill: #D2E3FC;\n",
              "    }\n",
              "\n",
              "    [theme=dark] .colab-df-convert:hover {\n",
              "      background-color: #434B5C;\n",
              "      box-shadow: 0px 1px 3px 1px rgba(0, 0, 0, 0.15);\n",
              "      filter: drop-shadow(0px 1px 2px rgba(0, 0, 0, 0.3));\n",
              "      fill: #FFFFFF;\n",
              "    }\n",
              "  </style>\n",
              "\n",
              "      <script>\n",
              "        const buttonEl =\n",
              "          document.querySelector('#df-2d8d0e41-f836-482e-a1e3-0c86c2555db3 button.colab-df-convert');\n",
              "        buttonEl.style.display =\n",
              "          google.colab.kernel.accessAllowed ? 'block' : 'none';\n",
              "\n",
              "        async function convertToInteractive(key) {\n",
              "          const element = document.querySelector('#df-2d8d0e41-f836-482e-a1e3-0c86c2555db3');\n",
              "          const dataTable =\n",
              "            await google.colab.kernel.invokeFunction('convertToInteractive',\n",
              "                                                     [key], {});\n",
              "          if (!dataTable) return;\n",
              "\n",
              "          const docLinkHtml = 'Like what you see? Visit the ' +\n",
              "            '<a target=\"_blank\" href=https://colab.research.google.com/notebooks/data_table.ipynb>data table notebook</a>'\n",
              "            + ' to learn more about interactive tables.';\n",
              "          element.innerHTML = '';\n",
              "          dataTable['output_type'] = 'display_data';\n",
              "          await google.colab.output.renderOutput(dataTable, element);\n",
              "          const docLink = document.createElement('div');\n",
              "          docLink.innerHTML = docLinkHtml;\n",
              "          element.appendChild(docLink);\n",
              "        }\n",
              "      </script>\n",
              "    </div>\n",
              "  </div>\n",
              "  "
            ]
          },
          "metadata": {}
        },
        {
          "output_type": "stream",
          "name": "stdout",
          "text": [
            "\n",
            "*********************************************************************\n",
            "\n"
          ]
        },
        {
          "output_type": "display_data",
          "data": {
            "text/plain": [
              "<Figure size 432x288 with 1 Axes>"
            ],
            "image/png": "[encoded data removed]"
          },
          "metadata": {
            "needs_background": "light"
          }
        },
        {
          "output_type": "stream",
          "name": "stdout",
          "text": [
            "\n"
          ]
        }
      ],
      "source": [
        "parameters = {'alpha': range(1, 11)}\n",
        "\n",
        "multinominal = gridSearch(MultinomialNB(), parameters)"
      ]
    },
    {
      "cell_type": "markdown",
      "metadata": {
        "id": "0f-jTPyf-bOv"
      },
      "source": [
        "Classification Report"
      ]
    },
    {
      "cell_type": "code",
      "source": [
        "classificationReport(multinominal, X_test, y_test)"
      ],
      "metadata": {
        "id": "dNXYIXZy-bOv",
        "colab": {
          "base_uri": "https://localhost:8080/",
          "height": 1000
        },
        "outputId": "0b604443-03b7-42b4-8860-fa03f8ea61c8"
      },
      "execution_count": 21,
      "outputs": [
        {
          "output_type": "stream",
          "name": "stdout",
          "text": [
            "              precision    recall  f1-score   support\n",
            "\n",
            "           0       0.93      0.91      0.92       151\n",
            "           1       0.46      0.55      0.50        22\n",
            "\n",
            "    accuracy                           0.86       173\n",
            "   macro avg       0.70      0.73      0.71       173\n",
            "weighted avg       0.87      0.86      0.87       173\n",
            "\n",
            "\n"
          ]
        },
        {
          "output_type": "display_data",
          "data": {
            "text/plain": [
              "<Figure size 432x288 with 1 Axes>"
            ],
            "image/png": "[encoded data removed]"
          },
          "metadata": {
            "needs_background": "light"
          }
        },
        {
          "output_type": "stream",
          "name": "stdout",
          "text": [
            "\n"
          ]
        },
        {
          "output_type": "display_data",
          "data": {
            "text/plain": [
              "<Figure size 432x288 with 1 Axes>"
            ],
            "image/png": "[encoded data removed]"
          },
          "metadata": {
            "needs_background": "light"
          }
        },
        {
          "output_type": "stream",
          "name": "stdout",
          "text": [
            "\n"
          ]
        },
        {
          "output_type": "display_data",
          "data": {
            "text/plain": [
              "<Figure size 432x288 with 2 Axes>"
            ],
            "image/png": "[encoded data removed]"
          },
          "metadata": {
            "needs_background": "light"
          }
        }
      ]
    },
    {
      "cell_type": "markdown",
      "metadata": {
        "id": "saLZvnBZL3wI"
      },
      "source": [
        "# 4- Decision Trees"
      ]
    },
    {
      "cell_type": "markdown",
      "source": [
        "**Grid Search**"
      ],
      "metadata": {
        "id": "QzLO9P9y-nps"
      }
    },
    {
      "cell_type": "code",
      "execution_count": 22,
      "metadata": {
        "id": "tJCcQR37-nps",
        "colab": {
          "base_uri": "https://localhost:8080/",
          "height": 1000
        },
        "outputId": "15881020-f1a5-426e-9f6a-d02f7f538d7c"
      },
      "outputs": [
        {
          "output_type": "stream",
          "name": "stdout",
          "text": [
            "Fitting 5 folds for each of 42 candidates, totalling 210 fits\n",
            "[CV 1/5] END criterion=gini, max_depth=8, min_samples_split=5;, score=0.913 total time=   0.0s\n",
            "[CV 2/5] END criterion=gini, max_depth=8, min_samples_split=5;, score=0.964 total time=   0.0s\n",
            "[CV 3/5] END criterion=gini, max_depth=8, min_samples_split=5;, score=0.993 total time=   0.0s\n",
            "[CV 4/5] END criterion=gini, max_depth=8, min_samples_split=5;, score=0.985 total time=   0.0s\n",
            "[CV 5/5] END criterion=gini, max_depth=8, min_samples_split=5;, score=0.978 total time=   0.0s\n",
            "[CV 1/5] END criterion=gini, max_depth=8, min_samples_split=10;, score=0.906 total time=   0.0s\n",
            "[CV 2/5] END criterion=gini, max_depth=8, min_samples_split=10;, score=0.957 total time=   0.0s\n",
            "[CV 3/5] END criterion=gini, max_depth=8, min_samples_split=10;, score=0.986 total time=   0.0s\n",
            "[CV 4/5] END criterion=gini, max_depth=8, min_samples_split=10;, score=0.985 total time=   0.0s\n",
            "[CV 5/5] END criterion=gini, max_depth=8, min_samples_split=10;, score=0.971 total time=   0.0s\n",
            "[CV 1/5] END criterion=gini, max_depth=8, min_samples_split=20;, score=0.906 total time=   0.0s\n",
            "[CV 2/5] END criterion=gini, max_depth=8, min_samples_split=20;, score=0.942 total time=   0.0s\n",
            "[CV 3/5] END criterion=gini, max_depth=8, min_samples_split=20;, score=0.986 total time=   0.0s\n",
            "[CV 4/5] END criterion=gini, max_depth=8, min_samples_split=20;, score=0.985 total time=   0.0s\n",
            "[CV 5/5] END criterion=gini, max_depth=8, min_samples_split=20;, score=0.971 total time=   0.0s\n",
            "[CV 1/5] END criterion=gini, max_depth=9, min_samples_split=5;, score=0.906 total time=   0.0s\n",
            "[CV 2/5] END criterion=gini, max_depth=9, min_samples_split=5;, score=0.971 total time=   0.0s\n",
            "[CV 3/5] END criterion=gini, max_depth=9, min_samples_split=5;, score=0.993 total time=   0.0s\n",
            "[CV 4/5] END criterion=gini, max_depth=9, min_samples_split=5;, score=0.985 total time=   0.0s\n",
            "[CV 5/5] END criterion=gini, max_depth=9, min_samples_split=5;, score=0.978 total time=   0.0s\n",
            "[CV 1/5] END criterion=gini, max_depth=9, min_samples_split=10;, score=0.906 total time=   0.0s\n",
            "[CV 2/5] END criterion=gini, max_depth=9, min_samples_split=10;, score=0.949 total time=   0.0s\n",
            "[CV 3/5] END criterion=gini, max_depth=9, min_samples_split=10;, score=0.986 total time=   0.0s\n",
            "[CV 4/5] END criterion=gini, max_depth=9, min_samples_split=10;, score=0.985 total time=   0.0s\n",
            "[CV 5/5] END criterion=gini, max_depth=9, min_samples_split=10;, score=0.971 total time=   0.0s\n",
            "[CV 1/5] END criterion=gini, max_depth=9, min_samples_split=20;, score=0.906 total time=   0.0s\n",
            "[CV 2/5] END criterion=gini, max_depth=9, min_samples_split=20;, score=0.942 total time=   0.0s\n",
            "[CV 3/5] END criterion=gini, max_depth=9, min_samples_split=20;, score=0.986 total time=   0.0s\n",
            "[CV 4/5] END criterion=gini, max_depth=9, min_samples_split=20;, score=0.985 total time=   0.0s\n",
            "[CV 5/5] END criterion=gini, max_depth=9, min_samples_split=20;, score=0.971 total time=   0.0s\n",
            "[CV 1/5] END criterion=gini, max_depth=10, min_samples_split=5;, score=0.913 total time=   0.0s\n",
            "[CV 2/5] END criterion=gini, max_depth=10, min_samples_split=5;, score=0.964 total time=   0.0s\n",
            "[CV 3/5] END criterion=gini, max_depth=10, min_samples_split=5;, score=0.993 total time=   0.0s\n",
            "[CV 4/5] END criterion=gini, max_depth=10, min_samples_split=5;, score=0.985 total time=   0.0s\n",
            "[CV 5/5] END criterion=gini, max_depth=10, min_samples_split=5;, score=0.978 total time=   0.0s\n",
            "[CV 1/5] END criterion=gini, max_depth=10, min_samples_split=10;, score=0.906 total time=   0.0s\n",
            "[CV 2/5] END criterion=gini, max_depth=10, min_samples_split=10;, score=0.949 total time=   0.0s\n",
            "[CV 3/5] END criterion=gini, max_depth=10, min_samples_split=10;, score=0.986 total time=   0.0s\n",
            "[CV 4/5] END criterion=gini, max_depth=10, min_samples_split=10;, score=0.985 total time=   0.0s\n",
            "[CV 5/5] END criterion=gini, max_depth=10, min_samples_split=10;, score=0.971 total time=   0.0s\n",
            "[CV 1/5] END criterion=gini, max_depth=10, min_samples_split=20;, score=0.906 total time=   0.0s\n",
            "[CV 2/5] END criterion=gini, max_depth=10, min_samples_split=20;, score=0.942 total time=   0.0s\n",
            "[CV 3/5] END criterion=gini, max_depth=10, min_samples_split=20;, score=0.986 total time=   0.0s\n",
            "[CV 4/5] END criterion=gini, max_depth=10, min_samples_split=20;, score=0.985 total time=   0.0s\n",
            "[CV 5/5] END criterion=gini, max_depth=10, min_samples_split=20;, score=0.971 total time=   0.0s\n",
            "[CV 1/5] END criterion=gini, max_depth=11, min_samples_split=5;, score=0.906 total time=   0.0s\n",
            "[CV 2/5] END criterion=gini, max_depth=11, min_samples_split=5;, score=0.964 total time=   0.0s\n",
            "[CV 3/5] END criterion=gini, max_depth=11, min_samples_split=5;, score=0.993 total time=   0.0s\n",
            "[CV 4/5] END criterion=gini, max_depth=11, min_samples_split=5;, score=0.985 total time=   0.0s\n",
            "[CV 5/5] END criterion=gini, max_depth=11, min_samples_split=5;, score=0.978 total time=   0.0s\n",
            "[CV 1/5] END criterion=gini, max_depth=11, min_samples_split=10;, score=0.906 total time=   0.0s\n",
            "[CV 2/5] END criterion=gini, max_depth=11, min_samples_split=10;, score=0.949 total time=   0.0s\n",
            "[CV 3/5] END criterion=gini, max_depth=11, min_samples_split=10;, score=0.986 total time=   0.0s\n",
            "[CV 4/5] END criterion=gini, max_depth=11, min_samples_split=10;, score=0.985 total time=   0.0s\n",
            "[CV 5/5] END criterion=gini, max_depth=11, min_samples_split=10;, score=0.971 total time=   0.0s\n",
            "[CV 1/5] END criterion=gini, max_depth=11, min_samples_split=20;, score=0.906 total time=   0.0s\n",
            "[CV 2/5] END criterion=gini, max_depth=11, min_samples_split=20;, score=0.942 total time=   0.0s\n",
            "[CV 3/5] END criterion=gini, max_depth=11, min_samples_split=20;, score=0.986 total time=   0.0s\n",
            "[CV 4/5] END criterion=gini, max_depth=11, min_samples_split=20;, score=0.985 total time=   0.0s\n",
            "[CV 5/5] END criterion=gini, max_depth=11, min_samples_split=20;, score=0.971 total time=   0.0s\n",
            "[CV 1/5] END criterion=gini, max_depth=12, min_samples_split=5;, score=0.913 total time=   0.0s\n",
            "[CV 2/5] END criterion=gini, max_depth=12, min_samples_split=5;, score=0.964 total time=   0.0s\n",
            "[CV 3/5] END criterion=gini, max_depth=12, min_samples_split=5;, score=0.993 total time=   0.0s\n",
            "[CV 4/5] END criterion=gini, max_depth=12, min_samples_split=5;, score=0.985 total time=   0.0s\n",
            "[CV 5/5] END criterion=gini, max_depth=12, min_samples_split=5;, score=0.978 total time=   0.0s\n",
            "[CV 1/5] END criterion=gini, max_depth=12, min_samples_split=10;, score=0.906 total time=   0.0s\n",
            "[CV 2/5] END criterion=gini, max_depth=12, min_samples_split=10;, score=0.949 total time=   0.0s\n",
            "[CV 3/5] END criterion=gini, max_depth=12, min_samples_split=10;, score=0.986 total time=   0.0s\n",
            "[CV 4/5] END criterion=gini, max_depth=12, min_samples_split=10;, score=0.985 total time=   0.0s\n",
            "[CV 5/5] END criterion=gini, max_depth=12, min_samples_split=10;, score=0.971 total time=   0.0s\n",
            "[CV 1/5] END criterion=gini, max_depth=12, min_samples_split=20;, score=0.906 total time=   0.0s\n",
            "[CV 2/5] END criterion=gini, max_depth=12, min_samples_split=20;, score=0.942 total time=   0.0s\n",
            "[CV 3/5] END criterion=gini, max_depth=12, min_samples_split=20;, score=0.986 total time=   0.0s\n",
            "[CV 4/5] END criterion=gini, max_depth=12, min_samples_split=20;, score=0.985 total time=   0.0s\n",
            "[CV 5/5] END criterion=gini, max_depth=12, min_samples_split=20;, score=0.971 total time=   0.0s\n",
            "[CV 1/5] END criterion=gini, max_depth=13, min_samples_split=5;, score=0.913 total time=   0.0s\n",
            "[CV 2/5] END criterion=gini, max_depth=13, min_samples_split=5;, score=0.964 total time=   0.0s\n",
            "[CV 3/5] END criterion=gini, max_depth=13, min_samples_split=5;, score=0.993 total time=   0.0s\n",
            "[CV 4/5] END criterion=gini, max_depth=13, min_samples_split=5;, score=0.985 total time=   0.0s\n",
            "[CV 5/5] END criterion=gini, max_depth=13, min_samples_split=5;, score=0.978 total time=   0.0s\n",
            "[CV 1/5] END criterion=gini, max_depth=13, min_samples_split=10;, score=0.906 total time=   0.0s\n",
            "[CV 2/5] END criterion=gini, max_depth=13, min_samples_split=10;, score=0.949 total time=   0.0s\n",
            "[CV 3/5] END criterion=gini, max_depth=13, min_samples_split=10;, score=0.986 total time=   0.0s\n",
            "[CV 4/5] END criterion=gini, max_depth=13, min_samples_split=10;, score=0.985 total time=   0.0s\n",
            "[CV 5/5] END criterion=gini, max_depth=13, min_samples_split=10;, score=0.971 total time=   0.0s\n",
            "[CV 1/5] END criterion=gini, max_depth=13, min_samples_split=20;, score=0.906 total time=   0.0s\n",
            "[CV 2/5] END criterion=gini, max_depth=13, min_samples_split=20;, score=0.942 total time=   0.0s\n",
            "[CV 3/5] END criterion=gini, max_depth=13, min_samples_split=20;, score=0.986 total time=   0.0s\n",
            "[CV 4/5] END criterion=gini, max_depth=13, min_samples_split=20;, score=0.985 total time=   0.0s\n",
            "[CV 5/5] END criterion=gini, max_depth=13, min_samples_split=20;, score=0.971 total time=   0.0s\n",
            "[CV 1/5] END criterion=gini, max_depth=14, min_samples_split=5;, score=0.920 total time=   0.0s\n",
            "[CV 2/5] END criterion=gini, max_depth=14, min_samples_split=5;, score=0.964 total time=   0.0s\n",
            "[CV 3/5] END criterion=gini, max_depth=14, min_samples_split=5;, score=0.993 total time=   0.0s\n",
            "[CV 4/5] END criterion=gini, max_depth=14, min_samples_split=5;, score=0.985 total time=   0.0s\n",
            "[CV 5/5] END criterion=gini, max_depth=14, min_samples_split=5;, score=0.978 total time=   0.0s\n",
            "[CV 1/5] END criterion=gini, max_depth=14, min_samples_split=10;, score=0.906 total time=   0.0s\n",
            "[CV 2/5] END criterion=gini, max_depth=14, min_samples_split=10;, score=0.949 total time=   0.0s\n",
            "[CV 3/5] END criterion=gini, max_depth=14, min_samples_split=10;, score=0.986 total time=   0.0s\n",
            "[CV 4/5] END criterion=gini, max_depth=14, min_samples_split=10;, score=0.985 total time=   0.0s\n",
            "[CV 5/5] END criterion=gini, max_depth=14, min_samples_split=10;, score=0.971 total time=   0.0s\n",
            "[CV 1/5] END criterion=gini, max_depth=14, min_samples_split=20;, score=0.906 total time=   0.0s\n",
            "[CV 2/5] END criterion=gini, max_depth=14, min_samples_split=20;, score=0.942 total time=   0.0s\n",
            "[CV 3/5] END criterion=gini, max_depth=14, min_samples_split=20;, score=0.986 total time=   0.0s\n",
            "[CV 4/5] END criterion=gini, max_depth=14, min_samples_split=20;, score=0.985 total time=   0.0s\n",
            "[CV 5/5] END criterion=gini, max_depth=14, min_samples_split=20;, score=0.971 total time=   0.0s\n",
            "[CV 1/5] END criterion=entropy, max_depth=8, min_samples_split=5;, score=0.913 total time=   0.0s\n",
            "[CV 2/5] END criterion=entropy, max_depth=8, min_samples_split=5;, score=0.971 total time=   0.0s\n",
            "[CV 3/5] END criterion=entropy, max_depth=8, min_samples_split=5;, score=0.964 total time=   0.0s\n",
            "[CV 4/5] END criterion=entropy, max_depth=8, min_samples_split=5;, score=0.993 total time=   0.0s\n",
            "[CV 5/5] END criterion=entropy, max_depth=8, min_samples_split=5;, score=0.978 total time=   0.0s\n",
            "[CV 1/5] END criterion=entropy, max_depth=8, min_samples_split=10;, score=0.906 total time=   0.0s\n",
            "[CV 2/5] END criterion=entropy, max_depth=8, min_samples_split=10;, score=0.949 total time=   0.0s\n",
            "[CV 3/5] END criterion=entropy, max_depth=8, min_samples_split=10;, score=0.957 total time=   0.0s\n",
            "[CV 4/5] END criterion=entropy, max_depth=8, min_samples_split=10;, score=0.993 total time=   0.0s\n",
            "[CV 5/5] END criterion=entropy, max_depth=8, min_samples_split=10;, score=0.978 total time=   0.0s\n",
            "[CV 1/5] END criterion=entropy, max_depth=8, min_samples_split=20;, score=0.899 total time=   0.0s\n",
            "[CV 2/5] END criterion=entropy, max_depth=8, min_samples_split=20;, score=0.935 total time=   0.0s\n",
            "[CV 3/5] END criterion=entropy, max_depth=8, min_samples_split=20;, score=0.957 total time=   0.0s\n",
            "[CV 4/5] END criterion=entropy, max_depth=8, min_samples_split=20;, score=0.985 total time=   0.0s\n",
            "[CV 5/5] END criterion=entropy, max_depth=8, min_samples_split=20;, score=0.956 total time=   0.0s\n",
            "[CV 1/5] END criterion=entropy, max_depth=9, min_samples_split=5;, score=0.920 total time=   0.0s\n",
            "[CV 2/5] END criterion=entropy, max_depth=9, min_samples_split=5;, score=0.971 total time=   0.0s\n",
            "[CV 3/5] END criterion=entropy, max_depth=9, min_samples_split=5;, score=0.964 total time=   0.0s\n",
            "[CV 4/5] END criterion=entropy, max_depth=9, min_samples_split=5;, score=0.993 total time=   0.0s\n",
            "[CV 5/5] END criterion=entropy, max_depth=9, min_samples_split=5;, score=0.978 total time=   0.0s\n",
            "[CV 1/5] END criterion=entropy, max_depth=9, min_samples_split=10;, score=0.906 total time=   0.0s\n",
            "[CV 2/5] END criterion=entropy, max_depth=9, min_samples_split=10;, score=0.949 total time=   0.0s\n",
            "[CV 3/5] END criterion=entropy, max_depth=9, min_samples_split=10;, score=0.957 total time=   0.0s\n",
            "[CV 4/5] END criterion=entropy, max_depth=9, min_samples_split=10;, score=0.993 total time=   0.0s\n",
            "[CV 5/5] END criterion=entropy, max_depth=9, min_samples_split=10;, score=0.978 total time=   0.0s\n",
            "[CV 1/5] END criterion=entropy, max_depth=9, min_samples_split=20;, score=0.899 total time=   0.0s\n",
            "[CV 2/5] END criterion=entropy, max_depth=9, min_samples_split=20;, score=0.935 total time=   0.0s\n",
            "[CV 3/5] END criterion=entropy, max_depth=9, min_samples_split=20;, score=0.957 total time=   0.0s\n",
            "[CV 4/5] END criterion=entropy, max_depth=9, min_samples_split=20;, score=0.985 total time=   0.0s\n",
            "[CV 5/5] END criterion=entropy, max_depth=9, min_samples_split=20;, score=0.956 total time=   0.0s\n",
            "[CV 1/5] END criterion=entropy, max_depth=10, min_samples_split=5;, score=0.899 total time=   0.0s\n",
            "[CV 2/5] END criterion=entropy, max_depth=10, min_samples_split=5;, score=0.957 total time=   0.0s\n",
            "[CV 3/5] END criterion=entropy, max_depth=10, min_samples_split=5;, score=0.964 total time=   0.0s\n",
            "[CV 4/5] END criterion=entropy, max_depth=10, min_samples_split=5;, score=0.993 total time=   0.0s\n",
            "[CV 5/5] END criterion=entropy, max_depth=10, min_samples_split=5;, score=0.978 total time=   0.0s\n",
            "[CV 1/5] END criterion=entropy, max_depth=10, min_samples_split=10;, score=0.891 total time=   0.0s\n",
            "[CV 2/5] END criterion=entropy, max_depth=10, min_samples_split=10;, score=0.957 total time=   0.0s\n",
            "[CV 3/5] END criterion=entropy, max_depth=10, min_samples_split=10;, score=0.957 total time=   0.0s\n",
            "[CV 4/5] END criterion=entropy, max_depth=10, min_samples_split=10;, score=0.993 total time=   0.0s\n",
            "[CV 5/5] END criterion=entropy, max_depth=10, min_samples_split=10;, score=0.978 total time=   0.0s\n",
            "[CV 1/5] END criterion=entropy, max_depth=10, min_samples_split=20;, score=0.899 total time=   0.0s\n",
            "[CV 2/5] END criterion=entropy, max_depth=10, min_samples_split=20;, score=0.935 total time=   0.0s\n",
            "[CV 3/5] END criterion=entropy, max_depth=10, min_samples_split=20;, score=0.957 total time=   0.0s\n",
            "[CV 4/5] END criterion=entropy, max_depth=10, min_samples_split=20;, score=0.985 total time=   0.0s\n",
            "[CV 5/5] END criterion=entropy, max_depth=10, min_samples_split=20;, score=0.956 total time=   0.0s\n",
            "[CV 1/5] END criterion=entropy, max_depth=11, min_samples_split=5;, score=0.920 total time=   0.0s\n",
            "[CV 2/5] END criterion=entropy, max_depth=11, min_samples_split=5;, score=0.971 total time=   0.0s\n",
            "[CV 3/5] END criterion=entropy, max_depth=11, min_samples_split=5;, score=0.964 total time=   0.0s\n",
            "[CV 4/5] END criterion=entropy, max_depth=11, min_samples_split=5;, score=0.993 total time=   0.0s\n",
            "[CV 5/5] END criterion=entropy, max_depth=11, min_samples_split=5;, score=0.978 total time=   0.0s\n",
            "[CV 1/5] END criterion=entropy, max_depth=11, min_samples_split=10;, score=0.906 total time=   0.0s\n",
            "[CV 2/5] END criterion=entropy, max_depth=11, min_samples_split=10;, score=0.949 total time=   0.0s\n",
            "[CV 3/5] END criterion=entropy, max_depth=11, min_samples_split=10;, score=0.957 total time=   0.0s\n",
            "[CV 4/5] END criterion=entropy, max_depth=11, min_samples_split=10;, score=0.993 total time=   0.0s\n",
            "[CV 5/5] END criterion=entropy, max_depth=11, min_samples_split=10;, score=0.978 total time=   0.0s\n",
            "[CV 1/5] END criterion=entropy, max_depth=11, min_samples_split=20;, score=0.899 total time=   0.0s\n",
            "[CV 2/5] END criterion=entropy, max_depth=11, min_samples_split=20;, score=0.935 total time=   0.0s\n",
            "[CV 3/5] END criterion=entropy, max_depth=11, min_samples_split=20;, score=0.957 total time=   0.0s\n",
            "[CV 4/5] END criterion=entropy, max_depth=11, min_samples_split=20;, score=0.985 total time=   0.0s\n",
            "[CV 5/5] END criterion=entropy, max_depth=11, min_samples_split=20;, score=0.956 total time=   0.0s\n",
            "[CV 1/5] END criterion=entropy, max_depth=12, min_samples_split=5;, score=0.920 total time=   0.0s\n",
            "[CV 2/5] END criterion=entropy, max_depth=12, min_samples_split=5;, score=0.971 total time=   0.0s\n",
            "[CV 3/5] END criterion=entropy, max_depth=12, min_samples_split=5;, score=0.964 total time=   0.0s\n",
            "[CV 4/5] END criterion=entropy, max_depth=12, min_samples_split=5;, score=0.993 total time=   0.0s\n",
            "[CV 5/5] END criterion=entropy, max_depth=12, min_samples_split=5;, score=0.978 total time=   0.0s\n",
            "[CV 1/5] END criterion=entropy, max_depth=12, min_samples_split=10;, score=0.891 total time=   0.0s\n",
            "[CV 2/5] END criterion=entropy, max_depth=12, min_samples_split=10;, score=0.949 total time=   0.0s\n",
            "[CV 3/5] END criterion=entropy, max_depth=12, min_samples_split=10;, score=0.957 total time=   0.0s\n",
            "[CV 4/5] END criterion=entropy, max_depth=12, min_samples_split=10;, score=0.993 total time=   0.0s\n",
            "[CV 5/5] END criterion=entropy, max_depth=12, min_samples_split=10;, score=0.978 total time=   0.0s\n",
            "[CV 1/5] END criterion=entropy, max_depth=12, min_samples_split=20;, score=0.899 total time=   0.0s\n",
            "[CV 2/5] END criterion=entropy, max_depth=12, min_samples_split=20;, score=0.935 total time=   0.0s\n",
            "[CV 3/5] END criterion=entropy, max_depth=12, min_samples_split=20;, score=0.957 total time=   0.0s\n",
            "[CV 4/5] END criterion=entropy, max_depth=12, min_samples_split=20;, score=0.985 total time=   0.0s\n",
            "[CV 5/5] END criterion=entropy, max_depth=12, min_samples_split=20;, score=0.956 total time=   0.0s\n",
            "[CV 1/5] END criterion=entropy, max_depth=13, min_samples_split=5;, score=0.891 total time=   0.0s\n",
            "[CV 2/5] END criterion=entropy, max_depth=13, min_samples_split=5;, score=0.971 total time=   0.0s\n",
            "[CV 3/5] END criterion=entropy, max_depth=13, min_samples_split=5;, score=0.964 total time=   0.0s\n",
            "[CV 4/5] END criterion=entropy, max_depth=13, min_samples_split=5;, score=0.993 total time=   0.0s\n",
            "[CV 5/5] END criterion=entropy, max_depth=13, min_samples_split=5;, score=0.978 total time=   0.0s\n",
            "[CV 1/5] END criterion=entropy, max_depth=13, min_samples_split=10;, score=0.891 total time=   0.0s\n",
            "[CV 2/5] END criterion=entropy, max_depth=13, min_samples_split=10;, score=0.957 total time=   0.0s\n",
            "[CV 3/5] END criterion=entropy, max_depth=13, min_samples_split=10;, score=0.957 total time=   0.0s\n",
            "[CV 4/5] END criterion=entropy, max_depth=13, min_samples_split=10;, score=0.993 total time=   0.0s\n",
            "[CV 5/5] END criterion=entropy, max_depth=13, min_samples_split=10;, score=0.978 total time=   0.0s\n",
            "[CV 1/5] END criterion=entropy, max_depth=13, min_samples_split=20;, score=0.899 total time=   0.0s\n",
            "[CV 2/5] END criterion=entropy, max_depth=13, min_samples_split=20;, score=0.935 total time=   0.0s\n",
            "[CV 3/5] END criterion=entropy, max_depth=13, min_samples_split=20;, score=0.957 total time=   0.0s\n",
            "[CV 4/5] END criterion=entropy, max_depth=13, min_samples_split=20;, score=0.985 total time=   0.0s\n",
            "[CV 5/5] END criterion=entropy, max_depth=13, min_samples_split=20;, score=0.956 total time=   0.0s\n",
            "[CV 1/5] END criterion=entropy, max_depth=14, min_samples_split=5;, score=0.884 total time=   0.0s\n",
            "[CV 2/5] END criterion=entropy, max_depth=14, min_samples_split=5;, score=0.957 total time=   0.0s\n",
            "[CV 3/5] END criterion=entropy, max_depth=14, min_samples_split=5;, score=0.964 total time=   0.0s\n",
            "[CV 4/5] END criterion=entropy, max_depth=14, min_samples_split=5;, score=0.993 total time=   0.0s\n",
            "[CV 5/5] END criterion=entropy, max_depth=14, min_samples_split=5;, score=0.978 total time=   0.0s\n",
            "[CV 1/5] END criterion=entropy, max_depth=14, min_samples_split=10;, score=0.906 total time=   0.0s\n",
            "[CV 2/5] END criterion=entropy, max_depth=14, min_samples_split=10;, score=0.957 total time=   0.0s\n",
            "[CV 3/5] END criterion=entropy, max_depth=14, min_samples_split=10;, score=0.957 total time=   0.0s\n",
            "[CV 4/5] END criterion=entropy, max_depth=14, min_samples_split=10;, score=0.993 total time=   0.0s\n",
            "[CV 5/5] END criterion=entropy, max_depth=14, min_samples_split=10;, score=0.978 total time=   0.0s\n",
            "[CV 1/5] END criterion=entropy, max_depth=14, min_samples_split=20;, score=0.899 total time=   0.0s\n",
            "[CV 2/5] END criterion=entropy, max_depth=14, min_samples_split=20;, score=0.935 total time=   0.0s\n",
            "[CV 3/5] END criterion=entropy, max_depth=14, min_samples_split=20;, score=0.957 total time=   0.0s\n",
            "[CV 4/5] END criterion=entropy, max_depth=14, min_samples_split=20;, score=0.985 total time=   0.0s\n",
            "[CV 5/5] END criterion=entropy, max_depth=14, min_samples_split=20;, score=0.956 total time=   0.0s\n",
            "\n",
            "*********************************************************************\n",
            "\n",
            "DecisionTreeClassifier\n",
            "\n",
            "*********************************************************************\n",
            "\n",
            "After running the grid search with cross validation we found that the best Hyper-Parameter are :\n",
            "\n",
            "{'criterion': 'gini', 'max_depth': 14, 'min_samples_split': 5}\n",
            "\n",
            "*********************************************************************\n",
            "\n",
            "Grid Search Summary :\n",
            "\n"
          ]
        },
        {
          "output_type": "display_data",
          "data": {
            "text/plain": [
              "    mean_fit_time  std_fit_time  mean_score_time  std_score_time  \\\n",
              "18       0.001626      0.000231         0.000577        0.000090   \n",
              "0        0.002572      0.001510         0.002332        0.003384   \n",
              "3        0.001810      0.000440         0.001953        0.002699   \n",
              "6        0.003842      0.004653         0.000550        0.000028   \n",
              "15       0.001577      0.000142         0.002401        0.003662   \n",
              "\n",
              "   param_criterion param_max_depth param_min_samples_split  \\\n",
              "18            gini              14                       5   \n",
              "0             gini               8                       5   \n",
              "3             gini               9                       5   \n",
              "6             gini              10                       5   \n",
              "15            gini              13                       5   \n",
              "\n",
              "                                               params  split0_test_score  \\\n",
              "18  {'criterion': 'gini', 'max_depth': 14, 'min_sa...           0.920290   \n",
              "0   {'criterion': 'gini', 'max_depth': 8, 'min_sam...           0.913043   \n",
              "3   {'criterion': 'gini', 'max_depth': 9, 'min_sam...           0.905797   \n",
              "6   {'criterion': 'gini', 'max_depth': 10, 'min_sa...           0.913043   \n",
              "15  {'criterion': 'gini', 'max_depth': 13, 'min_sa...           0.913043   \n",
              "\n",
              "    split1_test_score  split2_test_score  split3_test_score  \\\n",
              "18           0.963768           0.992754           0.985401   \n",
              "0            0.963768           0.992754           0.985401   \n",
              "3            0.971014           0.992754           0.985401   \n",
              "6            0.963768           0.992754           0.985401   \n",
              "15           0.963768           0.992754           0.985401   \n",
              "\n",
              "    split4_test_score  mean_test_score  std_test_score  rank_test_score  \n",
              "18           0.978102         0.968063        0.025736                1  \n",
              "0            0.978102         0.966614        0.028447                2  \n",
              "3            0.978102         0.966614        0.031261                2  \n",
              "6            0.978102         0.966614        0.028447                2  \n",
              "15           0.978102         0.966614        0.028447                2  "
            ],
            "text/html": [
              "\n",
              "  <div id=\"df-b4cfdc25-befb-4fee-a362-4a1e75d1f1bb\">\n",
              "    <div class=\"colab-df-container\">\n",
              "      <div>\n",
              "<style scoped>\n",
              "    .dataframe tbody tr th:only-of-type {\n",
              "        vertical-align: middle;\n",
              "    }\n",
              "\n",
              "    .dataframe tbody tr th {\n",
              "        vertical-align: top;\n",
              "    }\n",
              "\n",
              "    .dataframe thead th {\n",
              "        text-align: right;\n",
              "    }\n",
              "</style>\n",
              "<table border=\"1\" class=\"dataframe\">\n",
              "  <thead>\n",
              "    <tr style=\"text-align: right;\">\n",
              "      <th></th>\n",
              "      <th>mean_fit_time</th>\n",
              "      <th>std_fit_time</th>\n",
              "      <th>mean_score_time</th>\n",
              "      <th>std_score_time</th>\n",
              "      <th>param_criterion</th>\n",
              "      <th>param_max_depth</th>\n",
              "      <th>param_min_samples_split</th>\n",
              "      <th>params</th>\n",
              "      <th>split0_test_score</th>\n",
              "      <th>split1_test_score</th>\n",
              "      <th>split2_test_score</th>\n",
              "      <th>split3_test_score</th>\n",
              "      <th>split4_test_score</th>\n",
              "      <th>mean_test_score</th>\n",
              "      <th>std_test_score</th>\n",
              "      <th>rank_test_score</th>\n",
              "    </tr>\n",
              "  </thead>\n",
              "  <tbody>\n",
              "    <tr>\n",
              "      <th>18</th>\n",
              "      <td>0.001626</td>\n",
              "      <td>0.000231</td>\n",
              "      <td>0.000577</td>\n",
              "      <td>0.000090</td>\n",
              "      <td>gini</td>\n",
              "      <td>14</td>\n",
              "      <td>5</td>\n",
              "      <td>{'criterion': 'gini', 'max_depth': 14, 'min_sa...</td>\n",
              "      <td>0.920290</td>\n",
              "      <td>0.963768</td>\n",
              "      <td>0.992754</td>\n",
              "      <td>0.985401</td>\n",
              "      <td>0.978102</td>\n",
              "      <td>0.968063</td>\n",
              "      <td>0.025736</td>\n",
              "      <td>1</td>\n",
              "    </tr>\n",
              "    <tr>\n",
              "      <th>0</th>\n",
              "      <td>0.002572</td>\n",
              "      <td>0.001510</td>\n",
              "      <td>0.002332</td>\n",
              "      <td>0.003384</td>\n",
              "      <td>gini</td>\n",
              "      <td>8</td>\n",
              "      <td>5</td>\n",
              "      <td>{'criterion': 'gini', 'max_depth': 8, 'min_sam...</td>\n",
              "      <td>0.913043</td>\n",
              "      <td>0.963768</td>\n",
              "      <td>0.992754</td>\n",
              "      <td>0.985401</td>\n",
              "      <td>0.978102</td>\n",
              "      <td>0.966614</td>\n",
              "      <td>0.028447</td>\n",
              "      <td>2</td>\n",
              "    </tr>\n",
              "    <tr>\n",
              "      <th>3</th>\n",
              "      <td>0.001810</td>\n",
              "      <td>0.000440</td>\n",
              "      <td>0.001953</td>\n",
              "      <td>0.002699</td>\n",
              "      <td>gini</td>\n",
              "      <td>9</td>\n",
              "      <td>5</td>\n",
              "      <td>{'criterion': 'gini', 'max_depth': 9, 'min_sam...</td>\n",
              "      <td>0.905797</td>\n",
              "      <td>0.971014</td>\n",
              "      <td>0.992754</td>\n",
              "      <td>0.985401</td>\n",
              "      <td>0.978102</td>\n",
              "      <td>0.966614</td>\n",
              "      <td>0.031261</td>\n",
              "      <td>2</td>\n",
              "    </tr>\n",
              "    <tr>\n",
              "      <th>6</th>\n",
              "      <td>0.003842</td>\n",
              "      <td>0.004653</td>\n",
              "      <td>0.000550</td>\n",
              "      <td>0.000028</td>\n",
              "      <td>gini</td>\n",
              "      <td>10</td>\n",
              "      <td>5</td>\n",
              "      <td>{'criterion': 'gini', 'max_depth': 10, 'min_sa...</td>\n",
              "      <td>0.913043</td>\n",
              "      <td>0.963768</td>\n",
              "      <td>0.992754</td>\n",
              "      <td>0.985401</td>\n",
              "      <td>0.978102</td>\n",
              "      <td>0.966614</td>\n",
              "      <td>0.028447</td>\n",
              "      <td>2</td>\n",
              "    </tr>\n",
              "    <tr>\n",
              "      <th>15</th>\n",
              "      <td>0.001577</td>\n",
              "      <td>0.000142</td>\n",
              "      <td>0.002401</td>\n",
              "      <td>0.003662</td>\n",
              "      <td>gini</td>\n",
              "      <td>13</td>\n",
              "      <td>5</td>\n",
              "      <td>{'criterion': 'gini', 'max_depth': 13, 'min_sa...</td>\n",
              "      <td>0.913043</td>\n",
              "      <td>0.963768</td>\n",
              "      <td>0.992754</td>\n",
              "      <td>0.985401</td>\n",
              "      <td>0.978102</td>\n",
              "      <td>0.966614</td>\n",
              "      <td>0.028447</td>\n",
              "      <td>2</td>\n",
              "    </tr>\n",
              "  </tbody>\n",
              "</table>\n",
              "</div>\n",
              "      <button class=\"colab-df-convert\" onclick=\"convertToInteractive('df-b4cfdc25-befb-4fee-a362-4a1e75d1f1bb')\"\n",
              "              title=\"Convert this dataframe to an interactive table.\"\n",
              "              style=\"display:none;\">\n",
              "        \n",
              "  <svg xmlns=\"http://www.w3.org/2000/svg\" height=\"24px\"viewBox=\"0 0 24 24\"\n",
              "       width=\"24px\">\n",
              "    <path d=\"M0 0h24v24H0V0z\" fill=\"none\"/>\n",
              "    <path d=\"M18.56 5.44l.94 2.06.94-2.06 2.06-.94-2.06-.94-.94-2.06-.94 2.06-2.06.94zm-11 1L8.5 8.5l.94-2.06 2.06-.94-2.06-.94L8.5 2.5l-.94 2.06-2.06.94zm10 10l.94 2.06.94-2.06 2.06-.94-2.06-.94-.94-2.06-.94 2.06-2.06.94z\"/><path d=\"M17.41 7.96l-1.37-1.37c-.4-.4-.92-.59-1.43-.59-.52 0-1.04.2-1.43.59L10.3 9.45l-7.72 7.72c-.78.78-.78 2.05 0 2.83L4 21.41c.39.39.9.59 1.41.59.51 0 1.02-.2 1.41-.59l7.78-7.78 2.81-2.81c.8-.78.8-2.07 0-2.86zM5.41 20L4 18.59l7.72-7.72 1.47 1.35L5.41 20z\"/>\n",
              "  </svg>\n",
              "      </button>\n",
              "      \n",
              "  <style>\n",
              "    .colab-df-container {\n",
              "      display:flex;\n",
              "      flex-wrap:wrap;\n",
              "      gap: 12px;\n",
              "    }\n",
              "\n",
              "    .colab-df-convert {\n",
              "      background-color: #E8F0FE;\n",
              "      border: none;\n",
              "      border-radius: 50%;\n",
              "      cursor: pointer;\n",
              "      display: none;\n",
              "      fill: #1967D2;\n",
              "      height: 32px;\n",
              "      padding: 0 0 0 0;\n",
              "      width: 32px;\n",
              "    }\n",
              "\n",
              "    .colab-df-convert:hover {\n",
              "      background-color: #E2EBFA;\n",
              "      box-shadow: 0px 1px 2px rgba(60, 64, 67, 0.3), 0px 1px 3px 1px rgba(60, 64, 67, 0.15);\n",
              "      fill: #174EA6;\n",
              "    }\n",
              "\n",
              "    [theme=dark] .colab-df-convert {\n",
              "      background-color: #3B4455;\n",
              "      fill: #D2E3FC;\n",
              "    }\n",
              "\n",
              "    [theme=dark] .colab-df-convert:hover {\n",
              "      background-color: #434B5C;\n",
              "      box-shadow: 0px 1px 3px 1px rgba(0, 0, 0, 0.15);\n",
              "      filter: drop-shadow(0px 1px 2px rgba(0, 0, 0, 0.3));\n",
              "      fill: #FFFFFF;\n",
              "    }\n",
              "  </style>\n",
              "\n",
              "      <script>\n",
              "        const buttonEl =\n",
              "          document.querySelector('#df-b4cfdc25-befb-4fee-a362-4a1e75d1f1bb button.colab-df-convert');\n",
              "        buttonEl.style.display =\n",
              "          google.colab.kernel.accessAllowed ? 'block' : 'none';\n",
              "\n",
              "        async function convertToInteractive(key) {\n",
              "          const element = document.querySelector('#df-b4cfdc25-befb-4fee-a362-4a1e75d1f1bb');\n",
              "          const dataTable =\n",
              "            await google.colab.kernel.invokeFunction('convertToInteractive',\n",
              "                                                     [key], {});\n",
              "          if (!dataTable) return;\n",
              "\n",
              "          const docLinkHtml = 'Like what you see? Visit the ' +\n",
              "            '<a target=\"_blank\" href=https://colab.research.google.com/notebooks/data_table.ipynb>data table notebook</a>'\n",
              "            + ' to learn more about interactive tables.';\n",
              "          element.innerHTML = '';\n",
              "          dataTable['output_type'] = 'display_data';\n",
              "          await google.colab.output.renderOutput(dataTable, element);\n",
              "          const docLink = document.createElement('div');\n",
              "          docLink.innerHTML = docLinkHtml;\n",
              "          element.appendChild(docLink);\n",
              "        }\n",
              "      </script>\n",
              "    </div>\n",
              "  </div>\n",
              "  "
            ]
          },
          "metadata": {}
        },
        {
          "output_type": "stream",
          "name": "stdout",
          "text": [
            "\n",
            "*********************************************************************\n",
            "\n"
          ]
        },
        {
          "output_type": "display_data",
          "data": {
            "text/plain": [
              "<Figure size 432x288 with 1 Axes>"
            ],
            "image/png": "[encoded data removed]"
          },
          "metadata": {
            "needs_background": "light"
          }
        },
        {
          "output_type": "stream",
          "name": "stdout",
          "text": [
            "\n"
          ]
        }
      ],
      "source": [
        "parameters = {'criterion':['gini', 'entropy'],\n",
        "              'max_depth':range(8, 15),\n",
        "              'min_samples_split':[5, 10, 20]}\n",
        "\n",
        "d_tree = gridSearch(DecisionTreeClassifier(), parameters)"
      ]
    },
    {
      "cell_type": "markdown",
      "metadata": {
        "id": "k48otOuo-npt"
      },
      "source": [
        "Classification Report"
      ]
    },
    {
      "cell_type": "code",
      "source": [
        "classificationReport(d_tree, X_test, y_test)"
      ],
      "metadata": {
        "id": "pmS32Nre-npt",
        "colab": {
          "base_uri": "https://localhost:8080/",
          "height": 1000
        },
        "outputId": "108b3286-89d0-4f83-b68d-545caca8a957"
      },
      "execution_count": 23,
      "outputs": [
        {
          "output_type": "stream",
          "name": "stdout",
          "text": [
            "              precision    recall  f1-score   support\n",
            "\n",
            "           0       0.99      0.97      0.98       151\n",
            "           1       0.84      0.95      0.89        22\n",
            "\n",
            "    accuracy                           0.97       173\n",
            "   macro avg       0.92      0.96      0.94       173\n",
            "weighted avg       0.97      0.97      0.97       173\n",
            "\n",
            "\n"
          ]
        },
        {
          "output_type": "display_data",
          "data": {
            "text/plain": [
              "<Figure size 432x288 with 1 Axes>"
            ],
            "image/png": "[encoded data removed]"
          },
          "metadata": {
            "needs_background": "light"
          }
        },
        {
          "output_type": "stream",
          "name": "stdout",
          "text": [
            "\n"
          ]
        },
        {
          "output_type": "display_data",
          "data": {
            "text/plain": [
              "<Figure size 432x288 with 1 Axes>"
            ],
            "image/png": "[encoded data removed]"
          },
          "metadata": {
            "needs_background": "light"
          }
        },
        {
          "output_type": "stream",
          "name": "stdout",
          "text": [
            "\n"
          ]
        },
        {
          "output_type": "display_data",
          "data": {
            "text/plain": [
              "<Figure size 432x288 with 2 Axes>"
            ],
            "image/png": "[encoded data removed]"
          },
          "metadata": {
            "needs_background": "light"
          }
        }
      ]
    },
    {
      "cell_type": "markdown",
      "metadata": {
        "id": "2g2KqV-pRJmQ"
      },
      "source": [
        "# 5- Support Vector Machines "
      ]
    },
    {
      "cell_type": "markdown",
      "source": [
        "**Grid Search**"
      ],
      "metadata": {
        "id": "yG6NlOYv-zJ-"
      }
    },
    {
      "cell_type": "code",
      "execution_count": 24,
      "metadata": {
        "colab": {
          "base_uri": "https://localhost:8080/",
          "height": 1000
        },
        "id": "gcHpFxXJ-zJ-",
        "outputId": "ed960eaf-4442-40cc-f9bf-3de73ce90cf5"
      },
      "outputs": [
        {
          "output_type": "stream",
          "name": "stdout",
          "text": [
            "Fitting 5 folds for each of 30 candidates, totalling 150 fits\n",
            "[CV 1/5] END .....C=0.001, degree=2, kernel=rbf;, score=0.877 total time=   0.0s\n",
            "[CV 2/5] END .....C=0.001, degree=2, kernel=rbf;, score=0.877 total time=   0.0s\n",
            "[CV 3/5] END .....C=0.001, degree=2, kernel=rbf;, score=0.870 total time=   0.0s\n",
            "[CV 4/5] END .....C=0.001, degree=2, kernel=rbf;, score=0.876 total time=   0.0s\n",
            "[CV 5/5] END .....C=0.001, degree=2, kernel=rbf;, score=0.876 total time=   0.0s\n",
            "[CV 1/5] END ....C=0.001, degree=2, kernel=poly;, score=0.877 total time=   0.0s\n",
            "[CV 2/5] END ....C=0.001, degree=2, kernel=poly;, score=0.877 total time=   0.0s\n",
            "[CV 3/5] END ....C=0.001, degree=2, kernel=poly;, score=0.870 total time=   0.0s\n",
            "[CV 4/5] END ....C=0.001, degree=2, kernel=poly;, score=0.876 total time=   0.0s\n",
            "[CV 5/5] END ....C=0.001, degree=2, kernel=poly;, score=0.876 total time=   0.0s\n",
            "[CV 1/5] END .....C=0.001, degree=3, kernel=rbf;, score=0.877 total time=   0.0s\n",
            "[CV 2/5] END .....C=0.001, degree=3, kernel=rbf;, score=0.877 total time=   0.0s\n",
            "[CV 3/5] END .....C=0.001, degree=3, kernel=rbf;, score=0.870 total time=   0.0s\n",
            "[CV 4/5] END .....C=0.001, degree=3, kernel=rbf;, score=0.876 total time=   0.0s\n",
            "[CV 5/5] END .....C=0.001, degree=3, kernel=rbf;, score=0.876 total time=   0.0s\n",
            "[CV 1/5] END ....C=0.001, degree=3, kernel=poly;, score=0.877 total time=   0.0s\n",
            "[CV 2/5] END ....C=0.001, degree=3, kernel=poly;, score=0.877 total time=   0.0s\n",
            "[CV 3/5] END ....C=0.001, degree=3, kernel=poly;, score=0.870 total time=   0.0s\n",
            "[CV 4/5] END ....C=0.001, degree=3, kernel=poly;, score=0.876 total time=   0.0s\n",
            "[CV 5/5] END ....C=0.001, degree=3, kernel=poly;, score=0.876 total time=   0.0s\n",
            "[CV 1/5] END .....C=0.001, degree=4, kernel=rbf;, score=0.877 total time=   0.0s\n",
            "[CV 2/5] END .....C=0.001, degree=4, kernel=rbf;, score=0.877 total time=   0.0s\n",
            "[CV 3/5] END .....C=0.001, degree=4, kernel=rbf;, score=0.870 total time=   0.0s\n",
            "[CV 4/5] END .....C=0.001, degree=4, kernel=rbf;, score=0.876 total time=   0.0s\n",
            "[CV 5/5] END .....C=0.001, degree=4, kernel=rbf;, score=0.876 total time=   0.0s\n",
            "[CV 1/5] END ....C=0.001, degree=4, kernel=poly;, score=0.877 total time=   0.0s\n",
            "[CV 2/5] END ....C=0.001, degree=4, kernel=poly;, score=0.877 total time=   0.0s\n",
            "[CV 3/5] END ....C=0.001, degree=4, kernel=poly;, score=0.870 total time=   0.0s\n",
            "[CV 4/5] END ....C=0.001, degree=4, kernel=poly;, score=0.876 total time=   0.0s\n",
            "[CV 5/5] END ....C=0.001, degree=4, kernel=poly;, score=0.876 total time=   0.0s\n",
            "[CV 1/5] END ......C=0.01, degree=2, kernel=rbf;, score=0.877 total time=   0.0s\n",
            "[CV 2/5] END ......C=0.01, degree=2, kernel=rbf;, score=0.877 total time=   0.0s\n",
            "[CV 3/5] END ......C=0.01, degree=2, kernel=rbf;, score=0.870 total time=   0.0s\n",
            "[CV 4/5] END ......C=0.01, degree=2, kernel=rbf;, score=0.876 total time=   0.0s\n",
            "[CV 5/5] END ......C=0.01, degree=2, kernel=rbf;, score=0.876 total time=   0.0s\n",
            "[CV 1/5] END .....C=0.01, degree=2, kernel=poly;, score=0.877 total time=   0.0s\n",
            "[CV 2/5] END .....C=0.01, degree=2, kernel=poly;, score=0.877 total time=   0.0s\n",
            "[CV 3/5] END .....C=0.01, degree=2, kernel=poly;, score=0.870 total time=   0.0s\n",
            "[CV 4/5] END .....C=0.01, degree=2, kernel=poly;, score=0.876 total time=   0.0s\n",
            "[CV 5/5] END .....C=0.01, degree=2, kernel=poly;, score=0.876 total time=   0.0s\n",
            "[CV 1/5] END ......C=0.01, degree=3, kernel=rbf;, score=0.877 total time=   0.0s\n",
            "[CV 2/5] END ......C=0.01, degree=3, kernel=rbf;, score=0.877 total time=   0.0s\n",
            "[CV 3/5] END ......C=0.01, degree=3, kernel=rbf;, score=0.870 total time=   0.0s\n",
            "[CV 4/5] END ......C=0.01, degree=3, kernel=rbf;, score=0.876 total time=   0.0s\n",
            "[CV 5/5] END ......C=0.01, degree=3, kernel=rbf;, score=0.876 total time=   0.0s\n",
            "[CV 1/5] END .....C=0.01, degree=3, kernel=poly;, score=0.877 total time=   0.0s\n",
            "[CV 2/5] END .....C=0.01, degree=3, kernel=poly;, score=0.877 total time=   0.0s\n",
            "[CV 3/5] END .....C=0.01, degree=3, kernel=poly;, score=0.870 total time=   0.0s\n",
            "[CV 4/5] END .....C=0.01, degree=3, kernel=poly;, score=0.876 total time=   0.0s\n",
            "[CV 5/5] END .....C=0.01, degree=3, kernel=poly;, score=0.876 total time=   0.0s\n",
            "[CV 1/5] END ......C=0.01, degree=4, kernel=rbf;, score=0.877 total time=   0.0s\n",
            "[CV 2/5] END ......C=0.01, degree=4, kernel=rbf;, score=0.877 total time=   0.0s\n",
            "[CV 3/5] END ......C=0.01, degree=4, kernel=rbf;, score=0.870 total time=   0.0s\n",
            "[CV 4/5] END ......C=0.01, degree=4, kernel=rbf;, score=0.876 total time=   0.0s\n",
            "[CV 5/5] END ......C=0.01, degree=4, kernel=rbf;, score=0.876 total time=   0.0s\n",
            "[CV 1/5] END .....C=0.01, degree=4, kernel=poly;, score=0.884 total time=   0.0s\n",
            "[CV 2/5] END .....C=0.01, degree=4, kernel=poly;, score=0.877 total time=   0.0s\n",
            "[CV 3/5] END .....C=0.01, degree=4, kernel=poly;, score=0.870 total time=   0.0s\n",
            "[CV 4/5] END .....C=0.01, degree=4, kernel=poly;, score=0.876 total time=   0.0s\n",
            "[CV 5/5] END .....C=0.01, degree=4, kernel=poly;, score=0.883 total time=   0.0s\n",
            "[CV 1/5] END .........C=1, degree=2, kernel=rbf;, score=0.913 total time=   0.0s\n",
            "[CV 2/5] END .........C=1, degree=2, kernel=rbf;, score=0.906 total time=   0.0s\n",
            "[CV 3/5] END .........C=1, degree=2, kernel=rbf;, score=0.920 total time=   0.0s\n",
            "[CV 4/5] END .........C=1, degree=2, kernel=rbf;, score=0.949 total time=   0.0s\n",
            "[CV 5/5] END .........C=1, degree=2, kernel=rbf;, score=0.934 total time=   0.0s\n",
            "[CV 1/5] END ........C=1, degree=2, kernel=poly;, score=0.913 total time=   0.0s\n",
            "[CV 2/5] END ........C=1, degree=2, kernel=poly;, score=0.942 total time=   0.0s\n",
            "[CV 3/5] END ........C=1, degree=2, kernel=poly;, score=0.957 total time=   0.0s\n",
            "[CV 4/5] END ........C=1, degree=2, kernel=poly;, score=0.956 total time=   0.0s\n",
            "[CV 5/5] END ........C=1, degree=2, kernel=poly;, score=0.956 total time=   0.0s\n",
            "[CV 1/5] END .........C=1, degree=3, kernel=rbf;, score=0.913 total time=   0.0s\n",
            "[CV 2/5] END .........C=1, degree=3, kernel=rbf;, score=0.906 total time=   0.0s\n",
            "[CV 3/5] END .........C=1, degree=3, kernel=rbf;, score=0.920 total time=   0.0s\n",
            "[CV 4/5] END .........C=1, degree=3, kernel=rbf;, score=0.949 total time=   0.0s\n",
            "[CV 5/5] END .........C=1, degree=3, kernel=rbf;, score=0.934 total time=   0.0s\n",
            "[CV 1/5] END ........C=1, degree=3, kernel=poly;, score=0.913 total time=   0.0s\n",
            "[CV 2/5] END ........C=1, degree=3, kernel=poly;, score=0.928 total time=   0.0s\n",
            "[CV 3/5] END ........C=1, degree=3, kernel=poly;, score=0.942 total time=   0.0s\n",
            "[CV 4/5] END ........C=1, degree=3, kernel=poly;, score=0.949 total time=   0.0s\n",
            "[CV 5/5] END ........C=1, degree=3, kernel=poly;, score=0.956 total time=   0.0s\n",
            "[CV 1/5] END .........C=1, degree=4, kernel=rbf;, score=0.913 total time=   0.0s\n",
            "[CV 2/5] END .........C=1, degree=4, kernel=rbf;, score=0.906 total time=   0.0s\n",
            "[CV 3/5] END .........C=1, degree=4, kernel=rbf;, score=0.920 total time=   0.0s\n",
            "[CV 4/5] END .........C=1, degree=4, kernel=rbf;, score=0.949 total time=   0.0s\n",
            "[CV 5/5] END .........C=1, degree=4, kernel=rbf;, score=0.934 total time=   0.0s\n",
            "[CV 1/5] END ........C=1, degree=4, kernel=poly;, score=0.920 total time=   0.0s\n",
            "[CV 2/5] END ........C=1, degree=4, kernel=poly;, score=0.935 total time=   0.0s\n",
            "[CV 3/5] END ........C=1, degree=4, kernel=poly;, score=0.942 total time=   0.0s\n",
            "[CV 4/5] END ........C=1, degree=4, kernel=poly;, score=0.949 total time=   0.0s\n",
            "[CV 5/5] END ........C=1, degree=4, kernel=poly;, score=0.964 total time=   0.0s\n",
            "[CV 1/5] END .....C=100.0, degree=2, kernel=rbf;, score=0.928 total time=   0.0s\n",
            "[CV 2/5] END .....C=100.0, degree=2, kernel=rbf;, score=0.964 total time=   0.0s\n",
            "[CV 3/5] END .....C=100.0, degree=2, kernel=rbf;, score=0.964 total time=   0.0s\n",
            "[CV 4/5] END .....C=100.0, degree=2, kernel=rbf;, score=0.971 total time=   0.0s\n",
            "[CV 5/5] END .....C=100.0, degree=2, kernel=rbf;, score=0.956 total time=   0.0s\n",
            "[CV 1/5] END ....C=100.0, degree=2, kernel=poly;, score=0.942 total time=   0.0s\n",
            "[CV 2/5] END ....C=100.0, degree=2, kernel=poly;, score=0.957 total time=   0.0s\n",
            "[CV 3/5] END ....C=100.0, degree=2, kernel=poly;, score=0.957 total time=   0.0s\n",
            "[CV 4/5] END ....C=100.0, degree=2, kernel=poly;, score=0.993 total time=   0.0s\n",
            "[CV 5/5] END ....C=100.0, degree=2, kernel=poly;, score=0.942 total time=   0.0s\n",
            "[CV 1/5] END .....C=100.0, degree=3, kernel=rbf;, score=0.928 total time=   0.0s\n",
            "[CV 2/5] END .....C=100.0, degree=3, kernel=rbf;, score=0.964 total time=   0.0s\n",
            "[CV 3/5] END .....C=100.0, degree=3, kernel=rbf;, score=0.964 total time=   0.0s\n",
            "[CV 4/5] END .....C=100.0, degree=3, kernel=rbf;, score=0.971 total time=   0.0s\n",
            "[CV 5/5] END .....C=100.0, degree=3, kernel=rbf;, score=0.956 total time=   0.0s\n",
            "[CV 1/5] END ....C=100.0, degree=3, kernel=poly;, score=0.928 total time=   0.0s\n",
            "[CV 2/5] END ....C=100.0, degree=3, kernel=poly;, score=0.964 total time=   0.0s\n",
            "[CV 3/5] END ....C=100.0, degree=3, kernel=poly;, score=0.978 total time=   0.0s\n",
            "[CV 4/5] END ....C=100.0, degree=3, kernel=poly;, score=0.985 total time=   0.1s\n",
            "[CV 5/5] END ....C=100.0, degree=3, kernel=poly;, score=0.942 total time=   0.0s\n",
            "[CV 1/5] END .....C=100.0, degree=4, kernel=rbf;, score=0.928 total time=   0.0s\n",
            "[CV 2/5] END .....C=100.0, degree=4, kernel=rbf;, score=0.964 total time=   0.0s\n",
            "[CV 3/5] END .....C=100.0, degree=4, kernel=rbf;, score=0.964 total time=   0.0s\n",
            "[CV 4/5] END .....C=100.0, degree=4, kernel=rbf;, score=0.971 total time=   0.0s\n",
            "[CV 5/5] END .....C=100.0, degree=4, kernel=rbf;, score=0.956 total time=   0.0s\n",
            "[CV 1/5] END ....C=100.0, degree=4, kernel=poly;, score=0.928 total time=   0.1s\n",
            "[CV 2/5] END ....C=100.0, degree=4, kernel=poly;, score=0.964 total time=   0.1s\n",
            "[CV 3/5] END ....C=100.0, degree=4, kernel=poly;, score=0.971 total time=   0.1s\n",
            "[CV 4/5] END ....C=100.0, degree=4, kernel=poly;, score=0.978 total time=   0.1s\n",
            "[CV 5/5] END ....C=100.0, degree=4, kernel=poly;, score=0.971 total time=   0.1s\n",
            "[CV 1/5] END ....C=1000.0, degree=2, kernel=rbf;, score=0.928 total time=   0.0s\n",
            "[CV 2/5] END ....C=1000.0, degree=2, kernel=rbf;, score=0.971 total time=   0.0s\n",
            "[CV 3/5] END ....C=1000.0, degree=2, kernel=rbf;, score=0.978 total time=   0.0s\n",
            "[CV 4/5] END ....C=1000.0, degree=2, kernel=rbf;, score=0.993 total time=   0.0s\n",
            "[CV 5/5] END ....C=1000.0, degree=2, kernel=rbf;, score=0.971 total time=   0.0s\n",
            "[CV 1/5] END ...C=1000.0, degree=2, kernel=poly;, score=0.928 total time=   0.1s\n",
            "[CV 2/5] END ...C=1000.0, degree=2, kernel=poly;, score=0.964 total time=   0.1s\n",
            "[CV 3/5] END ...C=1000.0, degree=2, kernel=poly;, score=0.978 total time=   0.0s\n",
            "[CV 4/5] END ...C=1000.0, degree=2, kernel=poly;, score=0.993 total time=   0.1s\n",
            "[CV 5/5] END ...C=1000.0, degree=2, kernel=poly;, score=0.942 total time=   0.1s\n",
            "[CV 1/5] END ....C=1000.0, degree=3, kernel=rbf;, score=0.928 total time=   0.0s\n",
            "[CV 2/5] END ....C=1000.0, degree=3, kernel=rbf;, score=0.971 total time=   0.0s\n",
            "[CV 3/5] END ....C=1000.0, degree=3, kernel=rbf;, score=0.978 total time=   0.0s\n",
            "[CV 4/5] END ....C=1000.0, degree=3, kernel=rbf;, score=0.993 total time=   0.0s\n",
            "[CV 5/5] END ....C=1000.0, degree=3, kernel=rbf;, score=0.971 total time=   0.0s\n",
            "[CV 1/5] END ...C=1000.0, degree=3, kernel=poly;, score=0.935 total time=   0.2s\n",
            "[CV 2/5] END ...C=1000.0, degree=3, kernel=poly;, score=0.949 total time=   0.2s\n",
            "[CV 3/5] END ...C=1000.0, degree=3, kernel=poly;, score=0.964 total time=   0.1s\n",
            "[CV 4/5] END ...C=1000.0, degree=3, kernel=poly;, score=0.978 total time=   0.2s\n",
            "[CV 5/5] END ...C=1000.0, degree=3, kernel=poly;, score=0.964 total time=   0.3s\n",
            "[CV 1/5] END ....C=1000.0, degree=4, kernel=rbf;, score=0.928 total time=   0.0s\n",
            "[CV 2/5] END ....C=1000.0, degree=4, kernel=rbf;, score=0.971 total time=   0.0s\n",
            "[CV 3/5] END ....C=1000.0, degree=4, kernel=rbf;, score=0.978 total time=   0.0s\n",
            "[CV 4/5] END ....C=1000.0, degree=4, kernel=rbf;, score=0.993 total time=   0.0s\n",
            "[CV 5/5] END ....C=1000.0, degree=4, kernel=rbf;, score=0.971 total time=   0.0s\n",
            "[CV 1/5] END ...C=1000.0, degree=4, kernel=poly;, score=0.935 total time=   0.1s\n",
            "[CV 2/5] END ...C=1000.0, degree=4, kernel=poly;, score=0.964 total time=   0.2s\n",
            "[CV 3/5] END ...C=1000.0, degree=4, kernel=poly;, score=0.971 total time=   0.2s\n",
            "[CV 4/5] END ...C=1000.0, degree=4, kernel=poly;, score=0.978 total time=   0.3s\n",
            "[CV 5/5] END ...C=1000.0, degree=4, kernel=poly;, score=0.978 total time=   0.5s\n",
            "\n",
            "*********************************************************************\n",
            "\n",
            "SVC\n",
            "\n",
            "*********************************************************************\n",
            "\n",
            "After running the grid search with cross validation we found that the best Hyper-Parameter are :\n",
            "\n",
            "{'C': 1000.0, 'degree': 2, 'kernel': 'rbf'}\n",
            "\n",
            "*********************************************************************\n",
            "\n",
            "Grid Search Summary :\n",
            "\n"
          ]
        },
        {
          "output_type": "display_data",
          "data": {
            "text/plain": [
              "    mean_fit_time  std_fit_time  mean_score_time  std_score_time param_C  \\\n",
              "26       0.012254      0.001274         0.001680        0.000133  1000.0   \n",
              "24       0.023327      0.011061         0.001720        0.000052  1000.0   \n",
              "28       0.014166      0.003026         0.001950        0.000144  1000.0   \n",
              "29       0.266591      0.146938         0.004657        0.003809  1000.0   \n",
              "23       0.077783      0.019505         0.003982        0.004899   100.0   \n",
              "\n",
              "   param_degree param_kernel                                        params  \\\n",
              "26            3          rbf   {'C': 1000.0, 'degree': 3, 'kernel': 'rbf'}   \n",
              "24            2          rbf   {'C': 1000.0, 'degree': 2, 'kernel': 'rbf'}   \n",
              "28            4          rbf   {'C': 1000.0, 'degree': 4, 'kernel': 'rbf'}   \n",
              "29            4         poly  {'C': 1000.0, 'degree': 4, 'kernel': 'poly'}   \n",
              "23            4         poly   {'C': 100.0, 'degree': 4, 'kernel': 'poly'}   \n",
              "\n",
              "    split0_test_score  split1_test_score  split2_test_score  \\\n",
              "26           0.927536           0.971014           0.978261   \n",
              "24           0.927536           0.971014           0.978261   \n",
              "28           0.927536           0.971014           0.978261   \n",
              "29           0.934783           0.963768           0.971014   \n",
              "23           0.927536           0.963768           0.971014   \n",
              "\n",
              "    split3_test_score  split4_test_score  mean_test_score  std_test_score  \\\n",
              "26           0.992701           0.970803         0.968063        0.021770   \n",
              "24           0.992701           0.970803         0.968063        0.021770   \n",
              "28           0.992701           0.970803         0.968063        0.021770   \n",
              "29           0.978102           0.978102         0.965154        0.016087   \n",
              "23           0.978102           0.970803         0.962245        0.017937   \n",
              "\n",
              "    rank_test_score  \n",
              "26                1  \n",
              "24                1  \n",
              "28                1  \n",
              "29                4  \n",
              "23                5  "
            ],
            "text/html": [
              "\n",
              "  <div id=\"df-cddd956c-f7e7-49ba-a627-9f1964789a6c\">\n",
              "    <div class=\"colab-df-container\">\n",
              "      <div>\n",
              "<style scoped>\n",
              "    .dataframe tbody tr th:only-of-type {\n",
              "        vertical-align: middle;\n",
              "    }\n",
              "\n",
              "    .dataframe tbody tr th {\n",
              "        vertical-align: top;\n",
              "    }\n",
              "\n",
              "    .dataframe thead th {\n",
              "        text-align: right;\n",
              "    }\n",
              "</style>\n",
              "<table border=\"1\" class=\"dataframe\">\n",
              "  <thead>\n",
              "    <tr style=\"text-align: right;\">\n",
              "      <th></th>\n",
              "      <th>mean_fit_time</th>\n",
              "      <th>std_fit_time</th>\n",
              "      <th>mean_score_time</th>\n",
              "      <th>std_score_time</th>\n",
              "      <th>param_C</th>\n",
              "      <th>param_degree</th>\n",
              "      <th>param_kernel</th>\n",
              "      <th>params</th>\n",
              "      <th>split0_test_score</th>\n",
              "      <th>split1_test_score</th>\n",
              "      <th>split2_test_score</th>\n",
              "      <th>split3_test_score</th>\n",
              "      <th>split4_test_score</th>\n",
              "      <th>mean_test_score</th>\n",
              "      <th>std_test_score</th>\n",
              "      <th>rank_test_score</th>\n",
              "    </tr>\n",
              "  </thead>\n",
              "  <tbody>\n",
              "    <tr>\n",
              "      <th>26</th>\n",
              "      <td>0.012254</td>\n",
              "      <td>0.001274</td>\n",
              "      <td>0.001680</td>\n",
              "      <td>0.000133</td>\n",
              "      <td>1000.0</td>\n",
              "      <td>3</td>\n",
              "      <td>rbf</td>\n",
              "      <td>{'C': 1000.0, 'degree': 3, 'kernel': 'rbf'}</td>\n",
              "      <td>0.927536</td>\n",
              "      <td>0.971014</td>\n",
              "      <td>0.978261</td>\n",
              "      <td>0.992701</td>\n",
              "      <td>0.970803</td>\n",
              "      <td>0.968063</td>\n",
              "      <td>0.021770</td>\n",
              "      <td>1</td>\n",
              "    </tr>\n",
              "    <tr>\n",
              "      <th>24</th>\n",
              "      <td>0.023327</td>\n",
              "      <td>0.011061</td>\n",
              "      <td>0.001720</td>\n",
              "      <td>0.000052</td>\n",
              "      <td>1000.0</td>\n",
              "      <td>2</td>\n",
              "      <td>rbf</td>\n",
              "      <td>{'C': 1000.0, 'degree': 2, 'kernel': 'rbf'}</td>\n",
              "      <td>0.927536</td>\n",
              "      <td>0.971014</td>\n",
              "      <td>0.978261</td>\n",
              "      <td>0.992701</td>\n",
              "      <td>0.970803</td>\n",
              "      <td>0.968063</td>\n",
              "      <td>0.021770</td>\n",
              "      <td>1</td>\n",
              "    </tr>\n",
              "    <tr>\n",
              "      <th>28</th>\n",
              "      <td>0.014166</td>\n",
              "      <td>0.003026</td>\n",
              "      <td>0.001950</td>\n",
              "      <td>0.000144</td>\n",
              "      <td>1000.0</td>\n",
              "      <td>4</td>\n",
              "      <td>rbf</td>\n",
              "      <td>{'C': 1000.0, 'degree': 4, 'kernel': 'rbf'}</td>\n",
              "      <td>0.927536</td>\n",
              "      <td>0.971014</td>\n",
              "      <td>0.978261</td>\n",
              "      <td>0.992701</td>\n",
              "      <td>0.970803</td>\n",
              "      <td>0.968063</td>\n",
              "      <td>0.021770</td>\n",
              "      <td>1</td>\n",
              "    </tr>\n",
              "    <tr>\n",
              "      <th>29</th>\n",
              "      <td>0.266591</td>\n",
              "      <td>0.146938</td>\n",
              "      <td>0.004657</td>\n",
              "      <td>0.003809</td>\n",
              "      <td>1000.0</td>\n",
              "      <td>4</td>\n",
              "      <td>poly</td>\n",
              "      <td>{'C': 1000.0, 'degree': 4, 'kernel': 'poly'}</td>\n",
              "      <td>0.934783</td>\n",
              "      <td>0.963768</td>\n",
              "      <td>0.971014</td>\n",
              "      <td>0.978102</td>\n",
              "      <td>0.978102</td>\n",
              "      <td>0.965154</td>\n",
              "      <td>0.016087</td>\n",
              "      <td>4</td>\n",
              "    </tr>\n",
              "    <tr>\n",
              "      <th>23</th>\n",
              "      <td>0.077783</td>\n",
              "      <td>0.019505</td>\n",
              "      <td>0.003982</td>\n",
              "      <td>0.004899</td>\n",
              "      <td>100.0</td>\n",
              "      <td>4</td>\n",
              "      <td>poly</td>\n",
              "      <td>{'C': 100.0, 'degree': 4, 'kernel': 'poly'}</td>\n",
              "      <td>0.927536</td>\n",
              "      <td>0.963768</td>\n",
              "      <td>0.971014</td>\n",
              "      <td>0.978102</td>\n",
              "      <td>0.970803</td>\n",
              "      <td>0.962245</td>\n",
              "      <td>0.017937</td>\n",
              "      <td>5</td>\n",
              "    </tr>\n",
              "  </tbody>\n",
              "</table>\n",
              "</div>\n",
              "      <button class=\"colab-df-convert\" onclick=\"convertToInteractive('df-cddd956c-f7e7-49ba-a627-9f1964789a6c')\"\n",
              "              title=\"Convert this dataframe to an interactive table.\"\n",
              "              style=\"display:none;\">\n",
              "        \n",
              "  <svg xmlns=\"http://www.w3.org/2000/svg\" height=\"24px\"viewBox=\"0 0 24 24\"\n",
              "       width=\"24px\">\n",
              "    <path d=\"M0 0h24v24H0V0z\" fill=\"none\"/>\n",
              "    <path d=\"M18.56 5.44l.94 2.06.94-2.06 2.06-.94-2.06-.94-.94-2.06-.94 2.06-2.06.94zm-11 1L8.5 8.5l.94-2.06 2.06-.94-2.06-.94L8.5 2.5l-.94 2.06-2.06.94zm10 10l.94 2.06.94-2.06 2.06-.94-2.06-.94-.94-2.06-.94 2.06-2.06.94z\"/><path d=\"M17.41 7.96l-1.37-1.37c-.4-.4-.92-.59-1.43-.59-.52 0-1.04.2-1.43.59L10.3 9.45l-7.72 7.72c-.78.78-.78 2.05 0 2.83L4 21.41c.39.39.9.59 1.41.59.51 0 1.02-.2 1.41-.59l7.78-7.78 2.81-2.81c.8-.78.8-2.07 0-2.86zM5.41 20L4 18.59l7.72-7.72 1.47 1.35L5.41 20z\"/>\n",
              "  </svg>\n",
              "      </button>\n",
              "      \n",
              "  <style>\n",
              "    .colab-df-container {\n",
              "      display:flex;\n",
              "      flex-wrap:wrap;\n",
              "      gap: 12px;\n",
              "    }\n",
              "\n",
              "    .colab-df-convert {\n",
              "      background-color: #E8F0FE;\n",
              "      border: none;\n",
              "      border-radius: 50%;\n",
              "      cursor: pointer;\n",
              "      display: none;\n",
              "      fill: #1967D2;\n",
              "      height: 32px;\n",
              "      padding: 0 0 0 0;\n",
              "      width: 32px;\n",
              "    }\n",
              "\n",
              "    .colab-df-convert:hover {\n",
              "      background-color: #E2EBFA;\n",
              "      box-shadow: 0px 1px 2px rgba(60, 64, 67, 0.3), 0px 1px 3px 1px rgba(60, 64, 67, 0.15);\n",
              "      fill: #174EA6;\n",
              "    }\n",
              "\n",
              "    [theme=dark] .colab-df-convert {\n",
              "      background-color: #3B4455;\n",
              "      fill: #D2E3FC;\n",
              "    }\n",
              "\n",
              "    [theme=dark] .colab-df-convert:hover {\n",
              "      background-color: #434B5C;\n",
              "      box-shadow: 0px 1px 3px 1px rgba(0, 0, 0, 0.15);\n",
              "      filter: drop-shadow(0px 1px 2px rgba(0, 0, 0, 0.3));\n",
              "      fill: #FFFFFF;\n",
              "    }\n",
              "  </style>\n",
              "\n",
              "      <script>\n",
              "        const buttonEl =\n",
              "          document.querySelector('#df-cddd956c-f7e7-49ba-a627-9f1964789a6c button.colab-df-convert');\n",
              "        buttonEl.style.display =\n",
              "          google.colab.kernel.accessAllowed ? 'block' : 'none';\n",
              "\n",
              "        async function convertToInteractive(key) {\n",
              "          const element = document.querySelector('#df-cddd956c-f7e7-49ba-a627-9f1964789a6c');\n",
              "          const dataTable =\n",
              "            await google.colab.kernel.invokeFunction('convertToInteractive',\n",
              "                                                     [key], {});\n",
              "          if (!dataTable) return;\n",
              "\n",
              "          const docLinkHtml = 'Like what you see? Visit the ' +\n",
              "            '<a target=\"_blank\" href=https://colab.research.google.com/notebooks/data_table.ipynb>data table notebook</a>'\n",
              "            + ' to learn more about interactive tables.';\n",
              "          element.innerHTML = '';\n",
              "          dataTable['output_type'] = 'display_data';\n",
              "          await google.colab.output.renderOutput(dataTable, element);\n",
              "          const docLink = document.createElement('div');\n",
              "          docLink.innerHTML = docLinkHtml;\n",
              "          element.appendChild(docLink);\n",
              "        }\n",
              "      </script>\n",
              "    </div>\n",
              "  </div>\n",
              "  "
            ]
          },
          "metadata": {}
        },
        {
          "output_type": "stream",
          "name": "stdout",
          "text": [
            "\n",
            "*********************************************************************\n",
            "\n"
          ]
        },
        {
          "output_type": "display_data",
          "data": {
            "text/plain": [
              "<Figure size 432x288 with 1 Axes>"
            ],
            "image/png": "[encoded data removed]"
          },
          "metadata": {
            "needs_background": "light"
          }
        },
        {
          "output_type": "stream",
          "name": "stdout",
          "text": [
            "\n"
          ]
        }
      ],
      "source": [
        "parameters = {'kernel':['rbf', 'poly'],\n",
        "              'degree':list(range(2, 5)),\n",
        "              'C':[1e-3, 1e-2, 1, 1e2, 1e3]}\n",
        "\n",
        "svm = gridSearch(SVC(), parameters)"
      ]
    },
    {
      "cell_type": "markdown",
      "metadata": {
        "id": "EPYKY1Ek-zJ_"
      },
      "source": [
        "Classification Report"
      ]
    },
    {
      "cell_type": "code",
      "source": [
        "classificationReport(svm, X_test, y_test)"
      ],
      "metadata": {
        "id": "2qm7eCiX-zJ_",
        "colab": {
          "base_uri": "https://localhost:8080/",
          "height": 1000
        },
        "outputId": "9b7dcc36-b25b-4c2a-ab8e-36412c2fee05"
      },
      "execution_count": 25,
      "outputs": [
        {
          "output_type": "stream",
          "name": "stdout",
          "text": [
            "              precision    recall  f1-score   support\n",
            "\n",
            "           0       0.96      0.96      0.96       151\n",
            "           1       0.73      0.73      0.73        22\n",
            "\n",
            "    accuracy                           0.93       173\n",
            "   macro avg       0.84      0.84      0.84       173\n",
            "weighted avg       0.93      0.93      0.93       173\n",
            "\n",
            "\n"
          ]
        },
        {
          "output_type": "display_data",
          "data": {
            "text/plain": [
              "<Figure size 432x288 with 1 Axes>"
            ],
            "image/png": "[encoded data removed]"
          },
          "metadata": {
            "needs_background": "light"
          }
        },
        {
          "output_type": "stream",
          "name": "stdout",
          "text": [
            "\n"
          ]
        },
        {
          "output_type": "display_data",
          "data": {
            "text/plain": [
              "<Figure size 432x288 with 1 Axes>"
            ],
            "image/png": "[encoded data removed]"
          },
          "metadata": {
            "needs_background": "light"
          }
        },
        {
          "output_type": "stream",
          "name": "stdout",
          "text": [
            "\n"
          ]
        },
        {
          "output_type": "display_data",
          "data": {
            "text/plain": [
              "<Figure size 432x288 with 2 Axes>"
            ],
            "image/png": "[encoded data removed]"
          },
          "metadata": {
            "needs_background": "light"
          }
        }
      ]
    },
    {
      "cell_type": "markdown",
      "source": [
        "# Metrics Comparisons\n",
        "- ROC/AUC\n",
        "- F1 Scores\n",
        "- Accuracies"
      ],
      "metadata": {
        "id": "c74kwx3kDMg3"
      }
    },
    {
      "cell_type": "code",
      "source": [
        "def plotROC(model, fpr, tpr, roc_auc):\n",
        "    plt.title('Receiver Operating Characteristic')\n",
        "    plt.plot(fpr, tpr, label = f'{model.__class__.__name__} (AUC = {np.round(roc_auc, 2)})')\n",
        "    plt.ylabel('True Positive Rate')\n",
        "    plt.xlabel('False Positive Rate')"
      ],
      "metadata": {
        "id": "_CmvSkNjKmZw"
      },
      "execution_count": 26,
      "outputs": []
    },
    {
      "cell_type": "code",
      "source": [
        "def compareROC_AUC(models, X_test, y_test):\n",
        "  for model in models:\n",
        "    y_pred = model.predict(X_test)\n",
        "    fpr, tpr, thresholds = roc_curve(y_test, y_pred)\n",
        "    roc_auc = auc(fpr, tpr)\n",
        "    plotROC(model, fpr, tpr, roc_auc)\n",
        "  plt.title('ROC/AUC Comparison')\n",
        "  plt.legend()\n",
        "  plt.show()"
      ],
      "metadata": {
        "id": "QR-BaBRADMDN"
      },
      "execution_count": 27,
      "outputs": []
    },
    {
      "cell_type": "code",
      "source": [
        "def compareBar(data, labels, title):\n",
        "  caps = []\n",
        "  for label in labels:\n",
        "    caps.append(''.join(c for c in label if c.isupper()))\n",
        "  plt.bar(caps, data, width = 0.4)\n",
        "  for index, value in enumerate(data):\n",
        "    x = np.round(value, 2)\n",
        "    plt.text(index - 0.15, 0.05, str(x))\n",
        "  plt.title(title)\n",
        "  plt.show()"
      ],
      "metadata": {
        "id": "QY67V7rMA_Fi"
      },
      "execution_count": 28,
      "outputs": []
    },
    {
      "cell_type": "code",
      "source": [
        "print(f'Models of comparisons')\n",
        "print(models)\n",
        "print()\n",
        "compareROC_AUC(models, X_test, y_test)"
      ],
      "metadata": {
        "id": "azZtFCaVFDhg",
        "colab": {
          "base_uri": "https://localhost:8080/",
          "height": 367
        },
        "outputId": "7e1fe918-1ff1-49a0-cfd1-dc632daede4f"
      },
      "execution_count": 29,
      "outputs": [
        {
          "output_type": "stream",
          "name": "stdout",
          "text": [
            "Models of comparisons\n",
            "[KNeighborsClassifier(n_neighbors=3, p=1), LogisticRegression(C=1, penalty='l1', solver='liblinear'), MultinomialNB(alpha=1), DecisionTreeClassifier(max_depth=14, min_samples_split=5), SVC(C=1000.0, degree=2)]\n",
            "\n"
          ]
        },
        {
          "output_type": "display_data",
          "data": {
            "text/plain": [
              "<Figure size 432x288 with 1 Axes>"
            ],
            "image/png": "[encoded data removed]"
          },
          "metadata": {
            "needs_background": "light"
          }
        }
      ]
    },
    {
      "cell_type": "code",
      "source": [
        "compareBar(aucs, labels, 'AUC Comparison')"
      ],
      "metadata": {
        "id": "9FoIZHmwRgX-",
        "colab": {
          "base_uri": "https://localhost:8080/",
          "height": 281
        },
        "outputId": "1fc6439a-3aec-4594-a4a7-e3478a50ba57"
      },
      "execution_count": 30,
      "outputs": [
        {
          "output_type": "display_data",
          "data": {
            "text/plain": [
              "<Figure size 432x288 with 1 Axes>"
            ],
            "image/png": "[encoded data removed]"
          },
          "metadata": {
            "needs_background": "light"
          }
        }
      ]
    },
    {
      "cell_type": "code",
      "source": [
        "compareBar(accuracies, labels, 'Accuracies Comparison')"
      ],
      "metadata": {
        "id": "hTKRRvyLFQsO",
        "colab": {
          "base_uri": "https://localhost:8080/",
          "height": 281
        },
        "outputId": "02d1e506-7583-4db3-ae76-7f8612883958"
      },
      "execution_count": 31,
      "outputs": [
        {
          "output_type": "display_data",
          "data": {
            "text/plain": [
              "<Figure size 432x288 with 1 Axes>"
            ],
            "image/png": "[encoded data removed]"
          },
          "metadata": {
            "needs_background": "light"
          }
        }
      ]
    },
    {
      "cell_type": "code",
      "source": [
        "compareBar(f1scores, labels, 'F1 Scores Comparison')"
      ],
      "metadata": {
        "id": "WXN7Jz6FNxsb",
        "colab": {
          "base_uri": "https://localhost:8080/",
          "height": 281
        },
        "outputId": "fd209c7b-8755-4a11-b8c2-dc907fdcf64f"
      },
      "execution_count": 32,
      "outputs": [
        {
          "output_type": "display_data",
          "data": {
            "text/plain": [
              "<Figure size 432x288 with 1 Axes>"
            ],
            "image/png": "[encoded data removed]"
          },
          "metadata": {
            "needs_background": "light"
          }
        }
      ]
    },
    {
      "cell_type": "code",
      "source": [],
      "metadata": {
        "id": "IF5A_xAutyUA"
      },
      "execution_count": 32,
      "outputs": []
    }
  ],
  "metadata": {
    "colab": {
      "provenance": [],
      "collapsed_sections": [
        "mLFd-opUDC25",
        "BCQoOD6wcNbZ",
        "2ERZCX4RcWCZ",
        "r-O9XZGTcy_h",
        "Zc2McjcXeNw4",
        "JoiO8XfQedRB",
        "pHAO_L7sgFOZ",
        "AMgxTfqhb1vJ",
        "k9NOc49wh1VI",
        "zbw0Be-vJhNN",
        "8cfH9ETMkbIY",
        "0G5FOxxihL5o",
        "Of6oD9q98c3S",
        "7HmZA4B0-OlB",
        "saLZvnBZL3wI",
        "2g2KqV-pRJmQ",
        "c74kwx3kDMg3"
      ]
    },
    "kernelspec": {
      "display_name": "Python 3",
      "name": "python3"
    },
    "language_info": {
      "name": "python"
    },
    "accelerator": "GPU",
    "gpuClass": "standard"
  },
  "nbformat": 4,
  "nbformat_minor": 0
}