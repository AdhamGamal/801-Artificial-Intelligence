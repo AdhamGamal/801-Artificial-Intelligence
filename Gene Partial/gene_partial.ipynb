{
  "cells": [
    {
      "cell_type": "markdown",
      "metadata": {
        "id": "SBsCRqNAEbJD"
      },
      "source": [
        "# Lab:  Logistic Regression for Gene Expression Data\n",
        "\n",
        "In this lab, we use logistic regression to predict biological characteristics (\"phenotypes\") from gene expression data.  In addition to the concepts in [breast cancer demo](./breast_cancer.ipynb), you will learn to:\n",
        "* Handle missing data\n",
        "* Perform multi-class logistic classification\n",
        "* Create a confusion matrix\n",
        "* Use L1-regularization for improved estimation in the case of sparse weights (Grad students only)\n",
        "\n",
        "## Background\n",
        "\n",
        "Genes are the basic unit in the DNA and encode blueprints for proteins.  When proteins are synthesized from a gene, the gene is said to \"express\".  Micro-arrays are devices that measure the expression levels of large numbers of genes in parallel.  By finding correlations between expression levels and phenotypes, scientists can identify possible genetic markers for biological characteristics.\n",
        "\n",
        "The data in this lab comes from:\n",
        "\n",
        "https://archive.ics.uci.edu/ml/datasets/Mice+Protein+Expression\n",
        "\n",
        "In this data, mice were characterized by three properties:\n",
        "* Whether they had down's syndrome (trisomy) or not\n",
        "* Whether they were stimulated to learn or not\n",
        "* Whether they had a drug memantine or a saline control solution.\n",
        "\n",
        "With these three choices, there are 8 possible classes for each mouse.  For each mouse, the expression levels were measured across 77 genes.  We will see if the characteristics can be predicted from the gene expression levels.  This classification could reveal which genes are potentially involved in Down's syndrome and if drugs and learning have any noticeable effects.\n"
      ]
    },
    {
      "cell_type": "markdown",
      "metadata": {
        "id": "CN_QdJ8HEbJG"
      },
      "source": [
        "## Load the Data\n",
        "\n",
        "We begin by loading the standard modules."
      ]
    },
    {
      "cell_type": "code",
      "execution_count": 1,
      "metadata": {
        "id": "1Ll_1gsOEbJG"
      },
      "outputs": [],
      "source": [
        "import pandas as pd\n",
        "import numpy as np\n",
        "import matplotlib\n",
        "import matplotlib.pyplot as plt\n",
        "%matplotlib inline\n",
        "from sklearn import linear_model, preprocessing"
      ]
    },
    {
      "cell_type": "markdown",
      "metadata": {
        "id": "nHR63WgwEbJH"
      },
      "source": [
        "Use the `pd.read_excel` command to read the data from \n",
        "\n",
        "https://archive.ics.uci.edu/ml/machine-learning-databases/00342/Data_Cortex_Nuclear.xls\n",
        "\n",
        "into a dataframe `df`.  Use the `index_col` option to specify that column 0 is the index.  Use the `df.head()` to print the first few rows."
      ]
    },
    {
      "cell_type": "code",
      "execution_count": 2,
      "metadata": {
        "colab": {
          "base_uri": "https://localhost:8080/"
        },
        "id": "-L_RxV8tEbJH",
        "outputId": "a9113429-cde8-42f2-8d62-933961d18101"
      },
      "outputs": [
        {
          "output_type": "execute_result",
          "data": {
            "text/plain": [
              "(1080, 82)"
            ]
          },
          "metadata": {},
          "execution_count": 2
        }
      ],
      "source": [
        "# TODO\n",
        "df = pd.read_excel('https://archive.ics.uci.edu/ml/machine-learning-databases/00342/Data_Cortex_Nuclear.xls')\n",
        "df.shape"
      ]
    },
    {
      "cell_type": "markdown",
      "metadata": {
        "id": "EuSEG6XYEbJI"
      },
      "source": [
        "This data has missing values.  The site:\n",
        "\n",
        "http://pandas.pydata.org/pandas-docs/stable/missing_data.html\n",
        "\n",
        "has an excellent summary of methods to deal with missing values.  Following the techniques there, create a new data frame `df1` where the missing values in each column are filled with the mean values from the non-missing values."
      ]
    },
    {
      "cell_type": "code",
      "source": [
        "df[40:75]['pCFOS_N']"
      ],
      "metadata": {
        "colab": {
          "base_uri": "https://localhost:8080/"
        },
        "id": "xbiS3wYeHKC_",
        "outputId": "8d282004-14fe-4687-f954-bccb329f9260"
      },
      "execution_count": 3,
      "outputs": [
        {
          "output_type": "execute_result",
          "data": {
            "text/plain": [
              "40    0.132431\n",
              "41    0.121586\n",
              "42    0.109086\n",
              "43    0.123425\n",
              "44    0.124575\n",
              "45         NaN\n",
              "46         NaN\n",
              "47         NaN\n",
              "48         NaN\n",
              "49         NaN\n",
              "50         NaN\n",
              "51         NaN\n",
              "52         NaN\n",
              "53         NaN\n",
              "54         NaN\n",
              "55         NaN\n",
              "56         NaN\n",
              "57         NaN\n",
              "58         NaN\n",
              "59         NaN\n",
              "60    0.127805\n",
              "61    0.130997\n",
              "62    0.122870\n",
              "63    0.132692\n",
              "64    0.140960\n",
              "65    0.127291\n",
              "66    0.132730\n",
              "67    0.142773\n",
              "68    0.130793\n",
              "69    0.143351\n",
              "70    0.148772\n",
              "71    0.148578\n",
              "72    0.157487\n",
              "73    0.168545\n",
              "74    0.164195\n",
              "Name: pCFOS_N, dtype: float64"
            ]
          },
          "metadata": {},
          "execution_count": 3
        }
      ]
    },
    {
      "cell_type": "code",
      "execution_count": 4,
      "metadata": {
        "colab": {
          "base_uri": "https://localhost:8080/"
        },
        "id": "3YfXzrqOEbJI",
        "outputId": "1c28ea00-68b3-4707-f8b8-5420c31a070e"
      },
      "outputs": [
        {
          "output_type": "execute_result",
          "data": {
            "text/plain": [
              "40    0.132431\n",
              "41    0.121586\n",
              "42    0.109086\n",
              "43    0.123425\n",
              "44    0.124575\n",
              "45    0.131053\n",
              "46    0.131053\n",
              "47    0.131053\n",
              "48    0.131053\n",
              "49    0.131053\n",
              "50    0.131053\n",
              "51    0.131053\n",
              "52    0.131053\n",
              "53    0.131053\n",
              "54    0.131053\n",
              "55    0.131053\n",
              "56    0.131053\n",
              "57    0.131053\n",
              "58    0.131053\n",
              "59    0.131053\n",
              "60    0.127805\n",
              "61    0.130997\n",
              "62    0.122870\n",
              "63    0.132692\n",
              "64    0.140960\n",
              "65    0.127291\n",
              "66    0.132730\n",
              "67    0.142773\n",
              "68    0.130793\n",
              "69    0.143351\n",
              "70    0.148772\n",
              "71    0.148578\n",
              "72    0.157487\n",
              "73    0.168545\n",
              "74    0.164195\n",
              "Name: pCFOS_N, dtype: float64"
            ]
          },
          "metadata": {},
          "execution_count": 4
        }
      ],
      "source": [
        "# TODO\n",
        "df1 = df.where(pd.notna(df), df.mean(numeric_only = True), axis = \"columns\")\n",
        "df1[40:75]['pCFOS_N']"
      ]
    },
    {
      "cell_type": "markdown",
      "metadata": {
        "id": "D7Os0kdrEbJI"
      },
      "source": [
        "## Binary Classification for Down's Syndrome\n",
        "\n",
        "We will first predict the binary class label in `df1['Genotype']` which indicates if the mouse has Down's syndrome or not.  Get the string values in `df1['Genotype'].values` and convert this to a numeric vector `y` with 0 or 1.  You may wish to use the `np.unique` command with the `return_inverse=True` option."
      ]
    },
    {
      "cell_type": "code",
      "execution_count": 5,
      "metadata": {
        "colab": {
          "base_uri": "https://localhost:8080/"
        },
        "id": "G-xZEWENEbJJ",
        "outputId": "5c50755a-22f4-47ba-8d0d-ecce6b8c1a89"
      },
      "outputs": [
        {
          "output_type": "execute_result",
          "data": {
            "text/plain": [
              "array([0, 0, 0, ..., 1, 1, 1])"
            ]
          },
          "metadata": {},
          "execution_count": 5
        }
      ],
      "source": [
        "# TODO\n",
        "# model = linear_model.LinearRegression()\n",
        "y = np.unique(df1['Genotype'].values, return_inverse = True)[1]\n",
        "y"
      ]
    },
    {
      "cell_type": "markdown",
      "metadata": {
        "id": "lT2bme3kEbJJ"
      },
      "source": [
        "As predictors, get all but the last four columns of the dataframes.  Store the data matrix into `X` and the names of the columns in `xnames`."
      ]
    },
    {
      "cell_type": "code",
      "execution_count": 6,
      "metadata": {
        "colab": {
          "base_uri": "https://localhost:8080/",
          "height": 444
        },
        "id": "AQUpZwsKEbJJ",
        "outputId": "db7d9655-858f-4822-bb27-659e4f91feb8"
      },
      "outputs": [
        {
          "output_type": "stream",
          "name": "stdout",
          "text": [
            "['DYRK1A_N' 'ITSN1_N' 'BDNF_N' 'NR1_N' 'NR2A_N' 'pAKT_N' 'pBRAF_N'\n",
            " 'pCAMKII_N' 'pCREB_N' 'pELK_N' 'pERK_N' 'pJNK_N' 'PKCA_N' 'pMEK_N'\n",
            " 'pNR1_N' 'pNR2A_N' 'pNR2B_N' 'pPKCAB_N' 'pRSK_N' 'AKT_N' 'BRAF_N'\n",
            " 'CAMKII_N' 'CREB_N' 'ELK_N' 'ERK_N' 'GSK3B_N' 'JNK_N' 'MEK_N' 'TRKA_N'\n",
            " 'RSK_N' 'APP_N' 'Bcatenin_N' 'SOD1_N' 'MTOR_N' 'P38_N' 'pMTOR_N'\n",
            " 'DSCR1_N' 'AMPKA_N' 'NR2B_N' 'pNUMB_N' 'RAPTOR_N' 'TIAM1_N' 'pP70S6_N'\n",
            " 'NUMB_N' 'P70S6_N' 'pGSK3B_N' 'pPKCG_N' 'CDK5_N' 'S6_N' 'ADARB1_N'\n",
            " 'AcetylH3K9_N' 'RRP1_N' 'BAX_N' 'ARC_N' 'ERBB4_N' 'nNOS_N' 'Tau_N'\n",
            " 'GFAP_N' 'GluR3_N' 'GluR4_N' 'IL1B_N' 'P3525_N' 'pCASP9_N' 'PSD95_N'\n",
            " 'SNCA_N' 'Ubiquitin_N' 'pGSK3B_Tyr216_N' 'SHH_N' 'BAD_N' 'BCL2_N' 'pS6_N'\n",
            " 'pCFOS_N' 'SYP_N' 'H3AcK18_N' 'EGR1_N' 'H3MeK4_N' 'CaNA_N']\n",
            "(1080, 77)\n"
          ]
        },
        {
          "output_type": "execute_result",
          "data": {
            "text/plain": [
              "   DYRK1A_N   ITSN1_N    BDNF_N     NR1_N    NR2A_N    pAKT_N   pBRAF_N  \\\n",
              "0  0.503644  0.747193  0.430175  2.816329  5.990152  0.218830  0.177565   \n",
              "1  0.514617  0.689064  0.411770  2.789514  5.685038  0.211636  0.172817   \n",
              "2  0.509183  0.730247  0.418309  2.687201  5.622059  0.209011  0.175722   \n",
              "3  0.442107  0.617076  0.358626  2.466947  4.979503  0.222886  0.176463   \n",
              "4  0.434940  0.617430  0.358802  2.365785  4.718679  0.213106  0.173627   \n",
              "\n",
              "   pCAMKII_N   pCREB_N    pELK_N  ...     SHH_N     BAD_N    BCL2_N     pS6_N  \\\n",
              "0   2.373744  0.232224  1.750936  ...  0.188852  0.122652  0.134762  0.106305   \n",
              "1   2.292150  0.226972  1.596377  ...  0.200404  0.116682  0.134762  0.106592   \n",
              "2   2.283337  0.230247  1.561316  ...  0.193685  0.118508  0.134762  0.108303   \n",
              "3   2.152301  0.207004  1.595086  ...  0.192112  0.132781  0.134762  0.103184   \n",
              "4   2.134014  0.192158  1.504230  ...  0.205604  0.129954  0.134762  0.104784   \n",
              "\n",
              "    pCFOS_N     SYP_N  H3AcK18_N    EGR1_N  H3MeK4_N    CaNA_N  \n",
              "0  0.108336  0.427099   0.114783  0.131790  0.128186  1.675652  \n",
              "1  0.104315  0.441581   0.111974  0.135103  0.131119  1.743610  \n",
              "2  0.106219  0.435777   0.111883  0.133362  0.127431  1.926427  \n",
              "3  0.111262  0.391691   0.130405  0.147444  0.146901  1.700563  \n",
              "4  0.110694  0.434154   0.118481  0.140314  0.148380  1.839730  \n",
              "\n",
              "[5 rows x 77 columns]"
            ],
            "text/html": [
              "\n",
              "  <div id=\"df-9c263bed-ec76-432d-973a-761ce2bf3766\">\n",
              "    <div class=\"colab-df-container\">\n",
              "      <div>\n",
              "<style scoped>\n",
              "    .dataframe tbody tr th:only-of-type {\n",
              "        vertical-align: middle;\n",
              "    }\n",
              "\n",
              "    .dataframe tbody tr th {\n",
              "        vertical-align: top;\n",
              "    }\n",
              "\n",
              "    .dataframe thead th {\n",
              "        text-align: right;\n",
              "    }\n",
              "</style>\n",
              "<table border=\"1\" class=\"dataframe\">\n",
              "  <thead>\n",
              "    <tr style=\"text-align: right;\">\n",
              "      <th></th>\n",
              "      <th>DYRK1A_N</th>\n",
              "      <th>ITSN1_N</th>\n",
              "      <th>BDNF_N</th>\n",
              "      <th>NR1_N</th>\n",
              "      <th>NR2A_N</th>\n",
              "      <th>pAKT_N</th>\n",
              "      <th>pBRAF_N</th>\n",
              "      <th>pCAMKII_N</th>\n",
              "      <th>pCREB_N</th>\n",
              "      <th>pELK_N</th>\n",
              "      <th>...</th>\n",
              "      <th>SHH_N</th>\n",
              "      <th>BAD_N</th>\n",
              "      <th>BCL2_N</th>\n",
              "      <th>pS6_N</th>\n",
              "      <th>pCFOS_N</th>\n",
              "      <th>SYP_N</th>\n",
              "      <th>H3AcK18_N</th>\n",
              "      <th>EGR1_N</th>\n",
              "      <th>H3MeK4_N</th>\n",
              "      <th>CaNA_N</th>\n",
              "    </tr>\n",
              "  </thead>\n",
              "  <tbody>\n",
              "    <tr>\n",
              "      <th>0</th>\n",
              "      <td>0.503644</td>\n",
              "      <td>0.747193</td>\n",
              "      <td>0.430175</td>\n",
              "      <td>2.816329</td>\n",
              "      <td>5.990152</td>\n",
              "      <td>0.218830</td>\n",
              "      <td>0.177565</td>\n",
              "      <td>2.373744</td>\n",
              "      <td>0.232224</td>\n",
              "      <td>1.750936</td>\n",
              "      <td>...</td>\n",
              "      <td>0.188852</td>\n",
              "      <td>0.122652</td>\n",
              "      <td>0.134762</td>\n",
              "      <td>0.106305</td>\n",
              "      <td>0.108336</td>\n",
              "      <td>0.427099</td>\n",
              "      <td>0.114783</td>\n",
              "      <td>0.131790</td>\n",
              "      <td>0.128186</td>\n",
              "      <td>1.675652</td>\n",
              "    </tr>\n",
              "    <tr>\n",
              "      <th>1</th>\n",
              "      <td>0.514617</td>\n",
              "      <td>0.689064</td>\n",
              "      <td>0.411770</td>\n",
              "      <td>2.789514</td>\n",
              "      <td>5.685038</td>\n",
              "      <td>0.211636</td>\n",
              "      <td>0.172817</td>\n",
              "      <td>2.292150</td>\n",
              "      <td>0.226972</td>\n",
              "      <td>1.596377</td>\n",
              "      <td>...</td>\n",
              "      <td>0.200404</td>\n",
              "      <td>0.116682</td>\n",
              "      <td>0.134762</td>\n",
              "      <td>0.106592</td>\n",
              "      <td>0.104315</td>\n",
              "      <td>0.441581</td>\n",
              "      <td>0.111974</td>\n",
              "      <td>0.135103</td>\n",
              "      <td>0.131119</td>\n",
              "      <td>1.743610</td>\n",
              "    </tr>\n",
              "    <tr>\n",
              "      <th>2</th>\n",
              "      <td>0.509183</td>\n",
              "      <td>0.730247</td>\n",
              "      <td>0.418309</td>\n",
              "      <td>2.687201</td>\n",
              "      <td>5.622059</td>\n",
              "      <td>0.209011</td>\n",
              "      <td>0.175722</td>\n",
              "      <td>2.283337</td>\n",
              "      <td>0.230247</td>\n",
              "      <td>1.561316</td>\n",
              "      <td>...</td>\n",
              "      <td>0.193685</td>\n",
              "      <td>0.118508</td>\n",
              "      <td>0.134762</td>\n",
              "      <td>0.108303</td>\n",
              "      <td>0.106219</td>\n",
              "      <td>0.435777</td>\n",
              "      <td>0.111883</td>\n",
              "      <td>0.133362</td>\n",
              "      <td>0.127431</td>\n",
              "      <td>1.926427</td>\n",
              "    </tr>\n",
              "    <tr>\n",
              "      <th>3</th>\n",
              "      <td>0.442107</td>\n",
              "      <td>0.617076</td>\n",
              "      <td>0.358626</td>\n",
              "      <td>2.466947</td>\n",
              "      <td>4.979503</td>\n",
              "      <td>0.222886</td>\n",
              "      <td>0.176463</td>\n",
              "      <td>2.152301</td>\n",
              "      <td>0.207004</td>\n",
              "      <td>1.595086</td>\n",
              "      <td>...</td>\n",
              "      <td>0.192112</td>\n",
              "      <td>0.132781</td>\n",
              "      <td>0.134762</td>\n",
              "      <td>0.103184</td>\n",
              "      <td>0.111262</td>\n",
              "      <td>0.391691</td>\n",
              "      <td>0.130405</td>\n",
              "      <td>0.147444</td>\n",
              "      <td>0.146901</td>\n",
              "      <td>1.700563</td>\n",
              "    </tr>\n",
              "    <tr>\n",
              "      <th>4</th>\n",
              "      <td>0.434940</td>\n",
              "      <td>0.617430</td>\n",
              "      <td>0.358802</td>\n",
              "      <td>2.365785</td>\n",
              "      <td>4.718679</td>\n",
              "      <td>0.213106</td>\n",
              "      <td>0.173627</td>\n",
              "      <td>2.134014</td>\n",
              "      <td>0.192158</td>\n",
              "      <td>1.504230</td>\n",
              "      <td>...</td>\n",
              "      <td>0.205604</td>\n",
              "      <td>0.129954</td>\n",
              "      <td>0.134762</td>\n",
              "      <td>0.104784</td>\n",
              "      <td>0.110694</td>\n",
              "      <td>0.434154</td>\n",
              "      <td>0.118481</td>\n",
              "      <td>0.140314</td>\n",
              "      <td>0.148380</td>\n",
              "      <td>1.839730</td>\n",
              "    </tr>\n",
              "  </tbody>\n",
              "</table>\n",
              "<p>5 rows × 77 columns</p>\n",
              "</div>\n",
              "      <button class=\"colab-df-convert\" onclick=\"convertToInteractive('df-9c263bed-ec76-432d-973a-761ce2bf3766')\"\n",
              "              title=\"Convert this dataframe to an interactive table.\"\n",
              "              style=\"display:none;\">\n",
              "        \n",
              "  <svg xmlns=\"http://www.w3.org/2000/svg\" height=\"24px\"viewBox=\"0 0 24 24\"\n",
              "       width=\"24px\">\n",
              "    <path d=\"M0 0h24v24H0V0z\" fill=\"none\"/>\n",
              "    <path d=\"M18.56 5.44l.94 2.06.94-2.06 2.06-.94-2.06-.94-.94-2.06-.94 2.06-2.06.94zm-11 1L8.5 8.5l.94-2.06 2.06-.94-2.06-.94L8.5 2.5l-.94 2.06-2.06.94zm10 10l.94 2.06.94-2.06 2.06-.94-2.06-.94-.94-2.06-.94 2.06-2.06.94z\"/><path d=\"M17.41 7.96l-1.37-1.37c-.4-.4-.92-.59-1.43-.59-.52 0-1.04.2-1.43.59L10.3 9.45l-7.72 7.72c-.78.78-.78 2.05 0 2.83L4 21.41c.39.39.9.59 1.41.59.51 0 1.02-.2 1.41-.59l7.78-7.78 2.81-2.81c.8-.78.8-2.07 0-2.86zM5.41 20L4 18.59l7.72-7.72 1.47 1.35L5.41 20z\"/>\n",
              "  </svg>\n",
              "      </button>\n",
              "      \n",
              "  <style>\n",
              "    .colab-df-container {\n",
              "      display:flex;\n",
              "      flex-wrap:wrap;\n",
              "      gap: 12px;\n",
              "    }\n",
              "\n",
              "    .colab-df-convert {\n",
              "      background-color: #E8F0FE;\n",
              "      border: none;\n",
              "      border-radius: 50%;\n",
              "      cursor: pointer;\n",
              "      display: none;\n",
              "      fill: #1967D2;\n",
              "      height: 32px;\n",
              "      padding: 0 0 0 0;\n",
              "      width: 32px;\n",
              "    }\n",
              "\n",
              "    .colab-df-convert:hover {\n",
              "      background-color: #E2EBFA;\n",
              "      box-shadow: 0px 1px 2px rgba(60, 64, 67, 0.3), 0px 1px 3px 1px rgba(60, 64, 67, 0.15);\n",
              "      fill: #174EA6;\n",
              "    }\n",
              "\n",
              "    [theme=dark] .colab-df-convert {\n",
              "      background-color: #3B4455;\n",
              "      fill: #D2E3FC;\n",
              "    }\n",
              "\n",
              "    [theme=dark] .colab-df-convert:hover {\n",
              "      background-color: #434B5C;\n",
              "      box-shadow: 0px 1px 3px 1px rgba(0, 0, 0, 0.15);\n",
              "      filter: drop-shadow(0px 1px 2px rgba(0, 0, 0, 0.3));\n",
              "      fill: #FFFFFF;\n",
              "    }\n",
              "  </style>\n",
              "\n",
              "      <script>\n",
              "        const buttonEl =\n",
              "          document.querySelector('#df-9c263bed-ec76-432d-973a-761ce2bf3766 button.colab-df-convert');\n",
              "        buttonEl.style.display =\n",
              "          google.colab.kernel.accessAllowed ? 'block' : 'none';\n",
              "\n",
              "        async function convertToInteractive(key) {\n",
              "          const element = document.querySelector('#df-9c263bed-ec76-432d-973a-761ce2bf3766');\n",
              "          const dataTable =\n",
              "            await google.colab.kernel.invokeFunction('convertToInteractive',\n",
              "                                                     [key], {});\n",
              "          if (!dataTable) return;\n",
              "\n",
              "          const docLinkHtml = 'Like what you see? Visit the ' +\n",
              "            '<a target=\"_blank\" href=https://colab.research.google.com/notebooks/data_table.ipynb>data table notebook</a>'\n",
              "            + ' to learn more about interactive tables.';\n",
              "          element.innerHTML = '';\n",
              "          dataTable['output_type'] = 'display_data';\n",
              "          await google.colab.output.renderOutput(dataTable, element);\n",
              "          const docLink = document.createElement('div');\n",
              "          docLink.innerHTML = docLinkHtml;\n",
              "          element.appendChild(docLink);\n",
              "        }\n",
              "      </script>\n",
              "    </div>\n",
              "  </div>\n",
              "  "
            ]
          },
          "metadata": {},
          "execution_count": 6
        }
      ],
      "source": [
        "# TODO\n",
        "X = df1.iloc[:,1:-4]\n",
        "xnames = X.columns.values\n",
        "print(xnames)\n",
        "print(X.shape)\n",
        "X.head()"
      ]
    },
    {
      "cell_type": "markdown",
      "metadata": {
        "id": "MnAVE7F2EbJK"
      },
      "source": [
        "Split the data into training and test with 30% allocated for test.  You can use the train"
      ]
    },
    {
      "cell_type": "code",
      "execution_count": 7,
      "metadata": {
        "colab": {
          "base_uri": "https://localhost:8080/"
        },
        "id": "U76XHmdjEbJK",
        "outputId": "7391eec2-6f49-4e1d-a191-a94f4d0efa87"
      },
      "outputs": [
        {
          "output_type": "stream",
          "name": "stdout",
          "text": [
            "(756, 77)\n",
            "(324, 77)\n",
            "(756,)\n",
            "(324,)\n"
          ]
        }
      ],
      "source": [
        "from sklearn.model_selection import train_test_split\n",
        "\n",
        "# TODO:\n",
        "Xtr, Xts, ytr, yts = train_test_split(X, y, test_size = 0.3, random_state = 77)\n",
        "print(Xtr.shape)\n",
        "print(Xts.shape)\n",
        "print(ytr.shape)\n",
        "print(yts.shape)"
      ]
    },
    {
      "cell_type": "markdown",
      "metadata": {
        "id": "HcV1zEPvEbJK"
      },
      "source": [
        "Scale the data with the `StandardScaler`.  Store the scaled values in `Xtr1` and `Xts1`. "
      ]
    },
    {
      "cell_type": "code",
      "execution_count": 8,
      "metadata": {
        "id": "AS13vk60EbJK"
      },
      "outputs": [],
      "source": [
        "from sklearn.preprocessing import StandardScaler\n",
        "\n",
        "# TODO\n",
        "def scale(Xtr, Xts):\n",
        "  scaler = StandardScaler()\n",
        "  return scaler.fit_transform(Xtr), scaler.transform(Xts)\n",
        "\n",
        "Xtr1, Xts1 = scale(Xtr, Xts)"
      ]
    },
    {
      "cell_type": "markdown",
      "metadata": {
        "id": "Sc-do3cOEbJK"
      },
      "source": [
        "Create a `LogisticRegression` object `logreg` and `fit` on the scaled training data.  Set the regularization level to `C=1e5` and use the optimizer `solver=liblinear`. "
      ]
    },
    {
      "cell_type": "code",
      "execution_count": 9,
      "metadata": {
        "colab": {
          "base_uri": "https://localhost:8080/"
        },
        "id": "Q0K_a0lNEbJL",
        "outputId": "2a46acd7-9568-47ba-bba0-44767a0a39a9"
      },
      "outputs": [
        {
          "output_type": "execute_result",
          "data": {
            "text/plain": [
              "LogisticRegression(C=100000.0, max_iter=1000)"
            ]
          },
          "metadata": {},
          "execution_count": 9
        }
      ],
      "source": [
        "# TODO\n",
        "logreg = linear_model.LogisticRegression(C = 1e5, solver = 'lbfgs', max_iter = 1000)\n",
        "logreg.fit(Xtr1, ytr)"
      ]
    },
    {
      "cell_type": "markdown",
      "metadata": {
        "id": "sdm4zGmVEbJL"
      },
      "source": [
        "Measure the accuracy of the classifer on test data.  You should get around 94%.  "
      ]
    },
    {
      "cell_type": "code",
      "execution_count": 10,
      "metadata": {
        "colab": {
          "base_uri": "https://localhost:8080/"
        },
        "id": "CZjGhrS1EbJL",
        "outputId": "a3e86df7-aaa2-4d08-cbaf-755af5a9f895"
      },
      "outputs": [
        {
          "output_type": "stream",
          "name": "stdout",
          "text": [
            "Accuracy = 95.37 %\n"
          ]
        }
      ],
      "source": [
        "# TODO\n",
        "yhat = logreg.predict(Xts1)\n",
        "print(f'Accuracy = {round(logreg.score(Xts1, yts) * 100, 2)} %')"
      ]
    },
    {
      "cell_type": "markdown",
      "metadata": {
        "id": "dkM3KiqqEbJL"
      },
      "source": [
        "## Interpreting the weight vector"
      ]
    },
    {
      "cell_type": "markdown",
      "metadata": {
        "id": "q5iI2InGEbJL"
      },
      "source": [
        "Create a stem plot of the coefficients, `W` in the logistic regression model.  Jse the `plt.stem()` function with the `use_line_collection=True` option.  You can get the coefficients from `logreg.coef_`, but you will need to reshape this to a 1D array.  "
      ]
    },
    {
      "cell_type": "code",
      "execution_count": 11,
      "metadata": {
        "colab": {
          "base_uri": "https://localhost:8080/",
          "height": 282
        },
        "id": "J__d5uJBEbJL",
        "outputId": "39977b4e-661d-49ab-e908-591129e77028"
      },
      "outputs": [
        {
          "output_type": "execute_result",
          "data": {
            "text/plain": [
              "<StemContainer object of 3 artists>"
            ]
          },
          "metadata": {},
          "execution_count": 11
        },
        {
          "output_type": "display_data",
          "data": {
            "text/plain": [
              "<Figure size 432x288 with 1 Axes>"
            ],
            "image/png": "[encoded data removed]"
          },
          "metadata": {
            "needs_background": "light"
          }
        }
      ],
      "source": [
        "# TODO\n",
        "W = logreg.coef_.reshape(-1, 1)[:, 0]\n",
        "plt.stem(W, use_line_collection = True)"
      ]
    },
    {
      "cell_type": "markdown",
      "metadata": {
        "id": "WKAFhJglEbJM"
      },
      "source": [
        "You should see that `W[i]` is very large for a few components `i`.  These are the genes that are likely to be most involved in Down's Syndrome.   Below we will use L1 regression to enforce sparsity.  Find the names of the genes for two components `i` where the magnitude of `W[i]` is largest.  "
      ]
    },
    {
      "cell_type": "code",
      "execution_count": 12,
      "metadata": {
        "colab": {
          "base_uri": "https://localhost:8080/"
        },
        "id": "U1YvbTecEbJM",
        "outputId": "f5ea5a30-3242-444c-8302-6f2c5e397d0a"
      },
      "outputs": [
        {
          "output_type": "stream",
          "name": "stdout",
          "text": [
            "['ITSN1_N' 'APP_N']\n"
          ]
        }
      ],
      "source": [
        "# TODO\n",
        "W1 = sorted(W)\n",
        "print(xnames[(W == W1[-2]) + (W == W1[-1])])"
      ]
    },
    {
      "cell_type": "markdown",
      "metadata": {
        "id": "yqL_t0C9EbJM"
      },
      "source": [
        "## Cross Validation\n",
        "\n",
        "To obtain a slightly more accurate result, now perform 10-fold cross validation and measure the average precision, recall and f1-score.  Note, that in performing the cross-validation, you will want to randomly permute the test and training sets using the `shuffle` option.  In this data set, all the samples from each class are bunched together, so shuffling is essential.  Print the mean precision, recall and f1-score and error rate across all the folds."
      ]
    },
    {
      "cell_type": "code",
      "execution_count": 13,
      "metadata": {
        "colab": {
          "base_uri": "https://localhost:8080/"
        },
        "id": "WL4Yr1y9EbJM",
        "outputId": "a8017f36-c130-4094-eb3c-5cb80d1b31a5"
      },
      "outputs": [
        {
          "output_type": "stream",
          "name": "stdout",
          "text": [
            "Average of all precision  = 95.73 %\n",
            "Average of all recall     = 95.75 %\n",
            "Average of all f1         = 95.72 %\n",
            "Average of all Error Rate = 0.0426\n"
          ]
        }
      ],
      "source": [
        "from sklearn.model_selection import KFold\n",
        "from sklearn.metrics import precision_recall_fscore_support\n",
        "nfold = 10\n",
        "kf = KFold(n_splits = nfold, shuffle = True)\n",
        "\n",
        "# TODO\n",
        "all_precision = []\n",
        "all_recall = []\n",
        "all_fscore = []\n",
        "all_accuracy = []\n",
        "\n",
        "for xtr_split_indices, xts_split_indices in kf.split(X):\n",
        "  fXtr = X.iloc[xtr_split_indices, :]\n",
        "  fytr = y[xtr_split_indices]\n",
        "  fXts = X.iloc[xts_split_indices, :]\n",
        "  fyts = y[xts_split_indices]\n",
        "\n",
        "  Xtr1, Xts1 = scale(fXtr, fXts)\n",
        "  logreg = linear_model.LogisticRegression(C = 1e5, solver = 'lbfgs', max_iter = 1000)\n",
        "  logreg.fit(Xtr1, fytr)\n",
        "  yhat = logreg.predict(Xts1)\n",
        "\n",
        "  precision, recall, fscore, _ = precision_recall_fscore_support(fyts, yhat, average = 'macro')\n",
        "\n",
        "  all_precision.append(precision)\n",
        "  all_recall.append(recall)\n",
        "  all_fscore.append(fscore)\n",
        "  all_accuracy.append(np.mean(fyts == yhat))\n",
        "\n",
        "\n",
        "print(f'Average of all precision  = {round(np.mean(all_precision) * 100, 2)} %')\n",
        "print(f'Average of all recall     = {round(np.mean(all_recall) * 100, 2)} %')\n",
        "print(f'Average of all f1         = {round(np.mean(all_fscore) * 100, 2)} %')\n",
        "print(f'Average of all Error Rate = {round(1 - np.mean(all_accuracy) , 4)}')"
      ]
    },
    {
      "cell_type": "markdown",
      "metadata": {
        "id": "mxifGUrYEbJM"
      },
      "source": [
        "## Multi-Class Classification\n",
        "\n",
        "Now use the response variable in `df1['class']`.  This has 8 possible classes.  Use the `np.unique` funtion as before to convert this to a vector `y` with values 0 to 7."
      ]
    },
    {
      "cell_type": "code",
      "execution_count": 14,
      "metadata": {
        "colab": {
          "base_uri": "https://localhost:8080/"
        },
        "id": "_80EEyakEbJM",
        "outputId": "e222ff73-fe48-4435-8bdc-16113b19aaf0"
      },
      "outputs": [
        {
          "output_type": "execute_result",
          "data": {
            "text/plain": [
              "array([0, 0, 0, ..., 7, 7, 7])"
            ]
          },
          "metadata": {},
          "execution_count": 14
        }
      ],
      "source": [
        "# TODO\n",
        "y = np.unique(df1['class'], return_inverse = True)[1]\n",
        "y"
      ]
    },
    {
      "cell_type": "markdown",
      "metadata": {
        "id": "NvdVFn74EbJM"
      },
      "source": [
        "Fit a multi-class logistic model by creating a `LogisticRegression` object, `logreg` and then calling the `logreg.fit` method."
      ]
    },
    {
      "cell_type": "markdown",
      "metadata": {
        "id": "HcG1v2AXEbJM"
      },
      "source": [
        "Now perform 10-fold cross validation, and measure the confusion matrix `C` on the test data in each fold. You can use the `confustion_matrix` method in the `sklearn` package.  Add the confusion matrix counts across all folds and then normalize the rows of the confusion matrix so that they sum to one.  Thus, each element `C[i,j]` will represent the fraction of samples where `yhat==j` given `ytrue==i`.  Print the confusion matrix.  You can use the command\n",
        "\n",
        "    print(np.array_str(C, precision=4, suppress_small=True))\n",
        "    \n",
        "to create a nicely formatted print.  Also print the overall mean and SE of the test accuracy across the folds."
      ]
    },
    {
      "cell_type": "code",
      "execution_count": 15,
      "metadata": {
        "colab": {
          "base_uri": "https://localhost:8080/"
        },
        "id": "I6Z0FFkZEbJN",
        "outputId": "66752497-7ef5-48f2-a55e-1fc2df939b1a"
      },
      "outputs": [
        {
          "output_type": "stream",
          "name": "stdout",
          "text": [
            "Average of all precision = 90.13 %\n",
            "Average of all recall    = 89.81 %\n",
            "Average of all f1        = 89.52 %\n",
            "Average of all accuracy  = 89.81 %\n",
            "SE      of     accuracy  = 0.01\n",
            "\n",
            "[[[0.89 0.15 0.   0.   0.   0.   0.   0.  ]\n",
            "  [0.26 0.46 0.   0.   0.18 0.   0.   0.  ]\n",
            "  [0.   0.   1.   0.   0.   0.   0.   0.  ]\n",
            "  [0.   0.   0.   0.93 0.   0.   0.   0.11]\n",
            "  [0.   0.08 0.   0.   0.91 0.   0.   0.  ]\n",
            "  [0.   0.   0.   0.   0.   1.   0.   0.  ]\n",
            "  [0.   0.   0.33 0.   0.   0.   0.8  0.  ]\n",
            "  [0.   0.   0.   0.   0.   0.   0.   1.  ]]\n",
            "\n",
            " [[0.71 0.23 0.   0.   0.08 0.   0.   0.  ]\n",
            "  [0.   0.92 0.   0.   0.08 0.   0.   0.  ]\n",
            "  [0.   0.   1.   0.   0.   0.   0.   0.  ]\n",
            "  [0.   0.   0.   0.94 0.   0.   0.   0.05]\n",
            "  [0.   0.   0.   0.   1.   0.   0.   0.  ]\n",
            "  [0.   0.   0.   0.   0.   1.   0.   0.  ]\n",
            "  [0.   0.   0.18 0.   0.   0.   0.71 0.  ]\n",
            "  [0.   0.   0.   0.   0.   0.   0.   1.  ]]\n",
            "\n",
            " [[0.75 0.19 0.   0.   0.   0.   0.   0.  ]\n",
            "  [0.06 0.76 0.   0.   0.2  0.17 0.   0.  ]\n",
            "  [0.   0.   0.94 0.   0.   0.   0.12 0.  ]\n",
            "  [0.   0.   0.11 0.89 0.   0.   0.   0.  ]\n",
            "  [0.   0.05 0.   0.   0.9  0.   0.   0.  ]\n",
            "  [0.   0.   0.   0.   0.   1.   0.   0.  ]\n",
            "  [0.   0.   0.06 0.   0.   0.   0.88 0.  ]\n",
            "  [0.   0.   0.   0.   0.   0.   0.   1.  ]]\n",
            "\n",
            " [[0.7  0.   0.   0.   0.19 0.   0.   0.  ]\n",
            "  [0.1  0.91 0.   0.   0.   0.   0.   0.  ]\n",
            "  [0.   0.   1.   0.   0.   0.   0.   0.  ]\n",
            "  [0.   0.   0.   1.   0.   0.   0.   0.  ]\n",
            "  [0.   0.18 0.   0.   0.88 0.   0.   0.  ]\n",
            "  [0.   0.   0.   0.   0.   1.   0.   0.  ]\n",
            "  [0.   0.   0.23 0.   0.   0.   0.86 0.  ]\n",
            "  [0.   0.   0.   0.   0.   0.   0.   1.  ]]\n",
            "\n",
            " [[0.87 0.12 0.   0.   0.08 0.   0.   0.  ]\n",
            "  [0.07 0.75 0.   0.   0.08 0.   0.   0.  ]\n",
            "  [0.   0.   1.   0.   0.   0.   0.   0.  ]\n",
            "  [0.   0.   0.   1.   0.   0.   0.   0.  ]\n",
            "  [0.   0.   0.   0.   0.92 0.09 0.   0.  ]\n",
            "  [0.   0.   0.   0.   0.   1.   0.   0.  ]\n",
            "  [0.   0.   0.06 0.   0.   0.   0.95 0.  ]\n",
            "  [0.   0.   0.   0.   0.   0.   0.   1.  ]]\n",
            "\n",
            " [[0.89 0.07 0.   0.   0.08 0.   0.   0.  ]\n",
            "  [0.11 0.73 0.   0.   0.17 0.   0.   0.  ]\n",
            "  [0.   0.   1.   0.   0.   0.   0.   0.  ]\n",
            "  [0.   0.   0.   0.85 0.   0.   0.   0.17]\n",
            "  [0.   0.07 0.   0.   0.83 0.   0.   0.08]\n",
            "  [0.   0.07 0.   0.   0.08 0.78 0.   0.  ]\n",
            "  [0.   0.   0.07 0.   0.   0.   0.93 0.  ]\n",
            "  [0.   0.   0.   0.   0.   0.   0.   1.  ]]\n",
            "\n",
            " [[0.5  0.33 0.   0.   0.05 0.   0.   0.  ]\n",
            "  [0.2  0.5  0.   0.   0.15 0.08 0.   0.  ]\n",
            "  [0.   0.   1.   0.   0.   0.   0.   0.  ]\n",
            "  [0.   0.   0.   0.94 0.   0.   0.   0.07]\n",
            "  [0.   0.33 0.   0.   0.8  0.   0.   0.  ]\n",
            "  [0.   0.   0.   0.   0.05 0.92 0.   0.  ]\n",
            "  [0.   0.   0.06 0.   0.   0.   0.83 0.  ]\n",
            "  [0.   0.   0.   0.   0.   0.   0.   1.  ]]\n",
            "\n",
            " [[0.88 0.14 0.   0.   0.   0.   0.   0.  ]\n",
            "  [0.06 0.79 0.   0.   0.1  0.07 0.   0.  ]\n",
            "  [0.   0.   1.   0.   0.   0.   0.   0.  ]\n",
            "  [0.   0.   0.   1.   0.   0.   0.   0.  ]\n",
            "  [0.   0.   0.   0.   0.9  0.   0.   0.06]\n",
            "  [0.   0.   0.   0.   0.   1.   0.   0.  ]\n",
            "  [0.   0.   0.17 0.14 0.   0.   0.67 0.  ]\n",
            "  [0.   0.   0.   0.   0.   0.   0.   1.  ]]\n",
            "\n",
            " [[0.87 0.14 0.   0.   0.   0.   0.   0.  ]\n",
            "  [0.13 0.86 0.   0.   0.   0.   0.   0.  ]\n",
            "  [0.   0.   1.   0.   0.   0.   0.   0.  ]\n",
            "  [0.   0.   0.   1.   0.   0.   0.   0.  ]\n",
            "  [0.   0.   0.   0.   0.86 0.29 0.   0.  ]\n",
            "  [0.   0.   0.   0.   0.   1.   0.   0.  ]\n",
            "  [0.   0.   0.   0.   0.   0.   1.   0.  ]\n",
            "  [0.   0.   0.   0.   0.   0.   0.   1.  ]]\n",
            "\n",
            " [[0.76 0.21 0.   0.   0.06 0.   0.   0.  ]\n",
            "  [0.06 0.79 0.   0.   0.   0.33 0.   0.  ]\n",
            "  [0.   0.   1.   0.   0.   0.   0.   0.  ]\n",
            "  [0.   0.   0.   0.93 0.   0.   0.   0.07]\n",
            "  [0.   0.14 0.   0.   0.82 0.   0.   0.07]\n",
            "  [0.   0.   0.   0.   0.   1.   0.   0.  ]\n",
            "  [0.   0.   0.   0.   0.   0.   1.   0.  ]\n",
            "  [0.   0.   0.   0.   0.   0.   0.   1.  ]]]\n"
          ]
        }
      ],
      "source": [
        "from sklearn.metrics import confusion_matrix\n",
        "from sklearn.model_selection import KFold\n",
        "nfold = 10\n",
        "kf = KFold(n_splits = nfold, shuffle = True)\n",
        "\n",
        "# TODO\n",
        "all_precision = []\n",
        "all_recall = []\n",
        "all_fscore = []\n",
        "all_accuracy = []\n",
        "C = []\n",
        "\n",
        "for xtr_split_indices, xts_split_indices in kf.split(X):\n",
        "  fXtr = X.iloc[xtr_split_indices, :]\n",
        "  fytr = y[xtr_split_indices]\n",
        "  fXts = X.iloc[xts_split_indices, :]\n",
        "  fyts = y[xts_split_indices]\n",
        "\n",
        "  Xtr1, Xts1 = scale(fXtr, fXts)\n",
        "  logreg = linear_model.LogisticRegression(solver = 'lbfgs', max_iter = 1000)\n",
        "  logreg.fit(fXtr, fytr)\n",
        "  yhat = logreg.predict(fXts)\n",
        "\n",
        "  precision, recall, fscore, _ = precision_recall_fscore_support(fyts, yhat, average = 'macro')\n",
        "\n",
        "  all_precision.append(precision)\n",
        "  all_recall.append(recall)\n",
        "  all_fscore.append(fscore)\n",
        "  all_accuracy.append(np.mean(fyts == yhat))\n",
        "\n",
        "  cm = confusion_matrix(fyts, yhat)\n",
        "  C.append(np.round(cm.astype('float') / cm.sum(axis = 1), 2))\n",
        "\n",
        "print(f'Average of all precision = {round(np.mean(all_precision) * 100, 2)} %')\n",
        "print(f'Average of all recall    = {round(np.mean(all_recall) * 100, 2)} %')\n",
        "print(f'Average of all f1        = {round(np.mean(all_fscore) * 100, 2)} %')\n",
        "print(f'Average of all accuracy  = {round(np.mean(all_accuracy) * 100, 2)} %')\n",
        "print(f'SE      of     accuracy  = {round(np.std(all_accuracy) / np.sqrt(len(C[0])), 2)}')\n",
        "print()\n",
        "print(np.array_str(np.array(C), precision = 4, suppress_small = True))"
      ]
    },
    {
      "cell_type": "markdown",
      "metadata": {
        "id": "Lyg3uGrFEbJN"
      },
      "source": [
        "Re-run the logistic regression on the entire training data and get the weight coefficients.  This should be a 8 x 77 matrix.  Create a stem plot of the first row of this matrix to see the coefficients on each of the genes."
      ]
    },
    {
      "cell_type": "code",
      "execution_count": 16,
      "metadata": {
        "id": "RD-MjehMEbJN",
        "colab": {
          "base_uri": "https://localhost:8080/",
          "height": 300
        },
        "outputId": "6d896505-fd2c-4538-c745-952381171d02"
      },
      "outputs": [
        {
          "output_type": "stream",
          "name": "stdout",
          "text": [
            "Accuracy = 97.84 %\n"
          ]
        },
        {
          "output_type": "execute_result",
          "data": {
            "text/plain": [
              "<StemContainer object of 3 artists>"
            ]
          },
          "metadata": {},
          "execution_count": 16
        },
        {
          "output_type": "display_data",
          "data": {
            "text/plain": [
              "<Figure size 432x288 with 1 Axes>"
            ],
            "image/png": "[encoded data removed]"
          },
          "metadata": {
            "needs_background": "light"
          }
        }
      ],
      "source": [
        "# TODO\n",
        "Xtr, Xts, ytr, yts = train_test_split(X, y, test_size = 0.3, random_state = 16)\n",
        "Xtr1, Xts1 = scale(Xtr, Xts)\n",
        "logreg.fit(Xtr1, ytr)\n",
        "\n",
        "yhat = logreg.predict(Xts1)\n",
        "print(f'Accuracy = {round(logreg.score(Xts1, yts) * 100, 2)} %')\n",
        "\n",
        "W = logreg.coef_[0]\n",
        "plt.stem(W, use_line_collection = True)"
      ]
    },
    {
      "cell_type": "markdown",
      "metadata": {
        "collapsed": true,
        "id": "UpvU3esREbJN"
      },
      "source": [
        "## L1-Regularization\n",
        "\n",
        "This section is bonus.\n",
        "\n",
        "In most genetic problems, only a limited number of the tested genes are likely influence any particular attribute.  Hence, we would expect that the weight coefficients in the logistic regression model should be sparse.  That is, they should be zero on any gene that plays no role in the particular attribute of interest.  Genetic analysis commonly imposes sparsity by adding an l1-penalty term.  Read the `sklearn` [documentation](http://scikit-learn.org/stable/modules/generated/sklearn.linear_model.LogisticRegression.html) on the `LogisticRegression` class to see how to set the l1-penalty and the inverse regularization strength, `C`.\n",
        "\n",
        "Using the model selection strategies from the [housing demo](../unit05_lasso/demo2_housing.ipynb), use K-fold cross validation to select an appropriate inverse regularization strength.  \n",
        "* Use 10-fold cross validation \n",
        "* You should select around 20 values of `C`.  It is up to you find a good range.\n",
        "* Make appropriate plots and print out to display your results\n",
        "* How does the accuracy compare to the accuracy achieved without regularization."
      ]
    },
    {
      "cell_type": "code",
      "execution_count": 17,
      "metadata": {
        "id": "1_BahCXgEbJN"
      },
      "outputs": [],
      "source": [
        "# TODO\n",
        "nfold = 10\n",
        "kf = KFold(n_splits = nfold, shuffle = True)\n",
        "\n",
        "accuracy = pd.DataFrame(columns=['C IORS', 'Binary Accuracy', 'Multi Accuracy'])\n",
        "\n",
        "y_binary = np.unique(df1['Genotype'].values, return_inverse = True)[1]\n",
        "y_multi = np.unique(df1['class'], return_inverse = True)[1]\n",
        "\n",
        "all_binary_accuracy = []\n",
        "all_multi_accuracy = []\n",
        "\n",
        "C = np.logspace(-2, 2, 20)\n",
        "\n",
        "for c in C:\n",
        "  binary_accuracy = []\n",
        "  multi_accuracy = []\n",
        "  for xtr_split_indices, xts_split_indices in kf.split(X):\n",
        "    fXtr, fXts = X.iloc[xtr_split_indices, :], X.iloc[xts_split_indices, :]\n",
        "    fytr_binary, fytr_multi, fyts_binary, fyts_multi = y_binary[xtr_split_indices], y_multi[xtr_split_indices], y_binary[xts_split_indices], y_multi[xts_split_indices]\n",
        "\n",
        "    Xtr1, Xts1 = scale(fXtr, fXts)\n",
        "\n",
        "    logreg = linear_model.LogisticRegression(penalty = 'l1', C = c, solver = 'liblinear', max_iter = 1000)\n",
        "    logreg.fit(Xtr1, fytr_binary)\n",
        "    yhat_binary = logreg.predict(Xts1)\n",
        "\n",
        "    logreg.fit(Xtr1, fytr_multi)\n",
        "    yhat_multi = logreg.predict(Xts1)\n",
        "\n",
        "    binary_accuracy.append(np.mean(fyts_binary == yhat_binary))\n",
        "    multi_accuracy.append(np.mean(fyts_multi == yhat_multi))\n",
        "\n",
        "  all_binary_accuracy.append(round(np.mean(binary_accuracy) * 100, 2))\n",
        "  all_multi_accuracy.append(round(np.mean(multi_accuracy) * 100, 2))\n",
        "\n",
        "accuracy['C IORS'] = C\n",
        "accuracy['Binary Accuracy'] = all_binary_accuracy\n",
        "accuracy['Multi Accuracy'] = all_multi_accuracy"
      ]
    },
    {
      "cell_type": "code",
      "source": [
        "binary_accuracy = []\n",
        "multi_accuracy = []\n",
        "for xtr_split_indices, xts_split_indices in kf.split(X):\n",
        "  fXtr, fXts = X.iloc[xtr_split_indices, :], X.iloc[xts_split_indices, :]\n",
        "  fytr_binary, fytr_multi, fyts_binary, fyts_multi = y_binary[xtr_split_indices], y_multi[xtr_split_indices], y_binary[xts_split_indices], y_multi[xts_split_indices]\n",
        "\n",
        "  Xtr1, Xts1 = scale(fXtr, fXts)\n",
        "\n",
        "  logreg = linear_model.LogisticRegression(C = 1e5, solver = 'lbfgs', max_iter = 1000)\n",
        "  logreg.fit(Xtr1, fytr_binary)\n",
        "  yhat_binary = logreg.predict(Xts1)\n",
        "\n",
        "  logreg.fit(Xtr1, fytr_multi)\n",
        "  yhat_multi = logreg.predict(Xts1)\n",
        "\n",
        "  binary_accuracy.append(np.mean(fyts_binary == yhat_binary))\n",
        "  multi_accuracy.append(np.mean(fyts_multi == yhat_multi))"
      ],
      "metadata": {
        "id": "ihznRYxap15k"
      },
      "execution_count": 18,
      "outputs": []
    },
    {
      "cell_type": "code",
      "source": [
        "plt.plot(accuracy['C IORS'], accuracy['Binary Accuracy'], color = 'red')\n",
        "plt.plot(accuracy['C IORS'], accuracy['Multi Accuracy'], color = 'green')\n",
        "plt.title('Comparison')\n",
        "plt.xlabel('C IORS') \n",
        "plt.ylabel('Binary Accuracy/Multi Accuracy')\n",
        "plt.legend(['Binary Accuracy', 'Multi Accuracy'])\n",
        "plt.show()"
      ],
      "metadata": {
        "colab": {
          "base_uri": "https://localhost:8080/",
          "height": 295
        },
        "id": "oD0W6RaZvgta",
        "outputId": "5a7949fe-2f03-4739-eabb-ed41c84e036f"
      },
      "execution_count": 19,
      "outputs": [
        {
          "output_type": "display_data",
          "data": {
            "text/plain": [
              "<Figure size 432x288 with 1 Axes>"
            ],
            "image/png": "[encoded data removed]"
          },
          "metadata": {
            "needs_background": "light"
          }
        }
      ]
    },
    {
      "cell_type": "code",
      "source": [
        "print(f\"Max     of binary accuracy with    L1 = {accuracy['Binary Accuracy'].max()} %\")\n",
        "print(f'Average of binary accuracy without L1 = {round(np.mean(binary_accuracy) * 100, 2)} %')\n",
        "print\n",
        "print(f\"Max     of multi  accuracy with    L1 = {accuracy['Multi Accuracy'].max()} %\")\n",
        "print(f'Average of multi  accuracy without L1 = {round(np.mean(multi_accuracy) * 100, 2)} %')"
      ],
      "metadata": {
        "colab": {
          "base_uri": "https://localhost:8080/"
        },
        "id": "D8-PL9Q8p4PY",
        "outputId": "bf4bada5-d71b-46ae-e1ed-e6932d19971b"
      },
      "execution_count": 20,
      "outputs": [
        {
          "output_type": "stream",
          "name": "stdout",
          "text": [
            "Max     of binary accuracy with    L1 = 97.31 %\n",
            "Average of binary accuracy without L1 = 95.09 %\n",
            "Max     of multi  accuracy with    L1 = 99.26 %\n",
            "Average of multi  accuracy without L1 = 99.44 %\n"
          ]
        }
      ]
    },
    {
      "cell_type": "markdown",
      "source": [
        "# Report\n",
        "As Shown in the plot and the displayed output:\n",
        "-   Binary classifier accuracy with the L1 regularization is larger than the classifier accuracy without the L1 regularization.\n",
        "-   Multi classifier accuracy with the L1 regularization is Near to the classifier accuracy without the L1 regularization."
      ],
      "metadata": {
        "id": "XzJbcCS-ye4b"
      }
    }
  ],
  "metadata": {
    "anaconda-cloud": {},
    "kernelspec": {
      "display_name": "Python 3",
      "language": "python",
      "name": "python3"
    },
    "language_info": {
      "codemirror_mode": {
        "name": "ipython",
        "version": 3
      },
      "file_extension": ".py",
      "mimetype": "text/x-python",
      "name": "python",
      "nbconvert_exporter": "python",
      "pygments_lexer": "ipython3",
      "version": "3.7.4"
    },
    "colab": {
      "provenance": []
    }
  },
  "nbformat": 4,
  "nbformat_minor": 0
}